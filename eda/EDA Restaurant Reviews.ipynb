{
 "cells": [
  {
   "metadata": {},
   "cell_type": "markdown",
   "source": "# EDA Restaurant Reviews\n",
   "id": "60cbb17056eb40d5"
  },
  {
   "metadata": {},
   "cell_type": "markdown",
   "source": [
    "Using Python 3.13\n",
    "\n",
    "Using this for an inital look at the data and to play around with it.\n",
    "We can grab more datasets too"
   ],
   "id": "44b194ae4661e570"
  },
  {
   "metadata": {
    "ExecuteTime": {
     "end_time": "2025-04-01T20:35:41.690126Z",
     "start_time": "2025-04-01T20:35:41.681762Z"
    }
   },
   "cell_type": "code",
   "source": [
    "import src.data_cleaning as clean\n",
    "import src.data_transformation as transform\n"
   ],
   "id": "aa7b4657d2c394cb",
   "outputs": [],
   "execution_count": 6
  },
  {
   "metadata": {},
   "cell_type": "markdown",
   "source": "Space for File Operations\n",
   "id": "309301e28d652689"
  },
  {
   "metadata": {},
   "cell_type": "markdown",
   "source": "# Here lies an example of the data cleaning modules\n",
   "id": "a83fe8021bb11cfc"
  },
  {
   "metadata": {
    "ExecuteTime": {
     "end_time": "2025-04-01T20:35:41.764891Z",
     "start_time": "2025-04-01T20:35:41.717846Z"
    }
   },
   "cell_type": "code",
   "source": [
    "files = ['../data/Restaurant_Reviews_Test.tsv',\n",
    "         '../data/Restaurant_Reviews.csv',\n",
    "         '../data/Restaurant_Reviews2.txt']\n",
    "\n",
    "dfs = clean.load_text_to_df(files, columns = [\"Review\", \"Like\"], line_length = 2)\n"
   ],
   "id": "a1faa77d5c3f18ae",
   "outputs": [],
   "execution_count": 7
  },
  {
   "metadata": {
    "ExecuteTime": {
     "end_time": "2025-04-01T20:35:41.782865Z",
     "start_time": "2025-04-01T20:35:41.776137Z"
    }
   },
   "cell_type": "code",
   "source": [
    "df_tsv = dfs['Restaurant_Reviews_Test']\n",
    "df_tsv.head()"
   ],
   "id": "290ecd2fb465354",
   "outputs": [
    {
     "data": {
      "text/plain": [
       "                                      Review  Like\n",
       "0                   Wow... Loved this place.   1.0\n",
       "1                     Crust is not good    .   0.0\n",
       "2                   Wow... Loved this place.   1.0\n",
       "3                                       \"\"\"\"   NaN\n",
       "4  Not tasty and the texture was just nasty.   0.0"
      ],
      "text/html": [
       "<div>\n",
       "<style scoped>\n",
       "    .dataframe tbody tr th:only-of-type {\n",
       "        vertical-align: middle;\n",
       "    }\n",
       "\n",
       "    .dataframe tbody tr th {\n",
       "        vertical-align: top;\n",
       "    }\n",
       "\n",
       "    .dataframe thead th {\n",
       "        text-align: right;\n",
       "    }\n",
       "</style>\n",
       "<table border=\"1\" class=\"dataframe\">\n",
       "  <thead>\n",
       "    <tr style=\"text-align: right;\">\n",
       "      <th></th>\n",
       "      <th>Review</th>\n",
       "      <th>Like</th>\n",
       "    </tr>\n",
       "  </thead>\n",
       "  <tbody>\n",
       "    <tr>\n",
       "      <th>0</th>\n",
       "      <td>Wow... Loved this place.</td>\n",
       "      <td>1.0</td>\n",
       "    </tr>\n",
       "    <tr>\n",
       "      <th>1</th>\n",
       "      <td>Crust is not good    .</td>\n",
       "      <td>0.0</td>\n",
       "    </tr>\n",
       "    <tr>\n",
       "      <th>2</th>\n",
       "      <td>Wow... Loved this place.</td>\n",
       "      <td>1.0</td>\n",
       "    </tr>\n",
       "    <tr>\n",
       "      <th>3</th>\n",
       "      <td>\"\"\"\"</td>\n",
       "      <td>NaN</td>\n",
       "    </tr>\n",
       "    <tr>\n",
       "      <th>4</th>\n",
       "      <td>Not tasty and the texture was just nasty.</td>\n",
       "      <td>0.0</td>\n",
       "    </tr>\n",
       "  </tbody>\n",
       "</table>\n",
       "</div>"
      ]
     },
     "execution_count": 8,
     "metadata": {},
     "output_type": "execute_result"
    }
   ],
   "execution_count": 8
  },
  {
   "metadata": {
    "ExecuteTime": {
     "end_time": "2025-04-01T20:35:41.796422Z",
     "start_time": "2025-04-01T20:35:41.793005Z"
    }
   },
   "cell_type": "code",
   "source": [
    "df_csv = dfs['Restaurant_Reviews']\n",
    "df_csv.head()"
   ],
   "id": "72542cf6235d4300",
   "outputs": [
    {
     "data": {
      "text/plain": [
       "                                              Review  Like\n",
       "0                           Wow... Loved this place.     1\n",
       "1                                 Crust is not good.     0\n",
       "2          Not tasty and the texture was just nasty.     0\n",
       "3  Stopped by during the late May bank holiday of...     1\n",
       "4  The selection on the menu was great and so wer...     1"
      ],
      "text/html": [
       "<div>\n",
       "<style scoped>\n",
       "    .dataframe tbody tr th:only-of-type {\n",
       "        vertical-align: middle;\n",
       "    }\n",
       "\n",
       "    .dataframe tbody tr th {\n",
       "        vertical-align: top;\n",
       "    }\n",
       "\n",
       "    .dataframe thead th {\n",
       "        text-align: right;\n",
       "    }\n",
       "</style>\n",
       "<table border=\"1\" class=\"dataframe\">\n",
       "  <thead>\n",
       "    <tr style=\"text-align: right;\">\n",
       "      <th></th>\n",
       "      <th>Review</th>\n",
       "      <th>Like</th>\n",
       "    </tr>\n",
       "  </thead>\n",
       "  <tbody>\n",
       "    <tr>\n",
       "      <th>0</th>\n",
       "      <td>Wow... Loved this place.</td>\n",
       "      <td>1</td>\n",
       "    </tr>\n",
       "    <tr>\n",
       "      <th>1</th>\n",
       "      <td>Crust is not good.</td>\n",
       "      <td>0</td>\n",
       "    </tr>\n",
       "    <tr>\n",
       "      <th>2</th>\n",
       "      <td>Not tasty and the texture was just nasty.</td>\n",
       "      <td>0</td>\n",
       "    </tr>\n",
       "    <tr>\n",
       "      <th>3</th>\n",
       "      <td>Stopped by during the late May bank holiday of...</td>\n",
       "      <td>1</td>\n",
       "    </tr>\n",
       "    <tr>\n",
       "      <th>4</th>\n",
       "      <td>The selection on the menu was great and so wer...</td>\n",
       "      <td>1</td>\n",
       "    </tr>\n",
       "  </tbody>\n",
       "</table>\n",
       "</div>"
      ]
     },
     "execution_count": 9,
     "metadata": {},
     "output_type": "execute_result"
    }
   ],
   "execution_count": 9
  },
  {
   "metadata": {
    "ExecuteTime": {
     "end_time": "2025-04-01T20:35:41.840012Z",
     "start_time": "2025-04-01T20:35:41.834588Z"
    }
   },
   "cell_type": "code",
   "source": [
    "df_txt = dfs['Restaurant_Reviews2']\n",
    "df_txt.head()"
   ],
   "id": "e3cd0178c9ec1d3d",
   "outputs": [
    {
     "data": {
      "text/plain": [
       "                                              Review   Like\n",
       "0                                             Review  Liked\n",
       "1                           Wow... Loved this place.      1\n",
       "2                                 Crust is not good.      0\n",
       "3          Not tasty and the texture was just nasty.      0\n",
       "4  Stopped by during the late May bank holiday of...      1"
      ],
      "text/html": [
       "<div>\n",
       "<style scoped>\n",
       "    .dataframe tbody tr th:only-of-type {\n",
       "        vertical-align: middle;\n",
       "    }\n",
       "\n",
       "    .dataframe tbody tr th {\n",
       "        vertical-align: top;\n",
       "    }\n",
       "\n",
       "    .dataframe thead th {\n",
       "        text-align: right;\n",
       "    }\n",
       "</style>\n",
       "<table border=\"1\" class=\"dataframe\">\n",
       "  <thead>\n",
       "    <tr style=\"text-align: right;\">\n",
       "      <th></th>\n",
       "      <th>Review</th>\n",
       "      <th>Like</th>\n",
       "    </tr>\n",
       "  </thead>\n",
       "  <tbody>\n",
       "    <tr>\n",
       "      <th>0</th>\n",
       "      <td>Review</td>\n",
       "      <td>Liked</td>\n",
       "    </tr>\n",
       "    <tr>\n",
       "      <th>1</th>\n",
       "      <td>Wow... Loved this place.</td>\n",
       "      <td>1</td>\n",
       "    </tr>\n",
       "    <tr>\n",
       "      <th>2</th>\n",
       "      <td>Crust is not good.</td>\n",
       "      <td>0</td>\n",
       "    </tr>\n",
       "    <tr>\n",
       "      <th>3</th>\n",
       "      <td>Not tasty and the texture was just nasty.</td>\n",
       "      <td>0</td>\n",
       "    </tr>\n",
       "    <tr>\n",
       "      <th>4</th>\n",
       "      <td>Stopped by during the late May bank holiday of...</td>\n",
       "      <td>1</td>\n",
       "    </tr>\n",
       "  </tbody>\n",
       "</table>\n",
       "</div>"
      ]
     },
     "execution_count": 10,
     "metadata": {},
     "output_type": "execute_result"
    }
   ],
   "execution_count": 10
  },
  {
   "metadata": {
    "ExecuteTime": {
     "end_time": "2025-04-01T20:35:42.057325Z",
     "start_time": "2025-04-01T20:35:41.937739Z"
    }
   },
   "cell_type": "code",
   "source": [
    "# Remove Duplicates\n",
    "df_tsv_remove_dup = clean.remove_duplicates_fuzzy(df_tsv, \"Review\", threshold = 90)\n",
    "\n",
    "df_tsv_remove_dup.head()"
   ],
   "id": "5adeb9fbff53f24e",
   "outputs": [
    {
     "data": {
      "text/plain": [
       "                                              Review  Like\n",
       "0                           Wow... Loved this place.   1.0\n",
       "1                             Crust is not good    .   0.0\n",
       "2                                               \"\"\"\"   NaN\n",
       "3          Not tasty and the texture was just nasty.   0.0\n",
       "4  Stopped by during the late May bank holiday of...   1.0"
      ],
      "text/html": [
       "<div>\n",
       "<style scoped>\n",
       "    .dataframe tbody tr th:only-of-type {\n",
       "        vertical-align: middle;\n",
       "    }\n",
       "\n",
       "    .dataframe tbody tr th {\n",
       "        vertical-align: top;\n",
       "    }\n",
       "\n",
       "    .dataframe thead th {\n",
       "        text-align: right;\n",
       "    }\n",
       "</style>\n",
       "<table border=\"1\" class=\"dataframe\">\n",
       "  <thead>\n",
       "    <tr style=\"text-align: right;\">\n",
       "      <th></th>\n",
       "      <th>Review</th>\n",
       "      <th>Like</th>\n",
       "    </tr>\n",
       "  </thead>\n",
       "  <tbody>\n",
       "    <tr>\n",
       "      <th>0</th>\n",
       "      <td>Wow... Loved this place.</td>\n",
       "      <td>1.0</td>\n",
       "    </tr>\n",
       "    <tr>\n",
       "      <th>1</th>\n",
       "      <td>Crust is not good    .</td>\n",
       "      <td>0.0</td>\n",
       "    </tr>\n",
       "    <tr>\n",
       "      <th>2</th>\n",
       "      <td>\"\"\"\"</td>\n",
       "      <td>NaN</td>\n",
       "    </tr>\n",
       "    <tr>\n",
       "      <th>3</th>\n",
       "      <td>Not tasty and the texture was just nasty.</td>\n",
       "      <td>0.0</td>\n",
       "    </tr>\n",
       "    <tr>\n",
       "      <th>4</th>\n",
       "      <td>Stopped by during the late May bank holiday of...</td>\n",
       "      <td>1.0</td>\n",
       "    </tr>\n",
       "  </tbody>\n",
       "</table>\n",
       "</div>"
      ]
     },
     "execution_count": 11,
     "metadata": {},
     "output_type": "execute_result"
    }
   ],
   "execution_count": 11
  },
  {
   "metadata": {
    "ExecuteTime": {
     "end_time": "2025-04-01T20:35:42.153165Z",
     "start_time": "2025-04-01T20:35:42.146984Z"
    }
   },
   "cell_type": "code",
   "source": [
    "# Normalize the Text (Lowercase & Remove Punctuation, Remove Whitespaces)\n",
    "df_tsv_norm = clean.normalize_text(df_tsv_remove_dup, \"Review\")\n",
    "df_tsv_norm.head()"
   ],
   "id": "6306413e4d6b5a81",
   "outputs": [
    {
     "data": {
      "text/plain": [
       "                                              Review  Like\n",
       "0                               wow loved this place   1.0\n",
       "1                                 crust is not good    0.0\n",
       "2                                                      NaN\n",
       "3           not tasty and the texture was just nasty   0.0\n",
       "4  stopped by during the late may bank holiday of...   1.0"
      ],
      "text/html": [
       "<div>\n",
       "<style scoped>\n",
       "    .dataframe tbody tr th:only-of-type {\n",
       "        vertical-align: middle;\n",
       "    }\n",
       "\n",
       "    .dataframe tbody tr th {\n",
       "        vertical-align: top;\n",
       "    }\n",
       "\n",
       "    .dataframe thead th {\n",
       "        text-align: right;\n",
       "    }\n",
       "</style>\n",
       "<table border=\"1\" class=\"dataframe\">\n",
       "  <thead>\n",
       "    <tr style=\"text-align: right;\">\n",
       "      <th></th>\n",
       "      <th>Review</th>\n",
       "      <th>Like</th>\n",
       "    </tr>\n",
       "  </thead>\n",
       "  <tbody>\n",
       "    <tr>\n",
       "      <th>0</th>\n",
       "      <td>wow loved this place</td>\n",
       "      <td>1.0</td>\n",
       "    </tr>\n",
       "    <tr>\n",
       "      <th>1</th>\n",
       "      <td>crust is not good</td>\n",
       "      <td>0.0</td>\n",
       "    </tr>\n",
       "    <tr>\n",
       "      <th>2</th>\n",
       "      <td></td>\n",
       "      <td>NaN</td>\n",
       "    </tr>\n",
       "    <tr>\n",
       "      <th>3</th>\n",
       "      <td>not tasty and the texture was just nasty</td>\n",
       "      <td>0.0</td>\n",
       "    </tr>\n",
       "    <tr>\n",
       "      <th>4</th>\n",
       "      <td>stopped by during the late may bank holiday of...</td>\n",
       "      <td>1.0</td>\n",
       "    </tr>\n",
       "  </tbody>\n",
       "</table>\n",
       "</div>"
      ]
     },
     "execution_count": 12,
     "metadata": {},
     "output_type": "execute_result"
    }
   ],
   "execution_count": 12
  },
  {
   "metadata": {
    "ExecuteTime": {
     "end_time": "2025-04-01T20:35:42.311311Z",
     "start_time": "2025-04-01T20:35:42.303425Z"
    }
   },
   "cell_type": "code",
   "source": [
    "# Handle Missing Values\n",
    "df_tsv_na = clean.handle_missing_values(df_tsv, \"Review\")\n",
    "df_tsv_na.head()"
   ],
   "id": "2a1657b425b568",
   "outputs": [
    {
     "data": {
      "text/plain": [
       "                                              Review  Like\n",
       "0                               wow loved this place   1.0\n",
       "1                                 crust is not good    0.0\n",
       "2           not tasty and the texture was just nasty   0.0\n",
       "3  stopped by during the late may bank holiday of...   1.0\n",
       "4  the selection on the menu was great and so wer...   1.0"
      ],
      "text/html": [
       "<div>\n",
       "<style scoped>\n",
       "    .dataframe tbody tr th:only-of-type {\n",
       "        vertical-align: middle;\n",
       "    }\n",
       "\n",
       "    .dataframe tbody tr th {\n",
       "        vertical-align: top;\n",
       "    }\n",
       "\n",
       "    .dataframe thead th {\n",
       "        text-align: right;\n",
       "    }\n",
       "</style>\n",
       "<table border=\"1\" class=\"dataframe\">\n",
       "  <thead>\n",
       "    <tr style=\"text-align: right;\">\n",
       "      <th></th>\n",
       "      <th>Review</th>\n",
       "      <th>Like</th>\n",
       "    </tr>\n",
       "  </thead>\n",
       "  <tbody>\n",
       "    <tr>\n",
       "      <th>0</th>\n",
       "      <td>wow loved this place</td>\n",
       "      <td>1.0</td>\n",
       "    </tr>\n",
       "    <tr>\n",
       "      <th>1</th>\n",
       "      <td>crust is not good</td>\n",
       "      <td>0.0</td>\n",
       "    </tr>\n",
       "    <tr>\n",
       "      <th>2</th>\n",
       "      <td>not tasty and the texture was just nasty</td>\n",
       "      <td>0.0</td>\n",
       "    </tr>\n",
       "    <tr>\n",
       "      <th>3</th>\n",
       "      <td>stopped by during the late may bank holiday of...</td>\n",
       "      <td>1.0</td>\n",
       "    </tr>\n",
       "    <tr>\n",
       "      <th>4</th>\n",
       "      <td>the selection on the menu was great and so wer...</td>\n",
       "      <td>1.0</td>\n",
       "    </tr>\n",
       "  </tbody>\n",
       "</table>\n",
       "</div>"
      ]
     },
     "execution_count": 13,
     "metadata": {},
     "output_type": "execute_result"
    }
   ],
   "execution_count": 13
  },
  {
   "metadata": {
    "ExecuteTime": {
     "end_time": "2025-04-01T20:35:42.429279Z",
     "start_time": "2025-04-01T20:35:42.421797Z"
    }
   },
   "cell_type": "code",
   "source": [
    "# Original \"Dirty\" Text Data to demonstrate Mass Cleaning FUnction\n",
    "df_test = clean.load_text_to_df(['../data/Restaurant_Reviews_Test.tsv'],\n",
    "                            columns =[\"Review\", \"Like\"], line_length = 0)\n",
    "df_tsv_dirty = df_test['Restaurant_Reviews_Test']\n",
    "df_tsv_dirty.head()"
   ],
   "id": "c392a3e4c9c7ad0",
   "outputs": [
    {
     "data": {
      "text/plain": [
       "                                      Review  Like\n",
       "0                   Wow... Loved this place.   1.0\n",
       "1                     Crust is not good    .   0.0\n",
       "2                   Wow... Loved this place.   1.0\n",
       "3                                       \"\"\"\"   NaN\n",
       "4  Not tasty and the texture was just nasty.   0.0"
      ],
      "text/html": [
       "<div>\n",
       "<style scoped>\n",
       "    .dataframe tbody tr th:only-of-type {\n",
       "        vertical-align: middle;\n",
       "    }\n",
       "\n",
       "    .dataframe tbody tr th {\n",
       "        vertical-align: top;\n",
       "    }\n",
       "\n",
       "    .dataframe thead th {\n",
       "        text-align: right;\n",
       "    }\n",
       "</style>\n",
       "<table border=\"1\" class=\"dataframe\">\n",
       "  <thead>\n",
       "    <tr style=\"text-align: right;\">\n",
       "      <th></th>\n",
       "      <th>Review</th>\n",
       "      <th>Like</th>\n",
       "    </tr>\n",
       "  </thead>\n",
       "  <tbody>\n",
       "    <tr>\n",
       "      <th>0</th>\n",
       "      <td>Wow... Loved this place.</td>\n",
       "      <td>1.0</td>\n",
       "    </tr>\n",
       "    <tr>\n",
       "      <th>1</th>\n",
       "      <td>Crust is not good    .</td>\n",
       "      <td>0.0</td>\n",
       "    </tr>\n",
       "    <tr>\n",
       "      <th>2</th>\n",
       "      <td>Wow... Loved this place.</td>\n",
       "      <td>1.0</td>\n",
       "    </tr>\n",
       "    <tr>\n",
       "      <th>3</th>\n",
       "      <td>\"\"\"\"</td>\n",
       "      <td>NaN</td>\n",
       "    </tr>\n",
       "    <tr>\n",
       "      <th>4</th>\n",
       "      <td>Not tasty and the texture was just nasty.</td>\n",
       "      <td>0.0</td>\n",
       "    </tr>\n",
       "  </tbody>\n",
       "</table>\n",
       "</div>"
      ]
     },
     "execution_count": 14,
     "metadata": {},
     "output_type": "execute_result"
    }
   ],
   "execution_count": 14
  },
  {
   "metadata": {
    "ExecuteTime": {
     "end_time": "2025-04-01T20:35:42.616547Z",
     "start_time": "2025-04-01T20:35:42.499021Z"
    }
   },
   "cell_type": "code",
   "source": [
    "# Mass Cleaning FUnction (Remove Duplicates, Normalize, Handle Missing Values)\n",
    "cleaned_df_tsv = clean.clean_dataframe(df_tsv_dirty, \"Review\")\n",
    "cleaned_df_tsv.head()"
   ],
   "id": "555e4378697a62e5",
   "outputs": [
    {
     "data": {
      "text/plain": [
       "                                              Review  Like\n",
       "0                               wow loved this place   1.0\n",
       "1                                 crust is not good    0.0\n",
       "2           not tasty and the texture was just nasty   0.0\n",
       "3  stopped by during the late may bank holiday of...   1.0\n",
       "4  the selection on the menu was great and so wer...   1.0"
      ],
      "text/html": [
       "<div>\n",
       "<style scoped>\n",
       "    .dataframe tbody tr th:only-of-type {\n",
       "        vertical-align: middle;\n",
       "    }\n",
       "\n",
       "    .dataframe tbody tr th {\n",
       "        vertical-align: top;\n",
       "    }\n",
       "\n",
       "    .dataframe thead th {\n",
       "        text-align: right;\n",
       "    }\n",
       "</style>\n",
       "<table border=\"1\" class=\"dataframe\">\n",
       "  <thead>\n",
       "    <tr style=\"text-align: right;\">\n",
       "      <th></th>\n",
       "      <th>Review</th>\n",
       "      <th>Like</th>\n",
       "    </tr>\n",
       "  </thead>\n",
       "  <tbody>\n",
       "    <tr>\n",
       "      <th>0</th>\n",
       "      <td>wow loved this place</td>\n",
       "      <td>1.0</td>\n",
       "    </tr>\n",
       "    <tr>\n",
       "      <th>1</th>\n",
       "      <td>crust is not good</td>\n",
       "      <td>0.0</td>\n",
       "    </tr>\n",
       "    <tr>\n",
       "      <th>2</th>\n",
       "      <td>not tasty and the texture was just nasty</td>\n",
       "      <td>0.0</td>\n",
       "    </tr>\n",
       "    <tr>\n",
       "      <th>3</th>\n",
       "      <td>stopped by during the late may bank holiday of...</td>\n",
       "      <td>1.0</td>\n",
       "    </tr>\n",
       "    <tr>\n",
       "      <th>4</th>\n",
       "      <td>the selection on the menu was great and so wer...</td>\n",
       "      <td>1.0</td>\n",
       "    </tr>\n",
       "  </tbody>\n",
       "</table>\n",
       "</div>"
      ]
     },
     "execution_count": 15,
     "metadata": {},
     "output_type": "execute_result"
    }
   ],
   "execution_count": 15
  },
  {
   "metadata": {},
   "cell_type": "markdown",
   "source": "# Here lies examples of the data transformation modules\n",
   "id": "d42284fe0756bffa"
  },
  {
   "metadata": {
    "ExecuteTime": {
     "end_time": "2025-04-01T20:35:42.818576Z",
     "start_time": "2025-04-01T20:35:42.807312Z"
    }
   },
   "cell_type": "code",
   "source": [
    "# Tokenize Dataframe Example\n",
    "cleaned_df_tsv_tokenized = transform.tokenize_dataframe(cleaned_df_tsv, \"Review\")\n",
    "cleaned_df_tsv_tokenized.head()"
   ],
   "id": "2b3ce03705469e5c",
   "outputs": [
    {
     "data": {
      "text/plain": [
       "                                              Review  Like  \\\n",
       "0                               wow loved this place   1.0   \n",
       "1                                 crust is not good    0.0   \n",
       "2           not tasty and the texture was just nasty   0.0   \n",
       "3  stopped by during the late may bank holiday of...   1.0   \n",
       "4  the selection on the menu was great and so wer...   1.0   \n",
       "\n",
       "                                      Tokenized Text  \n",
       "0                          [wow, loved, this, place]  \n",
       "1                             [crust, is, not, good]  \n",
       "2  [not, tasty, and, the, texture, was, just, nasty]  \n",
       "3  [stopped, by, during, the, late, may, bank, ho...  \n",
       "4  [the, selection, on, the, menu, was, great, an...  "
      ],
      "text/html": [
       "<div>\n",
       "<style scoped>\n",
       "    .dataframe tbody tr th:only-of-type {\n",
       "        vertical-align: middle;\n",
       "    }\n",
       "\n",
       "    .dataframe tbody tr th {\n",
       "        vertical-align: top;\n",
       "    }\n",
       "\n",
       "    .dataframe thead th {\n",
       "        text-align: right;\n",
       "    }\n",
       "</style>\n",
       "<table border=\"1\" class=\"dataframe\">\n",
       "  <thead>\n",
       "    <tr style=\"text-align: right;\">\n",
       "      <th></th>\n",
       "      <th>Review</th>\n",
       "      <th>Like</th>\n",
       "      <th>Tokenized Text</th>\n",
       "    </tr>\n",
       "  </thead>\n",
       "  <tbody>\n",
       "    <tr>\n",
       "      <th>0</th>\n",
       "      <td>wow loved this place</td>\n",
       "      <td>1.0</td>\n",
       "      <td>[wow, loved, this, place]</td>\n",
       "    </tr>\n",
       "    <tr>\n",
       "      <th>1</th>\n",
       "      <td>crust is not good</td>\n",
       "      <td>0.0</td>\n",
       "      <td>[crust, is, not, good]</td>\n",
       "    </tr>\n",
       "    <tr>\n",
       "      <th>2</th>\n",
       "      <td>not tasty and the texture was just nasty</td>\n",
       "      <td>0.0</td>\n",
       "      <td>[not, tasty, and, the, texture, was, just, nasty]</td>\n",
       "    </tr>\n",
       "    <tr>\n",
       "      <th>3</th>\n",
       "      <td>stopped by during the late may bank holiday of...</td>\n",
       "      <td>1.0</td>\n",
       "      <td>[stopped, by, during, the, late, may, bank, ho...</td>\n",
       "    </tr>\n",
       "    <tr>\n",
       "      <th>4</th>\n",
       "      <td>the selection on the menu was great and so wer...</td>\n",
       "      <td>1.0</td>\n",
       "      <td>[the, selection, on, the, menu, was, great, an...</td>\n",
       "    </tr>\n",
       "  </tbody>\n",
       "</table>\n",
       "</div>"
      ]
     },
     "execution_count": 16,
     "metadata": {},
     "output_type": "execute_result"
    }
   ],
   "execution_count": 16
  },
  {
   "metadata": {
    "ExecuteTime": {
     "end_time": "2025-04-01T20:35:42.915398Z",
     "start_time": "2025-04-01T20:35:42.905146Z"
    }
   },
   "cell_type": "code",
   "source": [
    "# Remove Stopwords Example\n",
    "cleaned_df_tsv_stopword = transform.remove_stopwords(cleaned_df_tsv_tokenized, \"Review\", custom_stopword = None, new_column = \"Review No Stopwords\")\n",
    "\n",
    "cleaned_df_tsv_stopword.head()"
   ],
   "id": "533df24f40fbfb02",
   "outputs": [
    {
     "data": {
      "text/plain": [
       "                                              Review  Like  \\\n",
       "0                               wow loved this place   1.0   \n",
       "1                                 crust is not good    0.0   \n",
       "2           not tasty and the texture was just nasty   0.0   \n",
       "3  stopped by during the late may bank holiday of...   1.0   \n",
       "4  the selection on the menu was great and so wer...   1.0   \n",
       "\n",
       "                                      Tokenized Text  \\\n",
       "0                          [wow, loved, this, place]   \n",
       "1                             [crust, is, not, good]   \n",
       "2  [not, tasty, and, the, texture, was, just, nasty]   \n",
       "3  [stopped, by, during, the, late, may, bank, ho...   \n",
       "4  [the, selection, on, the, menu, was, great, an...   \n",
       "\n",
       "                                 Review No Stopwords  \n",
       "0                                [wow, loved, place]  \n",
       "1                                 [crust, not, good]  \n",
       "2                 [not, tasty, texture, just, nasty]  \n",
       "3  [stopped, during, late, may, bank, holiday, of...  \n",
       "4               [selection, menu, great, so, prices]  "
      ],
      "text/html": [
       "<div>\n",
       "<style scoped>\n",
       "    .dataframe tbody tr th:only-of-type {\n",
       "        vertical-align: middle;\n",
       "    }\n",
       "\n",
       "    .dataframe tbody tr th {\n",
       "        vertical-align: top;\n",
       "    }\n",
       "\n",
       "    .dataframe thead th {\n",
       "        text-align: right;\n",
       "    }\n",
       "</style>\n",
       "<table border=\"1\" class=\"dataframe\">\n",
       "  <thead>\n",
       "    <tr style=\"text-align: right;\">\n",
       "      <th></th>\n",
       "      <th>Review</th>\n",
       "      <th>Like</th>\n",
       "      <th>Tokenized Text</th>\n",
       "      <th>Review No Stopwords</th>\n",
       "    </tr>\n",
       "  </thead>\n",
       "  <tbody>\n",
       "    <tr>\n",
       "      <th>0</th>\n",
       "      <td>wow loved this place</td>\n",
       "      <td>1.0</td>\n",
       "      <td>[wow, loved, this, place]</td>\n",
       "      <td>[wow, loved, place]</td>\n",
       "    </tr>\n",
       "    <tr>\n",
       "      <th>1</th>\n",
       "      <td>crust is not good</td>\n",
       "      <td>0.0</td>\n",
       "      <td>[crust, is, not, good]</td>\n",
       "      <td>[crust, not, good]</td>\n",
       "    </tr>\n",
       "    <tr>\n",
       "      <th>2</th>\n",
       "      <td>not tasty and the texture was just nasty</td>\n",
       "      <td>0.0</td>\n",
       "      <td>[not, tasty, and, the, texture, was, just, nasty]</td>\n",
       "      <td>[not, tasty, texture, just, nasty]</td>\n",
       "    </tr>\n",
       "    <tr>\n",
       "      <th>3</th>\n",
       "      <td>stopped by during the late may bank holiday of...</td>\n",
       "      <td>1.0</td>\n",
       "      <td>[stopped, by, during, the, late, may, bank, ho...</td>\n",
       "      <td>[stopped, during, late, may, bank, holiday, of...</td>\n",
       "    </tr>\n",
       "    <tr>\n",
       "      <th>4</th>\n",
       "      <td>the selection on the menu was great and so wer...</td>\n",
       "      <td>1.0</td>\n",
       "      <td>[the, selection, on, the, menu, was, great, an...</td>\n",
       "      <td>[selection, menu, great, so, prices]</td>\n",
       "    </tr>\n",
       "  </tbody>\n",
       "</table>\n",
       "</div>"
      ]
     },
     "execution_count": 17,
     "metadata": {},
     "output_type": "execute_result"
    }
   ],
   "execution_count": 17
  },
  {
   "metadata": {
    "ExecuteTime": {
     "end_time": "2025-04-01T20:35:43.053401Z",
     "start_time": "2025-04-01T20:35:43.046126Z"
    }
   },
   "cell_type": "code",
   "source": [
    "# Label Data Sentiment Example\n",
    "\n",
    "cleaned_df_tsv_labeled = transform.label_data_sentiment(cleaned_df_tsv_stopword, \"Review\", new_column = \"Review Sentiment\")\n",
    "\n",
    "cleaned_df_tsv_labeled.head()"
   ],
   "id": "5c58ec5da82a44a0",
   "outputs": [
    {
     "data": {
      "text/plain": [
       "                                              Review  Like  \\\n",
       "0                               wow loved this place   1.0   \n",
       "1                                 crust is not good    0.0   \n",
       "2           not tasty and the texture was just nasty   0.0   \n",
       "3  stopped by during the late may bank holiday of...   1.0   \n",
       "4  the selection on the menu was great and so wer...   1.0   \n",
       "\n",
       "                                      Tokenized Text  \\\n",
       "0                          [wow, loved, this, place]   \n",
       "1                             [crust, is, not, good]   \n",
       "2  [not, tasty, and, the, texture, was, just, nasty]   \n",
       "3  [stopped, by, during, the, late, may, bank, ho...   \n",
       "4  [the, selection, on, the, menu, was, great, an...   \n",
       "\n",
       "                                 Review No Stopwords Review Sentiment  \n",
       "0                                [wow, loved, place]          Neutral  \n",
       "1                                 [crust, not, good]         Positive  \n",
       "2                 [not, tasty, texture, just, nasty]          Neutral  \n",
       "3  [stopped, during, late, may, bank, holiday, of...          Neutral  \n",
       "4               [selection, menu, great, so, prices]         Positive  "
      ],
      "text/html": [
       "<div>\n",
       "<style scoped>\n",
       "    .dataframe tbody tr th:only-of-type {\n",
       "        vertical-align: middle;\n",
       "    }\n",
       "\n",
       "    .dataframe tbody tr th {\n",
       "        vertical-align: top;\n",
       "    }\n",
       "\n",
       "    .dataframe thead th {\n",
       "        text-align: right;\n",
       "    }\n",
       "</style>\n",
       "<table border=\"1\" class=\"dataframe\">\n",
       "  <thead>\n",
       "    <tr style=\"text-align: right;\">\n",
       "      <th></th>\n",
       "      <th>Review</th>\n",
       "      <th>Like</th>\n",
       "      <th>Tokenized Text</th>\n",
       "      <th>Review No Stopwords</th>\n",
       "      <th>Review Sentiment</th>\n",
       "    </tr>\n",
       "  </thead>\n",
       "  <tbody>\n",
       "    <tr>\n",
       "      <th>0</th>\n",
       "      <td>wow loved this place</td>\n",
       "      <td>1.0</td>\n",
       "      <td>[wow, loved, this, place]</td>\n",
       "      <td>[wow, loved, place]</td>\n",
       "      <td>Neutral</td>\n",
       "    </tr>\n",
       "    <tr>\n",
       "      <th>1</th>\n",
       "      <td>crust is not good</td>\n",
       "      <td>0.0</td>\n",
       "      <td>[crust, is, not, good]</td>\n",
       "      <td>[crust, not, good]</td>\n",
       "      <td>Positive</td>\n",
       "    </tr>\n",
       "    <tr>\n",
       "      <th>2</th>\n",
       "      <td>not tasty and the texture was just nasty</td>\n",
       "      <td>0.0</td>\n",
       "      <td>[not, tasty, and, the, texture, was, just, nasty]</td>\n",
       "      <td>[not, tasty, texture, just, nasty]</td>\n",
       "      <td>Neutral</td>\n",
       "    </tr>\n",
       "    <tr>\n",
       "      <th>3</th>\n",
       "      <td>stopped by during the late may bank holiday of...</td>\n",
       "      <td>1.0</td>\n",
       "      <td>[stopped, by, during, the, late, may, bank, ho...</td>\n",
       "      <td>[stopped, during, late, may, bank, holiday, of...</td>\n",
       "      <td>Neutral</td>\n",
       "    </tr>\n",
       "    <tr>\n",
       "      <th>4</th>\n",
       "      <td>the selection on the menu was great and so wer...</td>\n",
       "      <td>1.0</td>\n",
       "      <td>[the, selection, on, the, menu, was, great, an...</td>\n",
       "      <td>[selection, menu, great, so, prices]</td>\n",
       "      <td>Positive</td>\n",
       "    </tr>\n",
       "  </tbody>\n",
       "</table>\n",
       "</div>"
      ]
     },
     "execution_count": 18,
     "metadata": {},
     "output_type": "execute_result"
    }
   ],
   "execution_count": 18
  },
  {
   "metadata": {
    "ExecuteTime": {
     "end_time": "2025-04-01T20:35:43.126508Z",
     "start_time": "2025-04-01T20:35:43.124415Z"
    }
   },
   "cell_type": "code",
   "source": "",
   "id": "5e71f63e0e31adfd",
   "outputs": [],
   "execution_count": null
  },
  {
   "metadata": {
    "ExecuteTime": {
     "end_time": "2025-04-01T20:35:43.477992Z",
     "start_time": "2025-04-01T20:35:43.475107Z"
    }
   },
   "cell_type": "code",
   "source": "",
   "id": "1b54a75de53ae51e",
   "outputs": [],
   "execution_count": null
  }
 ],
 "metadata": {
  "kernelspec": {
   "name": "python3",
   "language": "python",
   "display_name": "Python 3 (ipykernel)"
  }
 },
 "nbformat": 5,
 "nbformat_minor": 9
}
