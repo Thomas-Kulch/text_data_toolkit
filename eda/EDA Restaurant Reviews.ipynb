{
 "cells": [
  {
   "metadata": {},
   "cell_type": "markdown",
   "source": "# EDA Restaurant Reviews\n",
   "id": "60cbb17056eb40d5"
  },
  {
   "metadata": {},
   "cell_type": "markdown",
   "source": [
    "Using Python 3.13\n",
    "\n",
    "Using this for an inital look at the data and to play around with it.\n",
    "We can grab more datasets too"
   ],
   "id": "44b194ae4661e570"
  },
  {
   "metadata": {
    "ExecuteTime": {
     "end_time": "2025-04-12T04:11:10.075823Z",
     "start_time": "2025-04-12T04:11:10.068157Z"
    }
   },
   "cell_type": "code",
   "source": [
    "from text_data_toolkit import data_cleaning as clean\n",
    "from text_data_toolkit import data_transformation as transform\n",
    "from text_data_toolkit import eda"
   ],
   "id": "aa7b4657d2c394cb",
   "outputs": [],
   "execution_count": 23
  },
  {
   "metadata": {},
   "cell_type": "markdown",
   "source": "Space for File Operations\n",
   "id": "309301e28d652689"
  },
  {
   "metadata": {},
   "cell_type": "markdown",
   "source": "# Here lies an example of the data cleaning modules\n",
   "id": "a83fe8021bb11cfc"
  },
  {
   "metadata": {
    "ExecuteTime": {
     "end_time": "2025-04-12T04:15:03.026927Z",
     "start_time": "2025-04-12T04:15:02.985328Z"
    }
   },
   "cell_type": "code",
   "source": [
    "files = ['../data/Restaurant_Reviews_Test.tsv',\n",
    "         '../data/Restaurant_Reviews.csv',\n",
    "         '../data/Restaurant_Reviews2.txt']\n",
    "\n",
    "\n",
    "dfs = clean.load_text_to_df(files, columns = [\"Review\", \"Like\"], line_length = 2)"
   ],
   "id": "a1faa77d5c3f18ae",
   "outputs": [],
   "execution_count": 43
  },
  {
   "metadata": {
    "ExecuteTime": {
     "end_time": "2025-04-12T04:11:28.742915Z",
     "start_time": "2025-04-12T04:11:28.728962Z"
    }
   },
   "cell_type": "code",
   "source": [
    "df_csv = dfs['Restaurant_Reviews']\n",
    "df_csv.head()"
   ],
   "id": "72542cf6235d4300",
   "outputs": [
    {
     "data": {
      "text/plain": [
       "                                              Review  Like\n",
       "0                           Wow... Loved this place.     1\n",
       "1                                 Crust is not good.     0\n",
       "2          Not tasty and the texture was just nasty.     0\n",
       "3  Stopped by during the late May bank holiday of...     1\n",
       "4  The selection on the menu was great and so wer...     1"
      ],
      "text/html": [
       "<div>\n",
       "<style scoped>\n",
       "    .dataframe tbody tr th:only-of-type {\n",
       "        vertical-align: middle;\n",
       "    }\n",
       "\n",
       "    .dataframe tbody tr th {\n",
       "        vertical-align: top;\n",
       "    }\n",
       "\n",
       "    .dataframe thead th {\n",
       "        text-align: right;\n",
       "    }\n",
       "</style>\n",
       "<table border=\"1\" class=\"dataframe\">\n",
       "  <thead>\n",
       "    <tr style=\"text-align: right;\">\n",
       "      <th></th>\n",
       "      <th>Review</th>\n",
       "      <th>Like</th>\n",
       "    </tr>\n",
       "  </thead>\n",
       "  <tbody>\n",
       "    <tr>\n",
       "      <th>0</th>\n",
       "      <td>Wow... Loved this place.</td>\n",
       "      <td>1</td>\n",
       "    </tr>\n",
       "    <tr>\n",
       "      <th>1</th>\n",
       "      <td>Crust is not good.</td>\n",
       "      <td>0</td>\n",
       "    </tr>\n",
       "    <tr>\n",
       "      <th>2</th>\n",
       "      <td>Not tasty and the texture was just nasty.</td>\n",
       "      <td>0</td>\n",
       "    </tr>\n",
       "    <tr>\n",
       "      <th>3</th>\n",
       "      <td>Stopped by during the late May bank holiday of...</td>\n",
       "      <td>1</td>\n",
       "    </tr>\n",
       "    <tr>\n",
       "      <th>4</th>\n",
       "      <td>The selection on the menu was great and so wer...</td>\n",
       "      <td>1</td>\n",
       "    </tr>\n",
       "  </tbody>\n",
       "</table>\n",
       "</div>"
      ]
     },
     "execution_count": 27,
     "metadata": {},
     "output_type": "execute_result"
    }
   ],
   "execution_count": 27
  },
  {
   "metadata": {
    "ExecuteTime": {
     "end_time": "2025-04-12T04:12:24.102381Z",
     "start_time": "2025-04-12T04:12:24.096167Z"
    }
   },
   "cell_type": "code",
   "source": [
    "df_txt = dfs['Restaurant_Reviews2']\n",
    "df_txt = df_txt.drop(0)\n",
    "df_txt.head()"
   ],
   "id": "e3cd0178c9ec1d3d",
   "outputs": [
    {
     "data": {
      "text/plain": [
       "                                              Review Like\n",
       "1                           Wow... Loved this place.    1\n",
       "2                                 Crust is not good.    0\n",
       "3          Not tasty and the texture was just nasty.    0\n",
       "4  Stopped by during the late May bank holiday of...    1\n",
       "5  The selection on the menu was great and so wer...    1"
      ],
      "text/html": [
       "<div>\n",
       "<style scoped>\n",
       "    .dataframe tbody tr th:only-of-type {\n",
       "        vertical-align: middle;\n",
       "    }\n",
       "\n",
       "    .dataframe tbody tr th {\n",
       "        vertical-align: top;\n",
       "    }\n",
       "\n",
       "    .dataframe thead th {\n",
       "        text-align: right;\n",
       "    }\n",
       "</style>\n",
       "<table border=\"1\" class=\"dataframe\">\n",
       "  <thead>\n",
       "    <tr style=\"text-align: right;\">\n",
       "      <th></th>\n",
       "      <th>Review</th>\n",
       "      <th>Like</th>\n",
       "    </tr>\n",
       "  </thead>\n",
       "  <tbody>\n",
       "    <tr>\n",
       "      <th>1</th>\n",
       "      <td>Wow... Loved this place.</td>\n",
       "      <td>1</td>\n",
       "    </tr>\n",
       "    <tr>\n",
       "      <th>2</th>\n",
       "      <td>Crust is not good.</td>\n",
       "      <td>0</td>\n",
       "    </tr>\n",
       "    <tr>\n",
       "      <th>3</th>\n",
       "      <td>Not tasty and the texture was just nasty.</td>\n",
       "      <td>0</td>\n",
       "    </tr>\n",
       "    <tr>\n",
       "      <th>4</th>\n",
       "      <td>Stopped by during the late May bank holiday of...</td>\n",
       "      <td>1</td>\n",
       "    </tr>\n",
       "    <tr>\n",
       "      <th>5</th>\n",
       "      <td>The selection on the menu was great and so wer...</td>\n",
       "      <td>1</td>\n",
       "    </tr>\n",
       "  </tbody>\n",
       "</table>\n",
       "</div>"
      ]
     },
     "execution_count": 33,
     "metadata": {},
     "output_type": "execute_result"
    }
   ],
   "execution_count": 33
  },
  {
   "metadata": {
    "ExecuteTime": {
     "end_time": "2025-04-12T04:16:41.806294Z",
     "start_time": "2025-04-12T04:16:41.570557Z"
    }
   },
   "cell_type": "code",
   "source": "df_tsv = clean.homogenize_columns(df_tsv)",
   "id": "e7c44692a7557f5f",
   "outputs": [
    {
     "ename": "AttributeError",
     "evalue": "module 'text_data_toolkit.data_cleaning' has no attribute 'homogenize_columns'",
     "output_type": "error",
     "traceback": [
      "\u001B[31m---------------------------------------------------------------------------\u001B[39m",
      "\u001B[31mAttributeError\u001B[39m                            Traceback (most recent call last)",
      "\u001B[36mCell\u001B[39m\u001B[36m \u001B[39m\u001B[32mIn[49]\u001B[39m\u001B[32m, line 1\u001B[39m\n\u001B[32m----> \u001B[39m\u001B[32m1\u001B[39m df_tsv = \u001B[43mclean\u001B[49m\u001B[43m.\u001B[49m\u001B[43mhomogenize_columns\u001B[49m(df_tsv)\n",
      "\u001B[31mAttributeError\u001B[39m: module 'text_data_toolkit.data_cleaning' has no attribute 'homogenize_columns'"
     ]
    }
   ],
   "execution_count": 49
  },
  {
   "metadata": {
    "ExecuteTime": {
     "end_time": "2025-04-12T04:15:04.981467Z",
     "start_time": "2025-04-12T04:15:04.955076Z"
    }
   },
   "cell_type": "code",
   "source": [
    "df_tsv = dfs['Restaurant_Reviews_Test']\n",
    "df_tsv.head()"
   ],
   "id": "3fa8b69f7da6a7ce",
   "outputs": [
    {
     "data": {
      "text/plain": [
       "                                      Review  Like\n",
       "0                   Wow... Loved this place.   1.0\n",
       "1                     Crust is not good    .   0.0\n",
       "2                   Wow... Loved this place.   1.0\n",
       "3                                       \"\"\"\"   NaN\n",
       "4  Not tasty and the texture was just nasty.   0.0"
      ],
      "text/html": [
       "<div>\n",
       "<style scoped>\n",
       "    .dataframe tbody tr th:only-of-type {\n",
       "        vertical-align: middle;\n",
       "    }\n",
       "\n",
       "    .dataframe tbody tr th {\n",
       "        vertical-align: top;\n",
       "    }\n",
       "\n",
       "    .dataframe thead th {\n",
       "        text-align: right;\n",
       "    }\n",
       "</style>\n",
       "<table border=\"1\" class=\"dataframe\">\n",
       "  <thead>\n",
       "    <tr style=\"text-align: right;\">\n",
       "      <th></th>\n",
       "      <th>Review</th>\n",
       "      <th>Like</th>\n",
       "    </tr>\n",
       "  </thead>\n",
       "  <tbody>\n",
       "    <tr>\n",
       "      <th>0</th>\n",
       "      <td>Wow... Loved this place.</td>\n",
       "      <td>1.0</td>\n",
       "    </tr>\n",
       "    <tr>\n",
       "      <th>1</th>\n",
       "      <td>Crust is not good    .</td>\n",
       "      <td>0.0</td>\n",
       "    </tr>\n",
       "    <tr>\n",
       "      <th>2</th>\n",
       "      <td>Wow... Loved this place.</td>\n",
       "      <td>1.0</td>\n",
       "    </tr>\n",
       "    <tr>\n",
       "      <th>3</th>\n",
       "      <td>\"\"\"\"</td>\n",
       "      <td>NaN</td>\n",
       "    </tr>\n",
       "    <tr>\n",
       "      <th>4</th>\n",
       "      <td>Not tasty and the texture was just nasty.</td>\n",
       "      <td>0.0</td>\n",
       "    </tr>\n",
       "  </tbody>\n",
       "</table>\n",
       "</div>"
      ]
     },
     "execution_count": 44,
     "metadata": {},
     "output_type": "execute_result"
    }
   ],
   "execution_count": 44
  },
  {
   "metadata": {
    "ExecuteTime": {
     "end_time": "2025-04-12T04:15:07.296280Z",
     "start_time": "2025-04-12T04:15:07.172730Z"
    }
   },
   "cell_type": "code",
   "source": [
    "# Remove Duplicates\n",
    "df_tsv_remove_dup = clean.remove_duplicates_fuzzy(df_tsv, \"Review\", threshold = 90)\n",
    "df_tsv_remove_dup.head()"
   ],
   "id": "5adeb9fbff53f24e",
   "outputs": [
    {
     "data": {
      "text/plain": [
       "                                              Review  Like\n",
       "0                           Wow... Loved this place.   1.0\n",
       "1                             Crust is not good    .   0.0\n",
       "2                                               \"\"\"\"   NaN\n",
       "3          Not tasty and the texture was just nasty.   0.0\n",
       "4  Stopped by during the late May bank holiday of...   1.0"
      ],
      "text/html": [
       "<div>\n",
       "<style scoped>\n",
       "    .dataframe tbody tr th:only-of-type {\n",
       "        vertical-align: middle;\n",
       "    }\n",
       "\n",
       "    .dataframe tbody tr th {\n",
       "        vertical-align: top;\n",
       "    }\n",
       "\n",
       "    .dataframe thead th {\n",
       "        text-align: right;\n",
       "    }\n",
       "</style>\n",
       "<table border=\"1\" class=\"dataframe\">\n",
       "  <thead>\n",
       "    <tr style=\"text-align: right;\">\n",
       "      <th></th>\n",
       "      <th>Review</th>\n",
       "      <th>Like</th>\n",
       "    </tr>\n",
       "  </thead>\n",
       "  <tbody>\n",
       "    <tr>\n",
       "      <th>0</th>\n",
       "      <td>Wow... Loved this place.</td>\n",
       "      <td>1.0</td>\n",
       "    </tr>\n",
       "    <tr>\n",
       "      <th>1</th>\n",
       "      <td>Crust is not good    .</td>\n",
       "      <td>0.0</td>\n",
       "    </tr>\n",
       "    <tr>\n",
       "      <th>2</th>\n",
       "      <td>\"\"\"\"</td>\n",
       "      <td>NaN</td>\n",
       "    </tr>\n",
       "    <tr>\n",
       "      <th>3</th>\n",
       "      <td>Not tasty and the texture was just nasty.</td>\n",
       "      <td>0.0</td>\n",
       "    </tr>\n",
       "    <tr>\n",
       "      <th>4</th>\n",
       "      <td>Stopped by during the late May bank holiday of...</td>\n",
       "      <td>1.0</td>\n",
       "    </tr>\n",
       "  </tbody>\n",
       "</table>\n",
       "</div>"
      ]
     },
     "execution_count": 45,
     "metadata": {},
     "output_type": "execute_result"
    }
   ],
   "execution_count": 45
  },
  {
   "metadata": {
    "ExecuteTime": {
     "end_time": "2025-04-12T04:15:17.028023Z",
     "start_time": "2025-04-12T04:15:17.015612Z"
    }
   },
   "cell_type": "code",
   "source": [
    "# Normalize the Text (Lowercase & Remove Punctuation, Remove Whitespaces)\n",
    "df_tsv_norm = clean.normalize_text(df_tsv_remove_dup, \"Review\")\n",
    "df_tsv_norm.head()"
   ],
   "id": "6306413e4d6b5a81",
   "outputs": [
    {
     "data": {
      "text/plain": [
       "                                              Review  Like\n",
       "0                               wow loved this place   1.0\n",
       "1                                 crust is not good    0.0\n",
       "2                                                      NaN\n",
       "3           not tasty and the texture was just nasty   0.0\n",
       "4  stopped by during the late may bank holiday of...   1.0"
      ],
      "text/html": [
       "<div>\n",
       "<style scoped>\n",
       "    .dataframe tbody tr th:only-of-type {\n",
       "        vertical-align: middle;\n",
       "    }\n",
       "\n",
       "    .dataframe tbody tr th {\n",
       "        vertical-align: top;\n",
       "    }\n",
       "\n",
       "    .dataframe thead th {\n",
       "        text-align: right;\n",
       "    }\n",
       "</style>\n",
       "<table border=\"1\" class=\"dataframe\">\n",
       "  <thead>\n",
       "    <tr style=\"text-align: right;\">\n",
       "      <th></th>\n",
       "      <th>Review</th>\n",
       "      <th>Like</th>\n",
       "    </tr>\n",
       "  </thead>\n",
       "  <tbody>\n",
       "    <tr>\n",
       "      <th>0</th>\n",
       "      <td>wow loved this place</td>\n",
       "      <td>1.0</td>\n",
       "    </tr>\n",
       "    <tr>\n",
       "      <th>1</th>\n",
       "      <td>crust is not good</td>\n",
       "      <td>0.0</td>\n",
       "    </tr>\n",
       "    <tr>\n",
       "      <th>2</th>\n",
       "      <td></td>\n",
       "      <td>NaN</td>\n",
       "    </tr>\n",
       "    <tr>\n",
       "      <th>3</th>\n",
       "      <td>not tasty and the texture was just nasty</td>\n",
       "      <td>0.0</td>\n",
       "    </tr>\n",
       "    <tr>\n",
       "      <th>4</th>\n",
       "      <td>stopped by during the late may bank holiday of...</td>\n",
       "      <td>1.0</td>\n",
       "    </tr>\n",
       "  </tbody>\n",
       "</table>\n",
       "</div>"
      ]
     },
     "execution_count": 46,
     "metadata": {},
     "output_type": "execute_result"
    }
   ],
   "execution_count": 46
  },
  {
   "metadata": {
    "ExecuteTime": {
     "end_time": "2025-04-12T04:15:30.971903Z",
     "start_time": "2025-04-12T04:15:30.931120Z"
    }
   },
   "cell_type": "code",
   "source": [
    "# Handle Missing Values\n",
    "df_tsv_na = clean.handle_missing_values(df_tsv, \"Review\")\n",
    "df_tsv_na.head()"
   ],
   "id": "2a1657b425b568",
   "outputs": [
    {
     "data": {
      "text/plain": [
       "                                              Review  Like\n",
       "0                               wow loved this place   1.0\n",
       "1                                 crust is not good    0.0\n",
       "2           not tasty and the texture was just nasty   0.0\n",
       "3  stopped by during the late may bank holiday of...   1.0\n",
       "4  the selection on the menu was great and so wer...   1.0"
      ],
      "text/html": [
       "<div>\n",
       "<style scoped>\n",
       "    .dataframe tbody tr th:only-of-type {\n",
       "        vertical-align: middle;\n",
       "    }\n",
       "\n",
       "    .dataframe tbody tr th {\n",
       "        vertical-align: top;\n",
       "    }\n",
       "\n",
       "    .dataframe thead th {\n",
       "        text-align: right;\n",
       "    }\n",
       "</style>\n",
       "<table border=\"1\" class=\"dataframe\">\n",
       "  <thead>\n",
       "    <tr style=\"text-align: right;\">\n",
       "      <th></th>\n",
       "      <th>Review</th>\n",
       "      <th>Like</th>\n",
       "    </tr>\n",
       "  </thead>\n",
       "  <tbody>\n",
       "    <tr>\n",
       "      <th>0</th>\n",
       "      <td>wow loved this place</td>\n",
       "      <td>1.0</td>\n",
       "    </tr>\n",
       "    <tr>\n",
       "      <th>1</th>\n",
       "      <td>crust is not good</td>\n",
       "      <td>0.0</td>\n",
       "    </tr>\n",
       "    <tr>\n",
       "      <th>2</th>\n",
       "      <td>not tasty and the texture was just nasty</td>\n",
       "      <td>0.0</td>\n",
       "    </tr>\n",
       "    <tr>\n",
       "      <th>3</th>\n",
       "      <td>stopped by during the late may bank holiday of...</td>\n",
       "      <td>1.0</td>\n",
       "    </tr>\n",
       "    <tr>\n",
       "      <th>4</th>\n",
       "      <td>the selection on the menu was great and so wer...</td>\n",
       "      <td>1.0</td>\n",
       "    </tr>\n",
       "  </tbody>\n",
       "</table>\n",
       "</div>"
      ]
     },
     "execution_count": 47,
     "metadata": {},
     "output_type": "execute_result"
    }
   ],
   "execution_count": 47
  },
  {
   "metadata": {
    "ExecuteTime": {
     "end_time": "2025-04-12T04:15:46.177295Z",
     "start_time": "2025-04-12T04:15:46.133575Z"
    }
   },
   "cell_type": "code",
   "source": [
    "# Original Text Data to demonstrate Mass Cleaning Function\n",
    "df_test = clean.load_text_to_df(['../data/Restaurant_Reviews_Test.tsv'],\n",
    "                            columns =[\"Review\", \"Like\"], line_length = 0)\n",
    "df_tsv_dirty = df_test['Restaurant_Reviews_Test']\n",
    "df_tsv_dirty.head()"
   ],
   "id": "c392a3e4c9c7ad0",
   "outputs": [
    {
     "data": {
      "text/plain": [
       "                                      Review  Like\n",
       "0                   Wow... Loved this place.   1.0\n",
       "1                     Crust is not good    .   0.0\n",
       "2                   Wow... Loved this place.   1.0\n",
       "3                                       \"\"\"\"   NaN\n",
       "4  Not tasty and the texture was just nasty.   0.0"
      ],
      "text/html": [
       "<div>\n",
       "<style scoped>\n",
       "    .dataframe tbody tr th:only-of-type {\n",
       "        vertical-align: middle;\n",
       "    }\n",
       "\n",
       "    .dataframe tbody tr th {\n",
       "        vertical-align: top;\n",
       "    }\n",
       "\n",
       "    .dataframe thead th {\n",
       "        text-align: right;\n",
       "    }\n",
       "</style>\n",
       "<table border=\"1\" class=\"dataframe\">\n",
       "  <thead>\n",
       "    <tr style=\"text-align: right;\">\n",
       "      <th></th>\n",
       "      <th>Review</th>\n",
       "      <th>Like</th>\n",
       "    </tr>\n",
       "  </thead>\n",
       "  <tbody>\n",
       "    <tr>\n",
       "      <th>0</th>\n",
       "      <td>Wow... Loved this place.</td>\n",
       "      <td>1.0</td>\n",
       "    </tr>\n",
       "    <tr>\n",
       "      <th>1</th>\n",
       "      <td>Crust is not good    .</td>\n",
       "      <td>0.0</td>\n",
       "    </tr>\n",
       "    <tr>\n",
       "      <th>2</th>\n",
       "      <td>Wow... Loved this place.</td>\n",
       "      <td>1.0</td>\n",
       "    </tr>\n",
       "    <tr>\n",
       "      <th>3</th>\n",
       "      <td>\"\"\"\"</td>\n",
       "      <td>NaN</td>\n",
       "    </tr>\n",
       "    <tr>\n",
       "      <th>4</th>\n",
       "      <td>Not tasty and the texture was just nasty.</td>\n",
       "      <td>0.0</td>\n",
       "    </tr>\n",
       "  </tbody>\n",
       "</table>\n",
       "</div>"
      ]
     },
     "execution_count": 48,
     "metadata": {},
     "output_type": "execute_result"
    }
   ],
   "execution_count": 48
  },
  {
   "metadata": {
    "ExecuteTime": {
     "end_time": "2025-04-11T19:30:15.869590Z",
     "start_time": "2025-04-11T19:30:15.705525Z"
    }
   },
   "cell_type": "code",
   "source": [
    "# Mass Cleaning FUnction (Remove Duplicates, Normalize, Handle Missing Values)\n",
    "cleaned_df_tsv = clean.clean_dataframe(df_tsv_dirty, \"Review\")\n",
    "cleaned_df_tsv.head()"
   ],
   "id": "555e4378697a62e5",
   "outputs": [
    {
     "data": {
      "text/plain": [
       "                                              Review  Like\n",
       "0                               wow loved this place   1.0\n",
       "1                                 crust is not good    0.0\n",
       "2           not tasty and the texture was just nasty   0.0\n",
       "3  stopped by during the late may bank holiday of...   1.0\n",
       "4  the selection on the menu was great and so wer...   1.0"
      ],
      "text/html": [
       "<div>\n",
       "<style scoped>\n",
       "    .dataframe tbody tr th:only-of-type {\n",
       "        vertical-align: middle;\n",
       "    }\n",
       "\n",
       "    .dataframe tbody tr th {\n",
       "        vertical-align: top;\n",
       "    }\n",
       "\n",
       "    .dataframe thead th {\n",
       "        text-align: right;\n",
       "    }\n",
       "</style>\n",
       "<table border=\"1\" class=\"dataframe\">\n",
       "  <thead>\n",
       "    <tr style=\"text-align: right;\">\n",
       "      <th></th>\n",
       "      <th>Review</th>\n",
       "      <th>Like</th>\n",
       "    </tr>\n",
       "  </thead>\n",
       "  <tbody>\n",
       "    <tr>\n",
       "      <th>0</th>\n",
       "      <td>wow loved this place</td>\n",
       "      <td>1.0</td>\n",
       "    </tr>\n",
       "    <tr>\n",
       "      <th>1</th>\n",
       "      <td>crust is not good</td>\n",
       "      <td>0.0</td>\n",
       "    </tr>\n",
       "    <tr>\n",
       "      <th>2</th>\n",
       "      <td>not tasty and the texture was just nasty</td>\n",
       "      <td>0.0</td>\n",
       "    </tr>\n",
       "    <tr>\n",
       "      <th>3</th>\n",
       "      <td>stopped by during the late may bank holiday of...</td>\n",
       "      <td>1.0</td>\n",
       "    </tr>\n",
       "    <tr>\n",
       "      <th>4</th>\n",
       "      <td>the selection on the menu was great and so wer...</td>\n",
       "      <td>1.0</td>\n",
       "    </tr>\n",
       "  </tbody>\n",
       "</table>\n",
       "</div>"
      ]
     },
     "execution_count": 11,
     "metadata": {},
     "output_type": "execute_result"
    }
   ],
   "execution_count": 11
  },
  {
   "metadata": {},
   "cell_type": "markdown",
   "source": "# Here lies examples of the data transformation modules\n",
   "id": "d42284fe0756bffa"
  },
  {
   "metadata": {
    "ExecuteTime": {
     "end_time": "2025-04-11T19:30:15.926509Z",
     "start_time": "2025-04-11T19:30:15.920898Z"
    }
   },
   "cell_type": "code",
   "source": [
    "# Tokenize Dataframe Example\n",
    "cleaned_df_tsv_tokenized = transform.tokenize_dataframe(cleaned_df_tsv, \"Review\")\n",
    "cleaned_df_tsv_tokenized.head()"
   ],
   "id": "2b3ce03705469e5c",
   "outputs": [
    {
     "data": {
      "text/plain": [
       "                                              Review  Like  \\\n",
       "0                               wow loved this place   1.0   \n",
       "1                                 crust is not good    0.0   \n",
       "2           not tasty and the texture was just nasty   0.0   \n",
       "3  stopped by during the late may bank holiday of...   1.0   \n",
       "4  the selection on the menu was great and so wer...   1.0   \n",
       "\n",
       "                                      Tokenized Text  \n",
       "0                            wow, loved, this, place  \n",
       "1                               crust, is, not, good  \n",
       "2    not, tasty, and, the, texture, was, just, nasty  \n",
       "3  stopped, by, during, the, late, may, bank, hol...  \n",
       "4  the, selection, on, the, menu, was, great, and...  "
      ],
      "text/html": [
       "<div>\n",
       "<style scoped>\n",
       "    .dataframe tbody tr th:only-of-type {\n",
       "        vertical-align: middle;\n",
       "    }\n",
       "\n",
       "    .dataframe tbody tr th {\n",
       "        vertical-align: top;\n",
       "    }\n",
       "\n",
       "    .dataframe thead th {\n",
       "        text-align: right;\n",
       "    }\n",
       "</style>\n",
       "<table border=\"1\" class=\"dataframe\">\n",
       "  <thead>\n",
       "    <tr style=\"text-align: right;\">\n",
       "      <th></th>\n",
       "      <th>Review</th>\n",
       "      <th>Like</th>\n",
       "      <th>Tokenized Text</th>\n",
       "    </tr>\n",
       "  </thead>\n",
       "  <tbody>\n",
       "    <tr>\n",
       "      <th>0</th>\n",
       "      <td>wow loved this place</td>\n",
       "      <td>1.0</td>\n",
       "      <td>wow, loved, this, place</td>\n",
       "    </tr>\n",
       "    <tr>\n",
       "      <th>1</th>\n",
       "      <td>crust is not good</td>\n",
       "      <td>0.0</td>\n",
       "      <td>crust, is, not, good</td>\n",
       "    </tr>\n",
       "    <tr>\n",
       "      <th>2</th>\n",
       "      <td>not tasty and the texture was just nasty</td>\n",
       "      <td>0.0</td>\n",
       "      <td>not, tasty, and, the, texture, was, just, nasty</td>\n",
       "    </tr>\n",
       "    <tr>\n",
       "      <th>3</th>\n",
       "      <td>stopped by during the late may bank holiday of...</td>\n",
       "      <td>1.0</td>\n",
       "      <td>stopped, by, during, the, late, may, bank, hol...</td>\n",
       "    </tr>\n",
       "    <tr>\n",
       "      <th>4</th>\n",
       "      <td>the selection on the menu was great and so wer...</td>\n",
       "      <td>1.0</td>\n",
       "      <td>the, selection, on, the, menu, was, great, and...</td>\n",
       "    </tr>\n",
       "  </tbody>\n",
       "</table>\n",
       "</div>"
      ]
     },
     "execution_count": 12,
     "metadata": {},
     "output_type": "execute_result"
    }
   ],
   "execution_count": 12
  },
  {
   "metadata": {
    "ExecuteTime": {
     "end_time": "2025-04-11T19:30:16.050116Z",
     "start_time": "2025-04-11T19:30:16.043469Z"
    }
   },
   "cell_type": "code",
   "source": [
    "# Remove Stopwords Example\n",
    "cleaned_df_tsv_stopword = transform.remove_stopwords(cleaned_df_tsv_tokenized, \"Review\", custom_stopword = None, new_column = \"Review No Stopwords\")\n",
    "\n",
    "cleaned_df_tsv_stopword.head()"
   ],
   "id": "533df24f40fbfb02",
   "outputs": [
    {
     "data": {
      "text/plain": [
       "                                              Review  Like  \\\n",
       "0                               wow loved this place   1.0   \n",
       "1                                 crust is not good    0.0   \n",
       "2           not tasty and the texture was just nasty   0.0   \n",
       "3  stopped by during the late may bank holiday of...   1.0   \n",
       "4  the selection on the menu was great and so wer...   1.0   \n",
       "\n",
       "                                      Tokenized Text  \\\n",
       "0                            wow, loved, this, place   \n",
       "1                               crust, is, not, good   \n",
       "2    not, tasty, and, the, texture, was, just, nasty   \n",
       "3  stopped, by, during, the, late, may, bank, hol...   \n",
       "4  the, selection, on, the, menu, was, great, and...   \n",
       "\n",
       "                                 Review No Stopwords  \n",
       "0                                    wow loved place  \n",
       "1                                     crust not good  \n",
       "2                       not tasty texture just nasty  \n",
       "3  stopped during late may bank holiday off rick ...  \n",
       "4                        selection menu great prices  "
      ],
      "text/html": [
       "<div>\n",
       "<style scoped>\n",
       "    .dataframe tbody tr th:only-of-type {\n",
       "        vertical-align: middle;\n",
       "    }\n",
       "\n",
       "    .dataframe tbody tr th {\n",
       "        vertical-align: top;\n",
       "    }\n",
       "\n",
       "    .dataframe thead th {\n",
       "        text-align: right;\n",
       "    }\n",
       "</style>\n",
       "<table border=\"1\" class=\"dataframe\">\n",
       "  <thead>\n",
       "    <tr style=\"text-align: right;\">\n",
       "      <th></th>\n",
       "      <th>Review</th>\n",
       "      <th>Like</th>\n",
       "      <th>Tokenized Text</th>\n",
       "      <th>Review No Stopwords</th>\n",
       "    </tr>\n",
       "  </thead>\n",
       "  <tbody>\n",
       "    <tr>\n",
       "      <th>0</th>\n",
       "      <td>wow loved this place</td>\n",
       "      <td>1.0</td>\n",
       "      <td>wow, loved, this, place</td>\n",
       "      <td>wow loved place</td>\n",
       "    </tr>\n",
       "    <tr>\n",
       "      <th>1</th>\n",
       "      <td>crust is not good</td>\n",
       "      <td>0.0</td>\n",
       "      <td>crust, is, not, good</td>\n",
       "      <td>crust not good</td>\n",
       "    </tr>\n",
       "    <tr>\n",
       "      <th>2</th>\n",
       "      <td>not tasty and the texture was just nasty</td>\n",
       "      <td>0.0</td>\n",
       "      <td>not, tasty, and, the, texture, was, just, nasty</td>\n",
       "      <td>not tasty texture just nasty</td>\n",
       "    </tr>\n",
       "    <tr>\n",
       "      <th>3</th>\n",
       "      <td>stopped by during the late may bank holiday of...</td>\n",
       "      <td>1.0</td>\n",
       "      <td>stopped, by, during, the, late, may, bank, hol...</td>\n",
       "      <td>stopped during late may bank holiday off rick ...</td>\n",
       "    </tr>\n",
       "    <tr>\n",
       "      <th>4</th>\n",
       "      <td>the selection on the menu was great and so wer...</td>\n",
       "      <td>1.0</td>\n",
       "      <td>the, selection, on, the, menu, was, great, and...</td>\n",
       "      <td>selection menu great prices</td>\n",
       "    </tr>\n",
       "  </tbody>\n",
       "</table>\n",
       "</div>"
      ]
     },
     "execution_count": 13,
     "metadata": {},
     "output_type": "execute_result"
    }
   ],
   "execution_count": 13
  },
  {
   "metadata": {
    "ExecuteTime": {
     "end_time": "2025-04-11T19:30:16.129141Z",
     "start_time": "2025-04-11T19:30:16.124179Z"
    }
   },
   "cell_type": "code",
   "source": [
    "# Label Data Sentiment Example\n",
    "\n",
    "cleaned_df_tsv_labeled = transform.label_data_sentiment(cleaned_df_tsv_stopword, \"Review\", new_column = \"Review Sentiment\")\n",
    "\n",
    "cleaned_df_tsv_labeled.head()"
   ],
   "id": "5c58ec5da82a44a0",
   "outputs": [
    {
     "data": {
      "text/plain": [
       "                                              Review  Like  \\\n",
       "0                               wow loved this place   1.0   \n",
       "1                                 crust is not good    0.0   \n",
       "2           not tasty and the texture was just nasty   0.0   \n",
       "3  stopped by during the late may bank holiday of...   1.0   \n",
       "4  the selection on the menu was great and so wer...   1.0   \n",
       "\n",
       "                                      Tokenized Text  \\\n",
       "0                            wow, loved, this, place   \n",
       "1                               crust, is, not, good   \n",
       "2    not, tasty, and, the, texture, was, just, nasty   \n",
       "3  stopped, by, during, the, late, may, bank, hol...   \n",
       "4  the, selection, on, the, menu, was, great, and...   \n",
       "\n",
       "                                 Review No Stopwords Review Sentiment  \n",
       "0                                    wow loved place          Neutral  \n",
       "1                                     crust not good         Positive  \n",
       "2                       not tasty texture just nasty          Neutral  \n",
       "3  stopped during late may bank holiday off rick ...          Neutral  \n",
       "4                        selection menu great prices         Positive  "
      ],
      "text/html": [
       "<div>\n",
       "<style scoped>\n",
       "    .dataframe tbody tr th:only-of-type {\n",
       "        vertical-align: middle;\n",
       "    }\n",
       "\n",
       "    .dataframe tbody tr th {\n",
       "        vertical-align: top;\n",
       "    }\n",
       "\n",
       "    .dataframe thead th {\n",
       "        text-align: right;\n",
       "    }\n",
       "</style>\n",
       "<table border=\"1\" class=\"dataframe\">\n",
       "  <thead>\n",
       "    <tr style=\"text-align: right;\">\n",
       "      <th></th>\n",
       "      <th>Review</th>\n",
       "      <th>Like</th>\n",
       "      <th>Tokenized Text</th>\n",
       "      <th>Review No Stopwords</th>\n",
       "      <th>Review Sentiment</th>\n",
       "    </tr>\n",
       "  </thead>\n",
       "  <tbody>\n",
       "    <tr>\n",
       "      <th>0</th>\n",
       "      <td>wow loved this place</td>\n",
       "      <td>1.0</td>\n",
       "      <td>wow, loved, this, place</td>\n",
       "      <td>wow loved place</td>\n",
       "      <td>Neutral</td>\n",
       "    </tr>\n",
       "    <tr>\n",
       "      <th>1</th>\n",
       "      <td>crust is not good</td>\n",
       "      <td>0.0</td>\n",
       "      <td>crust, is, not, good</td>\n",
       "      <td>crust not good</td>\n",
       "      <td>Positive</td>\n",
       "    </tr>\n",
       "    <tr>\n",
       "      <th>2</th>\n",
       "      <td>not tasty and the texture was just nasty</td>\n",
       "      <td>0.0</td>\n",
       "      <td>not, tasty, and, the, texture, was, just, nasty</td>\n",
       "      <td>not tasty texture just nasty</td>\n",
       "      <td>Neutral</td>\n",
       "    </tr>\n",
       "    <tr>\n",
       "      <th>3</th>\n",
       "      <td>stopped by during the late may bank holiday of...</td>\n",
       "      <td>1.0</td>\n",
       "      <td>stopped, by, during, the, late, may, bank, hol...</td>\n",
       "      <td>stopped during late may bank holiday off rick ...</td>\n",
       "      <td>Neutral</td>\n",
       "    </tr>\n",
       "    <tr>\n",
       "      <th>4</th>\n",
       "      <td>the selection on the menu was great and so wer...</td>\n",
       "      <td>1.0</td>\n",
       "      <td>the, selection, on, the, menu, was, great, and...</td>\n",
       "      <td>selection menu great prices</td>\n",
       "      <td>Positive</td>\n",
       "    </tr>\n",
       "  </tbody>\n",
       "</table>\n",
       "</div>"
      ]
     },
     "execution_count": 14,
     "metadata": {},
     "output_type": "execute_result"
    }
   ],
   "execution_count": 14
  },
  {
   "metadata": {},
   "cell_type": "markdown",
   "source": "# Here lies some EDA Transformation Examples\n",
   "id": "fa0a7f78e2af6b67"
  },
  {
   "metadata": {
    "ExecuteTime": {
     "end_time": "2025-04-11T19:30:16.779941Z",
     "start_time": "2025-04-11T19:30:16.370915Z"
    }
   },
   "cell_type": "code",
   "source": [
    "# Generate Wordcloud of No Stopwords Series\n",
    "\n",
    "cleaned_df_tsv_labeled_wordcloud = eda.generate_wordcloud(cleaned_df_tsv_labeled[\"Review No Stopwords\"].str.join(', '), custom_stopwords=[\"will\", \"some\", \"came\"])"
   ],
   "id": "1b54a75de53ae51e",
   "outputs": [
    {
     "data": {
      "text/plain": [
       "<Figure size 1000x500 with 1 Axes>"
      ],
      "image/png": "[encoded data removed]"
     },
     "metadata": {},
     "output_type": "display_data"
    }
   ],
   "execution_count": 15
  },
  {
   "metadata": {
    "ExecuteTime": {
     "end_time": "2025-04-11T19:31:29.148066Z",
     "start_time": "2025-04-11T19:31:29.124842Z"
    }
   },
   "cell_type": "code",
   "source": [
    "# Summary Statistics of our Text Data\n",
    "eda.text_summary_stats(cleaned_df_tsv_stopword, \"Review No Stopwords\")"
   ],
   "id": "6f09dfbd9e417be8",
   "outputs": [
    {
     "data": {
      "text/plain": [
       "{'document_stats': {'total_docs': 197, 'empty_docs': 0, 'unique_docs': 197},\n",
       " 'length_stats': {'min_length': 4,\n",
       "  'max_length': 111,\n",
       "  'total_length': 8415,\n",
       "  'char_count_mean': 42.71573604060914,\n",
       "  'char_count_median': 35},\n",
       " 'word_stats': {'avg_words_per_doc': 6.8274111675126905,\n",
       "  'total_words': 1345,\n",
       "  'unique_words': 745,\n",
       "  'avg_word_length': 5.402973977695167},\n",
       " 'frequent_words': {'food': 27,\n",
       "  'good': 25,\n",
       "  'place': 21,\n",
       "  'not': 21,\n",
       "  'like': 17,\n",
       "  'service': 16,\n",
       "  'great': 15,\n",
       "  'very': 13,\n",
       "  'really': 12,\n",
       "  'time': 10}}"
      ]
     },
     "execution_count": 20,
     "metadata": {},
     "output_type": "execute_result"
    }
   ],
   "execution_count": 20
  },
  {
   "metadata": {
    "ExecuteTime": {
     "end_time": "2025-04-11T19:31:34.259735Z",
     "start_time": "2025-04-11T19:31:34.169065Z"
    }
   },
   "cell_type": "code",
   "source": [
    "# Sentiment Distribution Graph\n",
    "eda.plot_sentiment_distribution(cleaned_df_tsv, \"Review Sentiment\")"
   ],
   "id": "cd1e506cde6f74d2",
   "outputs": [
    {
     "data": {
      "text/plain": [
       "<Figure size 1050x700 with 1 Axes>"
      ],
      "image/png": "[encoded data removed]"
     },
     "metadata": {},
     "output_type": "display_data"
    },
    {
     "data": {
      "text/plain": [
       "                                                Review  Like  \\\n",
       "0                                 wow loved this place   1.0   \n",
       "1                                   crust is not good    0.0   \n",
       "2             not tasty and the texture was just nasty   0.0   \n",
       "3    stopped by during the late may bank holiday of...   1.0   \n",
       "4    the selection on the menu was great and so wer...   1.0   \n",
       "..                                                 ...   ...   \n",
       "192  when my order arrived one of the gyros was mis...   0.0   \n",
       "193  i had a salad with the wings and some ice crea...   1.0   \n",
       "194  im not really sure how joeys was voted best ho...   0.0   \n",
       "195       the best place to go for a tasty bowl of pho   1.0   \n",
       "196            the live music on fridays totally blows   0.0   \n",
       "\n",
       "                                        Tokenized Text  \\\n",
       "0                              wow, loved, this, place   \n",
       "1                                 crust, is, not, good   \n",
       "2      not, tasty, and, the, texture, was, just, nasty   \n",
       "3    stopped, by, during, the, late, may, bank, hol...   \n",
       "4    the, selection, on, the, menu, was, great, and...   \n",
       "..                                                 ...   \n",
       "192  when, my, order, arrived, one, of, the, gyros,...   \n",
       "193  i, had, a, salad, with, the, wings, and, some,...   \n",
       "194  im, not, really, sure, how, joeys, was, voted,...   \n",
       "195  the, best, place, to, go, for, a, tasty, bowl,...   \n",
       "196      the, live, music, on, fridays, totally, blows   \n",
       "\n",
       "                                   Review No Stopwords Review Sentiment  \\\n",
       "0                                      wow loved place          neutral   \n",
       "1                                       crust not good         positive   \n",
       "2                         not tasty texture just nasty          neutral   \n",
       "3    stopped during late may bank holiday off rick ...          neutral   \n",
       "4                          selection menu great prices         positive   \n",
       "..                                                 ...              ...   \n",
       "192                    order arrived one gyros missing          neutral   \n",
       "193  salad wings some ice cream dessert left feelin...          neutral   \n",
       "194  im not really sure joeys voted best hot dog va...          neutral   \n",
       "195                       best place go tasty bowl pho          neutral   \n",
       "196                   live music fridays totally blows          neutral   \n",
       "\n",
       "                            Review No Stopwords String Sentiment  \n",
       "0                            w o w l o v e d p l a c e   Neutral  \n",
       "1                              c r u s t n o t g o o d   Neutral  \n",
       "2      n o t t a s t y t e x t u r e j u s t n a s t y   Neutral  \n",
       "3    s t o p p e d d u r i n g l a t e m a y b a n ...   Neutral  \n",
       "4      s e l e c t i o n m e n u g r e a t p r i c e s   Neutral  \n",
       "..                                                 ...       ...  \n",
       "192  o r d e r a r r i v e d o n e g y r o s m i s ...   Neutral  \n",
       "193  s a l a d w i n g s s o m e i c e c r e a m d ...   Neutral  \n",
       "194  i m n o t r e a l l y s u r e j o e y s v o t ...   Neutral  \n",
       "195      b e s t p l a c e g o t a s t y b o w l p h o   Neutral  \n",
       "196  l i v e m u s i c f r i d a y s t o t a l l y ...   Neutral  \n",
       "\n",
       "[197 rows x 7 columns]"
      ],
      "text/html": [
       "<div>\n",
       "<style scoped>\n",
       "    .dataframe tbody tr th:only-of-type {\n",
       "        vertical-align: middle;\n",
       "    }\n",
       "\n",
       "    .dataframe tbody tr th {\n",
       "        vertical-align: top;\n",
       "    }\n",
       "\n",
       "    .dataframe thead th {\n",
       "        text-align: right;\n",
       "    }\n",
       "</style>\n",
       "<table border=\"1\" class=\"dataframe\">\n",
       "  <thead>\n",
       "    <tr style=\"text-align: right;\">\n",
       "      <th></th>\n",
       "      <th>Review</th>\n",
       "      <th>Like</th>\n",
       "      <th>Tokenized Text</th>\n",
       "      <th>Review No Stopwords</th>\n",
       "      <th>Review Sentiment</th>\n",
       "      <th>Review No Stopwords String</th>\n",
       "      <th>Sentiment</th>\n",
       "    </tr>\n",
       "  </thead>\n",
       "  <tbody>\n",
       "    <tr>\n",
       "      <th>0</th>\n",
       "      <td>wow loved this place</td>\n",
       "      <td>1.0</td>\n",
       "      <td>wow, loved, this, place</td>\n",
       "      <td>wow loved place</td>\n",
       "      <td>neutral</td>\n",
       "      <td>w o w l o v e d p l a c e</td>\n",
       "      <td>Neutral</td>\n",
       "    </tr>\n",
       "    <tr>\n",
       "      <th>1</th>\n",
       "      <td>crust is not good</td>\n",
       "      <td>0.0</td>\n",
       "      <td>crust, is, not, good</td>\n",
       "      <td>crust not good</td>\n",
       "      <td>positive</td>\n",
       "      <td>c r u s t n o t g o o d</td>\n",
       "      <td>Neutral</td>\n",
       "    </tr>\n",
       "    <tr>\n",
       "      <th>2</th>\n",
       "      <td>not tasty and the texture was just nasty</td>\n",
       "      <td>0.0</td>\n",
       "      <td>not, tasty, and, the, texture, was, just, nasty</td>\n",
       "      <td>not tasty texture just nasty</td>\n",
       "      <td>neutral</td>\n",
       "      <td>n o t t a s t y t e x t u r e j u s t n a s t y</td>\n",
       "      <td>Neutral</td>\n",
       "    </tr>\n",
       "    <tr>\n",
       "      <th>3</th>\n",
       "      <td>stopped by during the late may bank holiday of...</td>\n",
       "      <td>1.0</td>\n",
       "      <td>stopped, by, during, the, late, may, bank, hol...</td>\n",
       "      <td>stopped during late may bank holiday off rick ...</td>\n",
       "      <td>neutral</td>\n",
       "      <td>s t o p p e d d u r i n g l a t e m a y b a n ...</td>\n",
       "      <td>Neutral</td>\n",
       "    </tr>\n",
       "    <tr>\n",
       "      <th>4</th>\n",
       "      <td>the selection on the menu was great and so wer...</td>\n",
       "      <td>1.0</td>\n",
       "      <td>the, selection, on, the, menu, was, great, and...</td>\n",
       "      <td>selection menu great prices</td>\n",
       "      <td>positive</td>\n",
       "      <td>s e l e c t i o n m e n u g r e a t p r i c e s</td>\n",
       "      <td>Neutral</td>\n",
       "    </tr>\n",
       "    <tr>\n",
       "      <th>...</th>\n",
       "      <td>...</td>\n",
       "      <td>...</td>\n",
       "      <td>...</td>\n",
       "      <td>...</td>\n",
       "      <td>...</td>\n",
       "      <td>...</td>\n",
       "      <td>...</td>\n",
       "    </tr>\n",
       "    <tr>\n",
       "      <th>192</th>\n",
       "      <td>when my order arrived one of the gyros was mis...</td>\n",
       "      <td>0.0</td>\n",
       "      <td>when, my, order, arrived, one, of, the, gyros,...</td>\n",
       "      <td>order arrived one gyros missing</td>\n",
       "      <td>neutral</td>\n",
       "      <td>o r d e r a r r i v e d o n e g y r o s m i s ...</td>\n",
       "      <td>Neutral</td>\n",
       "    </tr>\n",
       "    <tr>\n",
       "      <th>193</th>\n",
       "      <td>i had a salad with the wings and some ice crea...</td>\n",
       "      <td>1.0</td>\n",
       "      <td>i, had, a, salad, with, the, wings, and, some,...</td>\n",
       "      <td>salad wings some ice cream dessert left feelin...</td>\n",
       "      <td>neutral</td>\n",
       "      <td>s a l a d w i n g s s o m e i c e c r e a m d ...</td>\n",
       "      <td>Neutral</td>\n",
       "    </tr>\n",
       "    <tr>\n",
       "      <th>194</th>\n",
       "      <td>im not really sure how joeys was voted best ho...</td>\n",
       "      <td>0.0</td>\n",
       "      <td>im, not, really, sure, how, joeys, was, voted,...</td>\n",
       "      <td>im not really sure joeys voted best hot dog va...</td>\n",
       "      <td>neutral</td>\n",
       "      <td>i m n o t r e a l l y s u r e j o e y s v o t ...</td>\n",
       "      <td>Neutral</td>\n",
       "    </tr>\n",
       "    <tr>\n",
       "      <th>195</th>\n",
       "      <td>the best place to go for a tasty bowl of pho</td>\n",
       "      <td>1.0</td>\n",
       "      <td>the, best, place, to, go, for, a, tasty, bowl,...</td>\n",
       "      <td>best place go tasty bowl pho</td>\n",
       "      <td>neutral</td>\n",
       "      <td>b e s t p l a c e g o t a s t y b o w l p h o</td>\n",
       "      <td>Neutral</td>\n",
       "    </tr>\n",
       "    <tr>\n",
       "      <th>196</th>\n",
       "      <td>the live music on fridays totally blows</td>\n",
       "      <td>0.0</td>\n",
       "      <td>the, live, music, on, fridays, totally, blows</td>\n",
       "      <td>live music fridays totally blows</td>\n",
       "      <td>neutral</td>\n",
       "      <td>l i v e m u s i c f r i d a y s t o t a l l y ...</td>\n",
       "      <td>Neutral</td>\n",
       "    </tr>\n",
       "  </tbody>\n",
       "</table>\n",
       "<p>197 rows × 7 columns</p>\n",
       "</div>"
      ]
     },
     "execution_count": 21,
     "metadata": {},
     "output_type": "execute_result"
    }
   ],
   "execution_count": 21
  },
  {
   "metadata": {
    "ExecuteTime": {
     "end_time": "2025-04-11T19:30:17.057613Z",
     "start_time": "2025-04-11T19:30:17.054869Z"
    }
   },
   "cell_type": "code",
   "source": "",
   "id": "b34e2f585480ee0e",
   "outputs": [],
   "execution_count": null
  },
  {
   "metadata": {
    "ExecuteTime": {
     "end_time": "2025-04-11T19:30:17.174859Z",
     "start_time": "2025-04-11T19:30:17.172704Z"
    }
   },
   "cell_type": "code",
   "source": "",
   "id": "8d1dc02be05cc71a",
   "outputs": [],
   "execution_count": null
  },
  {
   "metadata": {
    "ExecuteTime": {
     "end_time": "2025-04-11T19:30:17.215826Z",
     "start_time": "2025-04-11T19:30:17.214417Z"
    }
   },
   "cell_type": "code",
   "source": "",
   "id": "e1958304e299567f",
   "outputs": [],
   "execution_count": null
  },
  {
   "metadata": {
    "ExecuteTime": {
     "end_time": "2025-04-11T19:30:17.239227Z",
     "start_time": "2025-04-11T19:30:17.237383Z"
    }
   },
   "cell_type": "code",
   "source": "",
   "id": "1729ffa52f5c2ed9",
   "outputs": [],
   "execution_count": null
  }
 ],
 "metadata": {
  "kernelspec": {
   "name": "python3",
   "language": "python",
   "display_name": "Python 3 (ipykernel)"
  }
 },
 "nbformat": 5,
 "nbformat_minor": 9
}
