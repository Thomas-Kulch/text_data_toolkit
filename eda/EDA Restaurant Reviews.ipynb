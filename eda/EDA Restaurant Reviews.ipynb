{
 "cells": [
  {
   "metadata": {},
   "cell_type": "markdown",
   "source": "# EDA Restaurant Reviews\n",
   "id": "60cbb17056eb40d5"
  },
  {
   "metadata": {},
   "cell_type": "markdown",
   "source": [
    "Using Python 3.13\n",
    "\n",
    "Using this for an inital look at the data and to play around with it.\n",
    "We can grab more datasets too"
   ],
   "id": "44b194ae4661e570"
  },
  {
   "metadata": {
    "ExecuteTime": {
     "end_time": "2025-04-14T09:21:46.562097Z",
     "start_time": "2025-04-14T09:21:45.918237Z"
    }
   },
   "cell_type": "code",
   "source": [
    "from text_data_toolkit import data_cleaning as clean\n",
    "from text_data_toolkit import data_transformation as transform\n",
    "from text_data_toolkit import eda\n",
    "import seaborn as sns\n",
    "import matplotlib.pyplot as plt"
   ],
   "id": "aa7b4657d2c394cb",
   "outputs": [],
   "execution_count": 1
  },
  {
   "metadata": {},
   "cell_type": "markdown",
   "source": "Space for File Operations\n",
   "id": "309301e28d652689"
  },
  {
   "metadata": {},
   "cell_type": "markdown",
   "source": "# Here lies an example of the data cleaning modules\n",
   "id": "a83fe8021bb11cfc"
  },
  {
   "metadata": {
    "ExecuteTime": {
     "end_time": "2025-04-14T09:21:46.573557Z",
     "start_time": "2025-04-14T09:21:46.565946Z"
    }
   },
   "cell_type": "code",
   "source": [
    "files = ['../data/Restaurant_Reviews_Test.tsv',\n",
    "         '../data/Restaurant_Reviews.csv',\n",
    "         '../data/Restaurant_Reviews2.txt']\n",
    "\n",
    "\n",
    "dfs = clean.load_text_to_df(files, columns = [\"Review\", \"Like\"], line_length = 2)"
   ],
   "id": "a1faa77d5c3f18ae",
   "outputs": [],
   "execution_count": 2
  },
  {
   "metadata": {
    "ExecuteTime": {
     "end_time": "2025-04-14T09:21:46.645845Z",
     "start_time": "2025-04-14T09:21:46.640880Z"
    }
   },
   "cell_type": "code",
   "source": [
    "df_csv = dfs['Restaurant_Reviews']\n",
    "df_csv.head()"
   ],
   "id": "72542cf6235d4300",
   "outputs": [
    {
     "data": {
      "text/plain": [
       "                                              Review  Like\n",
       "0                           Wow... Loved this place.     1\n",
       "1                                 Crust is not good.     0\n",
       "2          Not tasty and the texture was just nasty.     0\n",
       "3  Stopped by during the late May bank holiday of...     1\n",
       "4  The selection on the menu was great and so wer...     1"
      ],
      "text/html": [
       "<div>\n",
       "<style scoped>\n",
       "    .dataframe tbody tr th:only-of-type {\n",
       "        vertical-align: middle;\n",
       "    }\n",
       "\n",
       "    .dataframe tbody tr th {\n",
       "        vertical-align: top;\n",
       "    }\n",
       "\n",
       "    .dataframe thead th {\n",
       "        text-align: right;\n",
       "    }\n",
       "</style>\n",
       "<table border=\"1\" class=\"dataframe\">\n",
       "  <thead>\n",
       "    <tr style=\"text-align: right;\">\n",
       "      <th></th>\n",
       "      <th>Review</th>\n",
       "      <th>Like</th>\n",
       "    </tr>\n",
       "  </thead>\n",
       "  <tbody>\n",
       "    <tr>\n",
       "      <th>0</th>\n",
       "      <td>Wow... Loved this place.</td>\n",
       "      <td>1</td>\n",
       "    </tr>\n",
       "    <tr>\n",
       "      <th>1</th>\n",
       "      <td>Crust is not good.</td>\n",
       "      <td>0</td>\n",
       "    </tr>\n",
       "    <tr>\n",
       "      <th>2</th>\n",
       "      <td>Not tasty and the texture was just nasty.</td>\n",
       "      <td>0</td>\n",
       "    </tr>\n",
       "    <tr>\n",
       "      <th>3</th>\n",
       "      <td>Stopped by during the late May bank holiday of...</td>\n",
       "      <td>1</td>\n",
       "    </tr>\n",
       "    <tr>\n",
       "      <th>4</th>\n",
       "      <td>The selection on the menu was great and so wer...</td>\n",
       "      <td>1</td>\n",
       "    </tr>\n",
       "  </tbody>\n",
       "</table>\n",
       "</div>"
      ]
     },
     "execution_count": 3,
     "metadata": {},
     "output_type": "execute_result"
    }
   ],
   "execution_count": 3
  },
  {
   "metadata": {
    "ExecuteTime": {
     "end_time": "2025-04-14T09:21:46.672129Z",
     "start_time": "2025-04-14T09:21:46.667461Z"
    }
   },
   "cell_type": "code",
   "source": [
    "df_txt = dfs['Restaurant_Reviews2']\n",
    "df_txt = df_txt.drop(0)\n",
    "df_txt.head()"
   ],
   "id": "e3cd0178c9ec1d3d",
   "outputs": [
    {
     "data": {
      "text/plain": [
       "                                              Review Like\n",
       "1                           Wow... Loved this place.    1\n",
       "2                                 Crust is not good.    0\n",
       "3          Not tasty and the texture was just nasty.    0\n",
       "4  Stopped by during the late May bank holiday of...    1\n",
       "5  The selection on the menu was great and so wer...    1"
      ],
      "text/html": [
       "<div>\n",
       "<style scoped>\n",
       "    .dataframe tbody tr th:only-of-type {\n",
       "        vertical-align: middle;\n",
       "    }\n",
       "\n",
       "    .dataframe tbody tr th {\n",
       "        vertical-align: top;\n",
       "    }\n",
       "\n",
       "    .dataframe thead th {\n",
       "        text-align: right;\n",
       "    }\n",
       "</style>\n",
       "<table border=\"1\" class=\"dataframe\">\n",
       "  <thead>\n",
       "    <tr style=\"text-align: right;\">\n",
       "      <th></th>\n",
       "      <th>Review</th>\n",
       "      <th>Like</th>\n",
       "    </tr>\n",
       "  </thead>\n",
       "  <tbody>\n",
       "    <tr>\n",
       "      <th>1</th>\n",
       "      <td>Wow... Loved this place.</td>\n",
       "      <td>1</td>\n",
       "    </tr>\n",
       "    <tr>\n",
       "      <th>2</th>\n",
       "      <td>Crust is not good.</td>\n",
       "      <td>0</td>\n",
       "    </tr>\n",
       "    <tr>\n",
       "      <th>3</th>\n",
       "      <td>Not tasty and the texture was just nasty.</td>\n",
       "      <td>0</td>\n",
       "    </tr>\n",
       "    <tr>\n",
       "      <th>4</th>\n",
       "      <td>Stopped by during the late May bank holiday of...</td>\n",
       "      <td>1</td>\n",
       "    </tr>\n",
       "    <tr>\n",
       "      <th>5</th>\n",
       "      <td>The selection on the menu was great and so wer...</td>\n",
       "      <td>1</td>\n",
       "    </tr>\n",
       "  </tbody>\n",
       "</table>\n",
       "</div>"
      ]
     },
     "execution_count": 4,
     "metadata": {},
     "output_type": "execute_result"
    }
   ],
   "execution_count": 4
  },
  {
   "metadata": {
    "ExecuteTime": {
     "end_time": "2025-04-14T09:21:46.706714Z",
     "start_time": "2025-04-14T09:21:46.703429Z"
    }
   },
   "cell_type": "code",
   "source": [
    "df_tsv = dfs['Restaurant_Reviews_Test']\n",
    "df_tsv.head()"
   ],
   "id": "3fa8b69f7da6a7ce",
   "outputs": [
    {
     "data": {
      "text/plain": [
       "                                      Review  Like\n",
       "0                   Wow... Loved this place.   1.0\n",
       "1                      Crust isn't good    .   0.0\n",
       "2                   Wow... Loved this place.   1.0\n",
       "3                                          \"   NaN\n",
       "4  Not tasty and the texture was just nasty.   0.0"
      ],
      "text/html": [
       "<div>\n",
       "<style scoped>\n",
       "    .dataframe tbody tr th:only-of-type {\n",
       "        vertical-align: middle;\n",
       "    }\n",
       "\n",
       "    .dataframe tbody tr th {\n",
       "        vertical-align: top;\n",
       "    }\n",
       "\n",
       "    .dataframe thead th {\n",
       "        text-align: right;\n",
       "    }\n",
       "</style>\n",
       "<table border=\"1\" class=\"dataframe\">\n",
       "  <thead>\n",
       "    <tr style=\"text-align: right;\">\n",
       "      <th></th>\n",
       "      <th>Review</th>\n",
       "      <th>Like</th>\n",
       "    </tr>\n",
       "  </thead>\n",
       "  <tbody>\n",
       "    <tr>\n",
       "      <th>0</th>\n",
       "      <td>Wow... Loved this place.</td>\n",
       "      <td>1.0</td>\n",
       "    </tr>\n",
       "    <tr>\n",
       "      <th>1</th>\n",
       "      <td>Crust isn't good    .</td>\n",
       "      <td>0.0</td>\n",
       "    </tr>\n",
       "    <tr>\n",
       "      <th>2</th>\n",
       "      <td>Wow... Loved this place.</td>\n",
       "      <td>1.0</td>\n",
       "    </tr>\n",
       "    <tr>\n",
       "      <th>3</th>\n",
       "      <td>\"</td>\n",
       "      <td>NaN</td>\n",
       "    </tr>\n",
       "    <tr>\n",
       "      <th>4</th>\n",
       "      <td>Not tasty and the texture was just nasty.</td>\n",
       "      <td>0.0</td>\n",
       "    </tr>\n",
       "  </tbody>\n",
       "</table>\n",
       "</div>"
      ]
     },
     "execution_count": 5,
     "metadata": {},
     "output_type": "execute_result"
    }
   ],
   "execution_count": 5
  },
  {
   "metadata": {
    "ExecuteTime": {
     "end_time": "2025-04-14T09:21:46.827382Z",
     "start_time": "2025-04-14T09:21:46.825428Z"
    }
   },
   "cell_type": "code",
   "source": "df_tsv = clean.homogenize_columns(df_tsv)",
   "id": "277123ec29497c78",
   "outputs": [],
   "execution_count": 6
  },
  {
   "metadata": {
    "ExecuteTime": {
     "end_time": "2025-04-14T09:21:47.000174Z",
     "start_time": "2025-04-14T09:21:46.903994Z"
    }
   },
   "cell_type": "code",
   "source": [
    "# Remove Duplicates\n",
    "df_tsv_remove_dup = clean.remove_duplicates_fuzzy(df_tsv, \"review\", threshold = 90)\n",
    "df_tsv_remove_dup.head()"
   ],
   "id": "5adeb9fbff53f24e",
   "outputs": [
    {
     "data": {
      "text/plain": [
       "                                              review  like\n",
       "0                           Wow... Loved this place.   1.0\n",
       "1                              Crust isn't good    .   0.0\n",
       "2                                                  \"   NaN\n",
       "3          Not tasty and the texture was just nasty.   0.0\n",
       "4  Stopped by during the late May bank holiday of...   1.0"
      ],
      "text/html": [
       "<div>\n",
       "<style scoped>\n",
       "    .dataframe tbody tr th:only-of-type {\n",
       "        vertical-align: middle;\n",
       "    }\n",
       "\n",
       "    .dataframe tbody tr th {\n",
       "        vertical-align: top;\n",
       "    }\n",
       "\n",
       "    .dataframe thead th {\n",
       "        text-align: right;\n",
       "    }\n",
       "</style>\n",
       "<table border=\"1\" class=\"dataframe\">\n",
       "  <thead>\n",
       "    <tr style=\"text-align: right;\">\n",
       "      <th></th>\n",
       "      <th>review</th>\n",
       "      <th>like</th>\n",
       "    </tr>\n",
       "  </thead>\n",
       "  <tbody>\n",
       "    <tr>\n",
       "      <th>0</th>\n",
       "      <td>Wow... Loved this place.</td>\n",
       "      <td>1.0</td>\n",
       "    </tr>\n",
       "    <tr>\n",
       "      <th>1</th>\n",
       "      <td>Crust isn't good    .</td>\n",
       "      <td>0.0</td>\n",
       "    </tr>\n",
       "    <tr>\n",
       "      <th>2</th>\n",
       "      <td>\"</td>\n",
       "      <td>NaN</td>\n",
       "    </tr>\n",
       "    <tr>\n",
       "      <th>3</th>\n",
       "      <td>Not tasty and the texture was just nasty.</td>\n",
       "      <td>0.0</td>\n",
       "    </tr>\n",
       "    <tr>\n",
       "      <th>4</th>\n",
       "      <td>Stopped by during the late May bank holiday of...</td>\n",
       "      <td>1.0</td>\n",
       "    </tr>\n",
       "  </tbody>\n",
       "</table>\n",
       "</div>"
      ]
     },
     "execution_count": 7,
     "metadata": {},
     "output_type": "execute_result"
    }
   ],
   "execution_count": 7
  },
  {
   "metadata": {
    "ExecuteTime": {
     "end_time": "2025-04-14T09:21:47.046267Z",
     "start_time": "2025-04-14T09:21:47.033230Z"
    }
   },
   "cell_type": "code",
   "source": [
    "# Normalize the Text (Lowercase & Remove Punctuation, Remove Whitespaces)\n",
    "df_tsv_norm = clean.normalize_data(df_tsv_remove_dup, \"review\")\n",
    "df_tsv_norm.head()"
   ],
   "id": "6306413e4d6b5a81",
   "outputs": [
    {
     "data": {
      "text/plain": [
       "                                              review  like\n",
       "0                               wow loved this place   1.0\n",
       "1                                  crust isn't good    0.0\n",
       "2                                                      NaN\n",
       "3           not tasty and the texture was just nasty   0.0\n",
       "4  stopped by during the late may bank holiday of...   1.0"
      ],
      "text/html": [
       "<div>\n",
       "<style scoped>\n",
       "    .dataframe tbody tr th:only-of-type {\n",
       "        vertical-align: middle;\n",
       "    }\n",
       "\n",
       "    .dataframe tbody tr th {\n",
       "        vertical-align: top;\n",
       "    }\n",
       "\n",
       "    .dataframe thead th {\n",
       "        text-align: right;\n",
       "    }\n",
       "</style>\n",
       "<table border=\"1\" class=\"dataframe\">\n",
       "  <thead>\n",
       "    <tr style=\"text-align: right;\">\n",
       "      <th></th>\n",
       "      <th>review</th>\n",
       "      <th>like</th>\n",
       "    </tr>\n",
       "  </thead>\n",
       "  <tbody>\n",
       "    <tr>\n",
       "      <th>0</th>\n",
       "      <td>wow loved this place</td>\n",
       "      <td>1.0</td>\n",
       "    </tr>\n",
       "    <tr>\n",
       "      <th>1</th>\n",
       "      <td>crust isn't good</td>\n",
       "      <td>0.0</td>\n",
       "    </tr>\n",
       "    <tr>\n",
       "      <th>2</th>\n",
       "      <td></td>\n",
       "      <td>NaN</td>\n",
       "    </tr>\n",
       "    <tr>\n",
       "      <th>3</th>\n",
       "      <td>not tasty and the texture was just nasty</td>\n",
       "      <td>0.0</td>\n",
       "    </tr>\n",
       "    <tr>\n",
       "      <th>4</th>\n",
       "      <td>stopped by during the late may bank holiday of...</td>\n",
       "      <td>1.0</td>\n",
       "    </tr>\n",
       "  </tbody>\n",
       "</table>\n",
       "</div>"
      ]
     },
     "execution_count": 8,
     "metadata": {},
     "output_type": "execute_result"
    }
   ],
   "execution_count": 8
  },
  {
   "metadata": {
    "ExecuteTime": {
     "end_time": "2025-04-14T09:21:47.094281Z",
     "start_time": "2025-04-14T09:21:47.089442Z"
    }
   },
   "cell_type": "code",
   "source": [
    "# Handle Missing Values\n",
    "df_tsv_na = clean.handle_missing_values(df_tsv, \"review\")\n",
    "df_tsv_na.head()"
   ],
   "id": "2a1657b425b568",
   "outputs": [
    {
     "data": {
      "text/plain": [
       "                                              review  like\n",
       "0                               wow loved this place   1.0\n",
       "1                                  crust isn't good    0.0\n",
       "2           not tasty and the texture was just nasty   0.0\n",
       "3  stopped by during the late may bank holiday of...   1.0\n",
       "4  the selection on the menu was great and so wer...   1.0"
      ],
      "text/html": [
       "<div>\n",
       "<style scoped>\n",
       "    .dataframe tbody tr th:only-of-type {\n",
       "        vertical-align: middle;\n",
       "    }\n",
       "\n",
       "    .dataframe tbody tr th {\n",
       "        vertical-align: top;\n",
       "    }\n",
       "\n",
       "    .dataframe thead th {\n",
       "        text-align: right;\n",
       "    }\n",
       "</style>\n",
       "<table border=\"1\" class=\"dataframe\">\n",
       "  <thead>\n",
       "    <tr style=\"text-align: right;\">\n",
       "      <th></th>\n",
       "      <th>review</th>\n",
       "      <th>like</th>\n",
       "    </tr>\n",
       "  </thead>\n",
       "  <tbody>\n",
       "    <tr>\n",
       "      <th>0</th>\n",
       "      <td>wow loved this place</td>\n",
       "      <td>1.0</td>\n",
       "    </tr>\n",
       "    <tr>\n",
       "      <th>1</th>\n",
       "      <td>crust isn't good</td>\n",
       "      <td>0.0</td>\n",
       "    </tr>\n",
       "    <tr>\n",
       "      <th>2</th>\n",
       "      <td>not tasty and the texture was just nasty</td>\n",
       "      <td>0.0</td>\n",
       "    </tr>\n",
       "    <tr>\n",
       "      <th>3</th>\n",
       "      <td>stopped by during the late may bank holiday of...</td>\n",
       "      <td>1.0</td>\n",
       "    </tr>\n",
       "    <tr>\n",
       "      <th>4</th>\n",
       "      <td>the selection on the menu was great and so wer...</td>\n",
       "      <td>1.0</td>\n",
       "    </tr>\n",
       "  </tbody>\n",
       "</table>\n",
       "</div>"
      ]
     },
     "execution_count": 9,
     "metadata": {},
     "output_type": "execute_result"
    }
   ],
   "execution_count": 9
  },
  {
   "metadata": {
    "ExecuteTime": {
     "end_time": "2025-04-14T09:21:47.186306Z",
     "start_time": "2025-04-14T09:21:47.181148Z"
    }
   },
   "cell_type": "code",
   "source": [
    "# Original Text Data to demonstrate Mass Cleaning Function\n",
    "df_test = clean.load_text_to_df(['../data/Restaurant_Reviews_Test.tsv'],\n",
    "                            columns =[\"Review\", \"Like\"], line_length = 0)\n",
    "df_tsv_dirty = df_test['Restaurant_Reviews_Test']\n",
    "df_tsv_dirty.head()"
   ],
   "id": "c392a3e4c9c7ad0",
   "outputs": [
    {
     "data": {
      "text/plain": [
       "                                      Review  Like\n",
       "0                   Wow... Loved this place.   1.0\n",
       "1                      Crust isn't good    .   0.0\n",
       "2                   Wow... Loved this place.   1.0\n",
       "3                                          \"   NaN\n",
       "4  Not tasty and the texture was just nasty.   0.0"
      ],
      "text/html": [
       "<div>\n",
       "<style scoped>\n",
       "    .dataframe tbody tr th:only-of-type {\n",
       "        vertical-align: middle;\n",
       "    }\n",
       "\n",
       "    .dataframe tbody tr th {\n",
       "        vertical-align: top;\n",
       "    }\n",
       "\n",
       "    .dataframe thead th {\n",
       "        text-align: right;\n",
       "    }\n",
       "</style>\n",
       "<table border=\"1\" class=\"dataframe\">\n",
       "  <thead>\n",
       "    <tr style=\"text-align: right;\">\n",
       "      <th></th>\n",
       "      <th>Review</th>\n",
       "      <th>Like</th>\n",
       "    </tr>\n",
       "  </thead>\n",
       "  <tbody>\n",
       "    <tr>\n",
       "      <th>0</th>\n",
       "      <td>Wow... Loved this place.</td>\n",
       "      <td>1.0</td>\n",
       "    </tr>\n",
       "    <tr>\n",
       "      <th>1</th>\n",
       "      <td>Crust isn't good    .</td>\n",
       "      <td>0.0</td>\n",
       "    </tr>\n",
       "    <tr>\n",
       "      <th>2</th>\n",
       "      <td>Wow... Loved this place.</td>\n",
       "      <td>1.0</td>\n",
       "    </tr>\n",
       "    <tr>\n",
       "      <th>3</th>\n",
       "      <td>\"</td>\n",
       "      <td>NaN</td>\n",
       "    </tr>\n",
       "    <tr>\n",
       "      <th>4</th>\n",
       "      <td>Not tasty and the texture was just nasty.</td>\n",
       "      <td>0.0</td>\n",
       "    </tr>\n",
       "  </tbody>\n",
       "</table>\n",
       "</div>"
      ]
     },
     "execution_count": 10,
     "metadata": {},
     "output_type": "execute_result"
    }
   ],
   "execution_count": 10
  },
  {
   "metadata": {
    "ExecuteTime": {
     "end_time": "2025-04-14T09:21:47.396546Z",
     "start_time": "2025-04-14T09:21:47.287802Z"
    }
   },
   "cell_type": "code",
   "source": [
    "# Mass Cleaning Function (Remove Duplicates, Normalize, Handle Missing Values)\n",
    "cleaned_df_tsv = clean.clean_dataframe(df_tsv_dirty, \"review\")\n",
    "cleaned_df_tsv.head()"
   ],
   "id": "555e4378697a62e5",
   "outputs": [
    {
     "data": {
      "text/plain": [
       "                                              review  like\n",
       "0                               wow loved this place   1.0\n",
       "1                                  crust isn't good    0.0\n",
       "2           not tasty and the texture was just nasty   0.0\n",
       "3  stopped by during the late may bank holiday of...   1.0\n",
       "4  the selection on the menu was great and so wer...   1.0"
      ],
      "text/html": [
       "<div>\n",
       "<style scoped>\n",
       "    .dataframe tbody tr th:only-of-type {\n",
       "        vertical-align: middle;\n",
       "    }\n",
       "\n",
       "    .dataframe tbody tr th {\n",
       "        vertical-align: top;\n",
       "    }\n",
       "\n",
       "    .dataframe thead th {\n",
       "        text-align: right;\n",
       "    }\n",
       "</style>\n",
       "<table border=\"1\" class=\"dataframe\">\n",
       "  <thead>\n",
       "    <tr style=\"text-align: right;\">\n",
       "      <th></th>\n",
       "      <th>review</th>\n",
       "      <th>like</th>\n",
       "    </tr>\n",
       "  </thead>\n",
       "  <tbody>\n",
       "    <tr>\n",
       "      <th>0</th>\n",
       "      <td>wow loved this place</td>\n",
       "      <td>1.0</td>\n",
       "    </tr>\n",
       "    <tr>\n",
       "      <th>1</th>\n",
       "      <td>crust isn't good</td>\n",
       "      <td>0.0</td>\n",
       "    </tr>\n",
       "    <tr>\n",
       "      <th>2</th>\n",
       "      <td>not tasty and the texture was just nasty</td>\n",
       "      <td>0.0</td>\n",
       "    </tr>\n",
       "    <tr>\n",
       "      <th>3</th>\n",
       "      <td>stopped by during the late may bank holiday of...</td>\n",
       "      <td>1.0</td>\n",
       "    </tr>\n",
       "    <tr>\n",
       "      <th>4</th>\n",
       "      <td>the selection on the menu was great and so wer...</td>\n",
       "      <td>1.0</td>\n",
       "    </tr>\n",
       "  </tbody>\n",
       "</table>\n",
       "</div>"
      ]
     },
     "execution_count": 11,
     "metadata": {},
     "output_type": "execute_result"
    }
   ],
   "execution_count": 11
  },
  {
   "metadata": {},
   "cell_type": "markdown",
   "source": "# Here lies examples of the data transformation modules\n",
   "id": "d42284fe0756bffa"
  },
  {
   "metadata": {
    "ExecuteTime": {
     "end_time": "2025-04-14T09:21:47.467791Z",
     "start_time": "2025-04-14T09:21:47.462608Z"
    }
   },
   "cell_type": "code",
   "source": [
    "# Tokenize Dataframe Example\n",
    "cleaned_df_tsv_tokenized = transform.tokenize_dataframe(cleaned_df_tsv, \"review\")\n",
    "cleaned_df_tsv_tokenized.head()"
   ],
   "id": "2b3ce03705469e5c",
   "outputs": [
    {
     "data": {
      "text/plain": [
       "                                              review  like  \\\n",
       "0                               wow loved this place   1.0   \n",
       "1                                  crust isn't good    0.0   \n",
       "2           not tasty and the texture was just nasty   0.0   \n",
       "3  stopped by during the late may bank holiday of...   1.0   \n",
       "4  the selection on the menu was great and so wer...   1.0   \n",
       "\n",
       "                                      Tokenized Text  \n",
       "0                            wow, loved, this, place  \n",
       "1                                 crust, isn't, good  \n",
       "2    not, tasty, and, the, texture, was, just, nasty  \n",
       "3  stopped, by, during, the, late, may, bank, hol...  \n",
       "4  the, selection, on, the, menu, was, great, and...  "
      ],
      "text/html": [
       "<div>\n",
       "<style scoped>\n",
       "    .dataframe tbody tr th:only-of-type {\n",
       "        vertical-align: middle;\n",
       "    }\n",
       "\n",
       "    .dataframe tbody tr th {\n",
       "        vertical-align: top;\n",
       "    }\n",
       "\n",
       "    .dataframe thead th {\n",
       "        text-align: right;\n",
       "    }\n",
       "</style>\n",
       "<table border=\"1\" class=\"dataframe\">\n",
       "  <thead>\n",
       "    <tr style=\"text-align: right;\">\n",
       "      <th></th>\n",
       "      <th>review</th>\n",
       "      <th>like</th>\n",
       "      <th>Tokenized Text</th>\n",
       "    </tr>\n",
       "  </thead>\n",
       "  <tbody>\n",
       "    <tr>\n",
       "      <th>0</th>\n",
       "      <td>wow loved this place</td>\n",
       "      <td>1.0</td>\n",
       "      <td>wow, loved, this, place</td>\n",
       "    </tr>\n",
       "    <tr>\n",
       "      <th>1</th>\n",
       "      <td>crust isn't good</td>\n",
       "      <td>0.0</td>\n",
       "      <td>crust, isn't, good</td>\n",
       "    </tr>\n",
       "    <tr>\n",
       "      <th>2</th>\n",
       "      <td>not tasty and the texture was just nasty</td>\n",
       "      <td>0.0</td>\n",
       "      <td>not, tasty, and, the, texture, was, just, nasty</td>\n",
       "    </tr>\n",
       "    <tr>\n",
       "      <th>3</th>\n",
       "      <td>stopped by during the late may bank holiday of...</td>\n",
       "      <td>1.0</td>\n",
       "      <td>stopped, by, during, the, late, may, bank, hol...</td>\n",
       "    </tr>\n",
       "    <tr>\n",
       "      <th>4</th>\n",
       "      <td>the selection on the menu was great and so wer...</td>\n",
       "      <td>1.0</td>\n",
       "      <td>the, selection, on, the, menu, was, great, and...</td>\n",
       "    </tr>\n",
       "  </tbody>\n",
       "</table>\n",
       "</div>"
      ]
     },
     "execution_count": 12,
     "metadata": {},
     "output_type": "execute_result"
    }
   ],
   "execution_count": 12
  },
  {
   "metadata": {
    "ExecuteTime": {
     "end_time": "2025-04-14T09:21:47.537729Z",
     "start_time": "2025-04-14T09:21:47.532871Z"
    }
   },
   "cell_type": "code",
   "source": [
    "# Remove Stopwords Example\n",
    "cleaned_df_tsv = transform.remove_stopwords(cleaned_df_tsv_tokenized, \"review\", custom_stopword = None, new_column = \"Review No Stopwords\")\n",
    "\n",
    "cleaned_df_tsv.head()"
   ],
   "id": "533df24f40fbfb02",
   "outputs": [
    {
     "data": {
      "text/plain": [
       "                                              review  like  \\\n",
       "0                               wow loved this place   1.0   \n",
       "1                                  crust isn't good    0.0   \n",
       "2           not tasty and the texture was just nasty   0.0   \n",
       "3  stopped by during the late may bank holiday of...   1.0   \n",
       "4  the selection on the menu was great and so wer...   1.0   \n",
       "\n",
       "                                      Tokenized Text  \\\n",
       "0                            wow, loved, this, place   \n",
       "1                                 crust, isn't, good   \n",
       "2    not, tasty, and, the, texture, was, just, nasty   \n",
       "3  stopped, by, during, the, late, may, bank, hol...   \n",
       "4  the, selection, on, the, menu, was, great, and...   \n",
       "\n",
       "                                 Review No Stopwords  \n",
       "0                                    wow loved place  \n",
       "1                                   crust isn't good  \n",
       "2                       not tasty texture just nasty  \n",
       "3  stopped during late may bank holiday off rick ...  \n",
       "4                        selection menu great prices  "
      ],
      "text/html": [
       "<div>\n",
       "<style scoped>\n",
       "    .dataframe tbody tr th:only-of-type {\n",
       "        vertical-align: middle;\n",
       "    }\n",
       "\n",
       "    .dataframe tbody tr th {\n",
       "        vertical-align: top;\n",
       "    }\n",
       "\n",
       "    .dataframe thead th {\n",
       "        text-align: right;\n",
       "    }\n",
       "</style>\n",
       "<table border=\"1\" class=\"dataframe\">\n",
       "  <thead>\n",
       "    <tr style=\"text-align: right;\">\n",
       "      <th></th>\n",
       "      <th>review</th>\n",
       "      <th>like</th>\n",
       "      <th>Tokenized Text</th>\n",
       "      <th>Review No Stopwords</th>\n",
       "    </tr>\n",
       "  </thead>\n",
       "  <tbody>\n",
       "    <tr>\n",
       "      <th>0</th>\n",
       "      <td>wow loved this place</td>\n",
       "      <td>1.0</td>\n",
       "      <td>wow, loved, this, place</td>\n",
       "      <td>wow loved place</td>\n",
       "    </tr>\n",
       "    <tr>\n",
       "      <th>1</th>\n",
       "      <td>crust isn't good</td>\n",
       "      <td>0.0</td>\n",
       "      <td>crust, isn't, good</td>\n",
       "      <td>crust isn't good</td>\n",
       "    </tr>\n",
       "    <tr>\n",
       "      <th>2</th>\n",
       "      <td>not tasty and the texture was just nasty</td>\n",
       "      <td>0.0</td>\n",
       "      <td>not, tasty, and, the, texture, was, just, nasty</td>\n",
       "      <td>not tasty texture just nasty</td>\n",
       "    </tr>\n",
       "    <tr>\n",
       "      <th>3</th>\n",
       "      <td>stopped by during the late may bank holiday of...</td>\n",
       "      <td>1.0</td>\n",
       "      <td>stopped, by, during, the, late, may, bank, hol...</td>\n",
       "      <td>stopped during late may bank holiday off rick ...</td>\n",
       "    </tr>\n",
       "    <tr>\n",
       "      <th>4</th>\n",
       "      <td>the selection on the menu was great and so wer...</td>\n",
       "      <td>1.0</td>\n",
       "      <td>the, selection, on, the, menu, was, great, and...</td>\n",
       "      <td>selection menu great prices</td>\n",
       "    </tr>\n",
       "  </tbody>\n",
       "</table>\n",
       "</div>"
      ]
     },
     "execution_count": 13,
     "metadata": {},
     "output_type": "execute_result"
    }
   ],
   "execution_count": 13
  },
  {
   "metadata": {
    "ExecuteTime": {
     "end_time": "2025-04-14T09:21:47.933261Z",
     "start_time": "2025-04-14T09:21:47.648151Z"
    }
   },
   "cell_type": "code",
   "source": [
    "# Stem Words Example\n",
    "cleaned_df_tsv[\"Stemmed\"] = cleaned_df_tsv[\"Review No Stopwords\"].apply(transform.basic_stem_words)\n",
    "\n",
    "cleaned_df_tsv.head()\n"
   ],
   "id": "8d738d25a2660bbd",
   "outputs": [
    {
     "data": {
      "text/plain": [
       "                                              review  like  \\\n",
       "0                               wow loved this place   1.0   \n",
       "1                                  crust isn't good    0.0   \n",
       "2           not tasty and the texture was just nasty   0.0   \n",
       "3  stopped by during the late may bank holiday of...   1.0   \n",
       "4  the selection on the menu was great and so wer...   1.0   \n",
       "\n",
       "                                      Tokenized Text  \\\n",
       "0                            wow, loved, this, place   \n",
       "1                                 crust, isn't, good   \n",
       "2    not, tasty, and, the, texture, was, just, nasty   \n",
       "3  stopped, by, during, the, late, may, bank, hol...   \n",
       "4  the, selection, on, the, menu, was, great, and...   \n",
       "\n",
       "                                 Review No Stopwords  \\\n",
       "0                                    wow loved place   \n",
       "1                                   crust isn't good   \n",
       "2                       not tasty texture just nasty   \n",
       "3  stopped during late may bank holiday off rick ...   \n",
       "4                        selection menu great prices   \n",
       "\n",
       "                                             Stemmed  \n",
       "0                                    wow loved place  \n",
       "1                                   crust isn't good  \n",
       "2                       not tasty texture just nasty  \n",
       "3  stopped during late may bank holiday off rick ...  \n",
       "4                            select menu great price  "
      ],
      "text/html": [
       "<div>\n",
       "<style scoped>\n",
       "    .dataframe tbody tr th:only-of-type {\n",
       "        vertical-align: middle;\n",
       "    }\n",
       "\n",
       "    .dataframe tbody tr th {\n",
       "        vertical-align: top;\n",
       "    }\n",
       "\n",
       "    .dataframe thead th {\n",
       "        text-align: right;\n",
       "    }\n",
       "</style>\n",
       "<table border=\"1\" class=\"dataframe\">\n",
       "  <thead>\n",
       "    <tr style=\"text-align: right;\">\n",
       "      <th></th>\n",
       "      <th>review</th>\n",
       "      <th>like</th>\n",
       "      <th>Tokenized Text</th>\n",
       "      <th>Review No Stopwords</th>\n",
       "      <th>Stemmed</th>\n",
       "    </tr>\n",
       "  </thead>\n",
       "  <tbody>\n",
       "    <tr>\n",
       "      <th>0</th>\n",
       "      <td>wow loved this place</td>\n",
       "      <td>1.0</td>\n",
       "      <td>wow, loved, this, place</td>\n",
       "      <td>wow loved place</td>\n",
       "      <td>wow loved place</td>\n",
       "    </tr>\n",
       "    <tr>\n",
       "      <th>1</th>\n",
       "      <td>crust isn't good</td>\n",
       "      <td>0.0</td>\n",
       "      <td>crust, isn't, good</td>\n",
       "      <td>crust isn't good</td>\n",
       "      <td>crust isn't good</td>\n",
       "    </tr>\n",
       "    <tr>\n",
       "      <th>2</th>\n",
       "      <td>not tasty and the texture was just nasty</td>\n",
       "      <td>0.0</td>\n",
       "      <td>not, tasty, and, the, texture, was, just, nasty</td>\n",
       "      <td>not tasty texture just nasty</td>\n",
       "      <td>not tasty texture just nasty</td>\n",
       "    </tr>\n",
       "    <tr>\n",
       "      <th>3</th>\n",
       "      <td>stopped by during the late may bank holiday of...</td>\n",
       "      <td>1.0</td>\n",
       "      <td>stopped, by, during, the, late, may, bank, hol...</td>\n",
       "      <td>stopped during late may bank holiday off rick ...</td>\n",
       "      <td>stopped during late may bank holiday off rick ...</td>\n",
       "    </tr>\n",
       "    <tr>\n",
       "      <th>4</th>\n",
       "      <td>the selection on the menu was great and so wer...</td>\n",
       "      <td>1.0</td>\n",
       "      <td>the, selection, on, the, menu, was, great, and...</td>\n",
       "      <td>selection menu great prices</td>\n",
       "      <td>select menu great price</td>\n",
       "    </tr>\n",
       "  </tbody>\n",
       "</table>\n",
       "</div>"
      ]
     },
     "execution_count": 14,
     "metadata": {},
     "output_type": "execute_result"
    }
   ],
   "execution_count": 14
  },
  {
   "metadata": {
    "ExecuteTime": {
     "end_time": "2025-04-14T09:21:48.400171Z",
     "start_time": "2025-04-14T09:21:47.971501Z"
    }
   },
   "cell_type": "code",
   "source": [
    "# Autocorrect Words\n",
    "cleaned_df_tsv[\"Autocorrected\"] = cleaned_df_tsv[\"Review No Stopwords\"].apply(transform.autocorrect_text)\n",
    "cleaned_df_tsv[\"Autocorrected\"].head(10)"
   ],
   "id": "dab10705f62d07c",
   "outputs": [
    {
     "data": {
      "text/plain": [
       "0                                      wow loved place\n",
       "1                                     crust isn't good\n",
       "2                         not tasty texture just nasty\n",
       "3    stopped during late may bank holiday off rick ...\n",
       "4                              select menu great price\n",
       "5                      now getting angry want damn pho\n",
       "6                          honeslty didn't taste fresh\n",
       "7    potato like rubber tell made ahead time kept warm\n",
       "8                                      fries great too\n",
       "9                                          great touch\n",
       "Name: Autocorrected, dtype: object"
      ]
     },
     "execution_count": 15,
     "metadata": {},
     "output_type": "execute_result"
    }
   ],
   "execution_count": 15
  },
  {
   "metadata": {
    "ExecuteTime": {
     "end_time": "2025-04-14T09:21:48.444584Z",
     "start_time": "2025-04-14T09:21:48.439029Z"
    }
   },
   "cell_type": "code",
   "source": [
    "# Label Data Sentiment Example\n",
    "\n",
    "cleaned_df_tsv[\"Sentiment\"] = cleaned_df_tsv[\"Autocorrected\"].apply(lambda x: transform.label_data_sentiment(x))\n",
    "\n",
    "cleaned_df_tsv.head()"
   ],
   "id": "5c58ec5da82a44a0",
   "outputs": [
    {
     "data": {
      "text/plain": [
       "                                              review  like  \\\n",
       "0                               wow loved this place   1.0   \n",
       "1                                  crust isn't good    0.0   \n",
       "2           not tasty and the texture was just nasty   0.0   \n",
       "3  stopped by during the late may bank holiday of...   1.0   \n",
       "4  the selection on the menu was great and so wer...   1.0   \n",
       "\n",
       "                                      Tokenized Text  \\\n",
       "0                            wow, loved, this, place   \n",
       "1                                 crust, isn't, good   \n",
       "2    not, tasty, and, the, texture, was, just, nasty   \n",
       "3  stopped, by, during, the, late, may, bank, hol...   \n",
       "4  the, selection, on, the, menu, was, great, and...   \n",
       "\n",
       "                                 Review No Stopwords  \\\n",
       "0                                    wow loved place   \n",
       "1                                   crust isn't good   \n",
       "2                       not tasty texture just nasty   \n",
       "3  stopped during late may bank holiday off rick ...   \n",
       "4                        selection menu great prices   \n",
       "\n",
       "                                             Stemmed  \\\n",
       "0                                    wow loved place   \n",
       "1                                   crust isn't good   \n",
       "2                       not tasty texture just nasty   \n",
       "3  stopped during late may bank holiday off rick ...   \n",
       "4                            select menu great price   \n",
       "\n",
       "                                       Autocorrected Sentiment  \n",
       "0                                    wow loved place  Positive  \n",
       "1                                   crust isn't good  Negative  \n",
       "2                       not tasty texture just nasty  Negative  \n",
       "3  stopped during late may bank holiday off rick ...  Positive  \n",
       "4                            select menu great price  Positive  "
      ],
      "text/html": [
       "<div>\n",
       "<style scoped>\n",
       "    .dataframe tbody tr th:only-of-type {\n",
       "        vertical-align: middle;\n",
       "    }\n",
       "\n",
       "    .dataframe tbody tr th {\n",
       "        vertical-align: top;\n",
       "    }\n",
       "\n",
       "    .dataframe thead th {\n",
       "        text-align: right;\n",
       "    }\n",
       "</style>\n",
       "<table border=\"1\" class=\"dataframe\">\n",
       "  <thead>\n",
       "    <tr style=\"text-align: right;\">\n",
       "      <th></th>\n",
       "      <th>review</th>\n",
       "      <th>like</th>\n",
       "      <th>Tokenized Text</th>\n",
       "      <th>Review No Stopwords</th>\n",
       "      <th>Stemmed</th>\n",
       "      <th>Autocorrected</th>\n",
       "      <th>Sentiment</th>\n",
       "    </tr>\n",
       "  </thead>\n",
       "  <tbody>\n",
       "    <tr>\n",
       "      <th>0</th>\n",
       "      <td>wow loved this place</td>\n",
       "      <td>1.0</td>\n",
       "      <td>wow, loved, this, place</td>\n",
       "      <td>wow loved place</td>\n",
       "      <td>wow loved place</td>\n",
       "      <td>wow loved place</td>\n",
       "      <td>Positive</td>\n",
       "    </tr>\n",
       "    <tr>\n",
       "      <th>1</th>\n",
       "      <td>crust isn't good</td>\n",
       "      <td>0.0</td>\n",
       "      <td>crust, isn't, good</td>\n",
       "      <td>crust isn't good</td>\n",
       "      <td>crust isn't good</td>\n",
       "      <td>crust isn't good</td>\n",
       "      <td>Negative</td>\n",
       "    </tr>\n",
       "    <tr>\n",
       "      <th>2</th>\n",
       "      <td>not tasty and the texture was just nasty</td>\n",
       "      <td>0.0</td>\n",
       "      <td>not, tasty, and, the, texture, was, just, nasty</td>\n",
       "      <td>not tasty texture just nasty</td>\n",
       "      <td>not tasty texture just nasty</td>\n",
       "      <td>not tasty texture just nasty</td>\n",
       "      <td>Negative</td>\n",
       "    </tr>\n",
       "    <tr>\n",
       "      <th>3</th>\n",
       "      <td>stopped by during the late may bank holiday of...</td>\n",
       "      <td>1.0</td>\n",
       "      <td>stopped, by, during, the, late, may, bank, hol...</td>\n",
       "      <td>stopped during late may bank holiday off rick ...</td>\n",
       "      <td>stopped during late may bank holiday off rick ...</td>\n",
       "      <td>stopped during late may bank holiday off rick ...</td>\n",
       "      <td>Positive</td>\n",
       "    </tr>\n",
       "    <tr>\n",
       "      <th>4</th>\n",
       "      <td>the selection on the menu was great and so wer...</td>\n",
       "      <td>1.0</td>\n",
       "      <td>the, selection, on, the, menu, was, great, and...</td>\n",
       "      <td>selection menu great prices</td>\n",
       "      <td>select menu great price</td>\n",
       "      <td>select menu great price</td>\n",
       "      <td>Positive</td>\n",
       "    </tr>\n",
       "  </tbody>\n",
       "</table>\n",
       "</div>"
      ]
     },
     "execution_count": 16,
     "metadata": {},
     "output_type": "execute_result"
    }
   ],
   "execution_count": 16
  },
  {
   "metadata": {
    "ExecuteTime": {
     "end_time": "2025-04-14T09:21:48.534937Z",
     "start_time": "2025-04-14T09:21:48.529932Z"
    }
   },
   "cell_type": "code",
   "source": [
    "cleaned_df_tsv.drop(axis = 1, labels = [\"Tokenized Text\", \"Stemmed\"], inplace = True)\n",
    "cleaned_df_tsv.head()"
   ],
   "id": "417ee57a01632e74",
   "outputs": [
    {
     "data": {
      "text/plain": [
       "                                              review  like  \\\n",
       "0                               wow loved this place   1.0   \n",
       "1                                  crust isn't good    0.0   \n",
       "2           not tasty and the texture was just nasty   0.0   \n",
       "3  stopped by during the late may bank holiday of...   1.0   \n",
       "4  the selection on the menu was great and so wer...   1.0   \n",
       "\n",
       "                                 Review No Stopwords  \\\n",
       "0                                    wow loved place   \n",
       "1                                   crust isn't good   \n",
       "2                       not tasty texture just nasty   \n",
       "3  stopped during late may bank holiday off rick ...   \n",
       "4                        selection menu great prices   \n",
       "\n",
       "                                       Autocorrected Sentiment  \n",
       "0                                    wow loved place  Positive  \n",
       "1                                   crust isn't good  Negative  \n",
       "2                       not tasty texture just nasty  Negative  \n",
       "3  stopped during late may bank holiday off rick ...  Positive  \n",
       "4                            select menu great price  Positive  "
      ],
      "text/html": [
       "<div>\n",
       "<style scoped>\n",
       "    .dataframe tbody tr th:only-of-type {\n",
       "        vertical-align: middle;\n",
       "    }\n",
       "\n",
       "    .dataframe tbody tr th {\n",
       "        vertical-align: top;\n",
       "    }\n",
       "\n",
       "    .dataframe thead th {\n",
       "        text-align: right;\n",
       "    }\n",
       "</style>\n",
       "<table border=\"1\" class=\"dataframe\">\n",
       "  <thead>\n",
       "    <tr style=\"text-align: right;\">\n",
       "      <th></th>\n",
       "      <th>review</th>\n",
       "      <th>like</th>\n",
       "      <th>Review No Stopwords</th>\n",
       "      <th>Autocorrected</th>\n",
       "      <th>Sentiment</th>\n",
       "    </tr>\n",
       "  </thead>\n",
       "  <tbody>\n",
       "    <tr>\n",
       "      <th>0</th>\n",
       "      <td>wow loved this place</td>\n",
       "      <td>1.0</td>\n",
       "      <td>wow loved place</td>\n",
       "      <td>wow loved place</td>\n",
       "      <td>Positive</td>\n",
       "    </tr>\n",
       "    <tr>\n",
       "      <th>1</th>\n",
       "      <td>crust isn't good</td>\n",
       "      <td>0.0</td>\n",
       "      <td>crust isn't good</td>\n",
       "      <td>crust isn't good</td>\n",
       "      <td>Negative</td>\n",
       "    </tr>\n",
       "    <tr>\n",
       "      <th>2</th>\n",
       "      <td>not tasty and the texture was just nasty</td>\n",
       "      <td>0.0</td>\n",
       "      <td>not tasty texture just nasty</td>\n",
       "      <td>not tasty texture just nasty</td>\n",
       "      <td>Negative</td>\n",
       "    </tr>\n",
       "    <tr>\n",
       "      <th>3</th>\n",
       "      <td>stopped by during the late may bank holiday of...</td>\n",
       "      <td>1.0</td>\n",
       "      <td>stopped during late may bank holiday off rick ...</td>\n",
       "      <td>stopped during late may bank holiday off rick ...</td>\n",
       "      <td>Positive</td>\n",
       "    </tr>\n",
       "    <tr>\n",
       "      <th>4</th>\n",
       "      <td>the selection on the menu was great and so wer...</td>\n",
       "      <td>1.0</td>\n",
       "      <td>selection menu great prices</td>\n",
       "      <td>select menu great price</td>\n",
       "      <td>Positive</td>\n",
       "    </tr>\n",
       "  </tbody>\n",
       "</table>\n",
       "</div>"
      ]
     },
     "execution_count": 17,
     "metadata": {},
     "output_type": "execute_result"
    }
   ],
   "execution_count": 17
  },
  {
   "metadata": {},
   "cell_type": "markdown",
   "source": "# Here lies some EDA Transformation Examples\n",
   "id": "fa0a7f78e2af6b67"
  },
  {
   "metadata": {
    "ExecuteTime": {
     "end_time": "2025-04-14T09:21:49.015402Z",
     "start_time": "2025-04-14T09:21:48.636239Z"
    }
   },
   "cell_type": "code",
   "source": [
    "# Generate Wordcloud of Autocorrect Series\n",
    "cleaned_df_tsv_wordcloud = eda.generate_wordcloud(cleaned_df_tsv[\"Autocorrected\"], custom_stopwords=[\"will\", \"some\", \"came\"])"
   ],
   "id": "1b54a75de53ae51e",
   "outputs": [
    {
     "data": {
      "text/plain": [
       "<Figure size 1000x500 with 1 Axes>"
      ],
      "image/png": "[encoded data removed]"
     },
     "metadata": {},
     "output_type": "display_data"
    }
   ],
   "execution_count": 18
  },
  {
   "metadata": {
    "ExecuteTime": {
     "end_time": "2025-04-14T09:21:49.097785Z",
     "start_time": "2025-04-14T09:21:49.088332Z"
    }
   },
   "cell_type": "code",
   "source": [
    "# Summary Statistics of our Text Data\n",
    "eda.text_summary_stats(cleaned_df_tsv, \"Review No Stopwords\")"
   ],
   "id": "6f09dfbd9e417be8",
   "outputs": [
    {
     "data": {
      "text/plain": [
       "{'document_stats': {'total_docs': 197, 'empty_docs': 0, 'unique_docs': 197},\n",
       " 'length_stats': {'min_length': 5,\n",
       "  'max_length': 111,\n",
       "  'total_length': 8462,\n",
       "  'char_count_mean': 42.954314720812185,\n",
       "  'char_count_median': 35},\n",
       " 'word_stats': {'avg_words_per_doc': 6.842639593908629,\n",
       "  'total_words': 1348,\n",
       "  'unique_words': 748,\n",
       "  'avg_word_length': 5.423590504451038},\n",
       " 'frequent_words': {'food': 27,\n",
       "  'good': 25,\n",
       "  'place': 21,\n",
       "  'not': 20,\n",
       "  'like': 17,\n",
       "  'service': 16,\n",
       "  'great': 15,\n",
       "  'very': 13,\n",
       "  'really': 12,\n",
       "  'time': 10}}"
      ]
     },
     "execution_count": 19,
     "metadata": {},
     "output_type": "execute_result"
    }
   ],
   "execution_count": 19
  },
  {
   "metadata": {
    "ExecuteTime": {
     "end_time": "2025-04-14T09:21:49.299405Z",
     "start_time": "2025-04-14T09:21:49.172126Z"
    }
   },
   "cell_type": "code",
   "source": [
    "# Sentiment Distribution Graph\n",
    "eda.plot_sentiment_distribution(df = cleaned_df_tsv, text_column=\"Autocorrected\")"
   ],
   "id": "cd1e506cde6f74d2",
   "outputs": [
    {
     "data": {
      "text/plain": [
       "<Figure size 1050x700 with 1 Axes>"
      ],
      "image/png": "[encoded data removed]"
     },
     "metadata": {},
     "output_type": "display_data"
    }
   ],
   "execution_count": 20
  },
  {
   "metadata": {
    "ExecuteTime": {
     "end_time": "2025-04-14T09:21:49.392970Z",
     "start_time": "2025-04-14T09:21:49.328046Z"
    }
   },
   "cell_type": "code",
   "source": [
    "# Actual Sentiment\n",
    "cleaned_df_tsv[\"like\"] = cleaned_df_tsv[\"like\"].astype(float)\n",
    "cleaned_df_tsv[\"like\"] = cleaned_df_tsv[\"like\"].map({0.0: \"Negative\", 1.0: \"Positive\"})\n",
    "\n",
    "sns.countplot(data=cleaned_df_tsv, x=\"like\")\n",
    "plt.title(\"Sentiment Distribution\")\n",
    "plt.xlabel(\"Sentiment\")\n",
    "plt.ylabel(\"Count\")\n",
    "plt.show()\n"
   ],
   "id": "b34e2f585480ee0e",
   "outputs": [
    {
     "data": {
      "text/plain": [
       "<Figure size 640x480 with 1 Axes>"
      ],
      "image/png": "[encoded data removed]"
     },
     "metadata": {},
     "output_type": "display_data"
    }
   ],
   "execution_count": 21
  },
  {
   "metadata": {
    "ExecuteTime": {
     "end_time": "2025-04-14T09:21:49.415227Z",
     "start_time": "2025-04-14T09:21:49.407672Z"
    }
   },
   "cell_type": "code",
   "source": [
    "different = cleaned_df_tsv[cleaned_df_tsv[\"like\"] != cleaned_df_tsv[\"Sentiment\"]]\n",
    "display(different)"
   ],
   "id": "8d1dc02be05cc71a",
   "outputs": [
    {
     "data": {
      "text/plain": [
       "                                                review      like  \\\n",
       "6                  honeslty it didn't taste that fresh  Negative   \n",
       "7    the potatoes were like rubber and you could te...  Negative   \n",
       "10                             service was very prompt  Positive   \n",
       "11                                   would not go back  Negative   \n",
       "12   the cashier had no care what so ever on what i...  Negative   \n",
       "..                                                 ...       ...   \n",
       "187                                  interesting decor  Positive   \n",
       "190    you can watch them preparing the delicious food  Positive   \n",
       "192  when my order arrived one of the gyros was mis...  Negative   \n",
       "194  i'm not really sure how joey's was voted best ...  Negative   \n",
       "196            the live music on fridays totally blows  Negative   \n",
       "\n",
       "                                   Review No Stopwords  \\\n",
       "6                          honeslty didn't taste fresh   \n",
       "7    potatoes like rubber tell made ahead time kept...   \n",
       "10                                 service very prompt   \n",
       "11                                         not go back   \n",
       "12   cashier no care ever say still ended wayyy ove...   \n",
       "..                                                 ...   \n",
       "187                                  interesting decor   \n",
       "190                     watch preparing delicious food   \n",
       "192                    order arrived one gyros missing   \n",
       "194  i'm not really sure joey's voted best hot dog ...   \n",
       "196                   live music fridays totally blows   \n",
       "\n",
       "                                         Autocorrected Sentiment  \\\n",
       "6                          honeslty didn't taste fresh   Neutral   \n",
       "7    potato like rubber tell made ahead time kept warm  Positive   \n",
       "10                                 service very prompt   Neutral   \n",
       "11                                         not go back   Neutral   \n",
       "12   cashier no care ever say still end wayyy overp...   Neutral   \n",
       "..                                                 ...       ...   \n",
       "187                                     interest decor   Neutral   \n",
       "190                     watch preparing delicious food   Neutral   \n",
       "192                        order arrived one gyro miss   Neutral   \n",
       "194  i'm not real sure joey's voted best hot dog va...  Positive   \n",
       "196                       live music friday total blow   Neutral   \n",
       "\n",
       "    Autocorrected_Sentiment  \n",
       "6                   Neutral  \n",
       "7                  Positive  \n",
       "10                  Neutral  \n",
       "11                  Neutral  \n",
       "12                  Neutral  \n",
       "..                      ...  \n",
       "187                 Neutral  \n",
       "190                 Neutral  \n",
       "192                 Neutral  \n",
       "194                Positive  \n",
       "196                 Neutral  \n",
       "\n",
       "[116 rows x 6 columns]"
      ],
      "text/html": [
       "<div>\n",
       "<style scoped>\n",
       "    .dataframe tbody tr th:only-of-type {\n",
       "        vertical-align: middle;\n",
       "    }\n",
       "\n",
       "    .dataframe tbody tr th {\n",
       "        vertical-align: top;\n",
       "    }\n",
       "\n",
       "    .dataframe thead th {\n",
       "        text-align: right;\n",
       "    }\n",
       "</style>\n",
       "<table border=\"1\" class=\"dataframe\">\n",
       "  <thead>\n",
       "    <tr style=\"text-align: right;\">\n",
       "      <th></th>\n",
       "      <th>review</th>\n",
       "      <th>like</th>\n",
       "      <th>Review No Stopwords</th>\n",
       "      <th>Autocorrected</th>\n",
       "      <th>Sentiment</th>\n",
       "      <th>Autocorrected_Sentiment</th>\n",
       "    </tr>\n",
       "  </thead>\n",
       "  <tbody>\n",
       "    <tr>\n",
       "      <th>6</th>\n",
       "      <td>honeslty it didn't taste that fresh</td>\n",
       "      <td>Negative</td>\n",
       "      <td>honeslty didn't taste fresh</td>\n",
       "      <td>honeslty didn't taste fresh</td>\n",
       "      <td>Neutral</td>\n",
       "      <td>Neutral</td>\n",
       "    </tr>\n",
       "    <tr>\n",
       "      <th>7</th>\n",
       "      <td>the potatoes were like rubber and you could te...</td>\n",
       "      <td>Negative</td>\n",
       "      <td>potatoes like rubber tell made ahead time kept...</td>\n",
       "      <td>potato like rubber tell made ahead time kept warm</td>\n",
       "      <td>Positive</td>\n",
       "      <td>Positive</td>\n",
       "    </tr>\n",
       "    <tr>\n",
       "      <th>10</th>\n",
       "      <td>service was very prompt</td>\n",
       "      <td>Positive</td>\n",
       "      <td>service very prompt</td>\n",
       "      <td>service very prompt</td>\n",
       "      <td>Neutral</td>\n",
       "      <td>Neutral</td>\n",
       "    </tr>\n",
       "    <tr>\n",
       "      <th>11</th>\n",
       "      <td>would not go back</td>\n",
       "      <td>Negative</td>\n",
       "      <td>not go back</td>\n",
       "      <td>not go back</td>\n",
       "      <td>Neutral</td>\n",
       "      <td>Neutral</td>\n",
       "    </tr>\n",
       "    <tr>\n",
       "      <th>12</th>\n",
       "      <td>the cashier had no care what so ever on what i...</td>\n",
       "      <td>Negative</td>\n",
       "      <td>cashier no care ever say still ended wayyy ove...</td>\n",
       "      <td>cashier no care ever say still end wayyy overp...</td>\n",
       "      <td>Neutral</td>\n",
       "      <td>Neutral</td>\n",
       "    </tr>\n",
       "    <tr>\n",
       "      <th>...</th>\n",
       "      <td>...</td>\n",
       "      <td>...</td>\n",
       "      <td>...</td>\n",
       "      <td>...</td>\n",
       "      <td>...</td>\n",
       "      <td>...</td>\n",
       "    </tr>\n",
       "    <tr>\n",
       "      <th>187</th>\n",
       "      <td>interesting decor</td>\n",
       "      <td>Positive</td>\n",
       "      <td>interesting decor</td>\n",
       "      <td>interest decor</td>\n",
       "      <td>Neutral</td>\n",
       "      <td>Neutral</td>\n",
       "    </tr>\n",
       "    <tr>\n",
       "      <th>190</th>\n",
       "      <td>you can watch them preparing the delicious food</td>\n",
       "      <td>Positive</td>\n",
       "      <td>watch preparing delicious food</td>\n",
       "      <td>watch preparing delicious food</td>\n",
       "      <td>Neutral</td>\n",
       "      <td>Neutral</td>\n",
       "    </tr>\n",
       "    <tr>\n",
       "      <th>192</th>\n",
       "      <td>when my order arrived one of the gyros was mis...</td>\n",
       "      <td>Negative</td>\n",
       "      <td>order arrived one gyros missing</td>\n",
       "      <td>order arrived one gyro miss</td>\n",
       "      <td>Neutral</td>\n",
       "      <td>Neutral</td>\n",
       "    </tr>\n",
       "    <tr>\n",
       "      <th>194</th>\n",
       "      <td>i'm not really sure how joey's was voted best ...</td>\n",
       "      <td>Negative</td>\n",
       "      <td>i'm not really sure joey's voted best hot dog ...</td>\n",
       "      <td>i'm not real sure joey's voted best hot dog va...</td>\n",
       "      <td>Positive</td>\n",
       "      <td>Positive</td>\n",
       "    </tr>\n",
       "    <tr>\n",
       "      <th>196</th>\n",
       "      <td>the live music on fridays totally blows</td>\n",
       "      <td>Negative</td>\n",
       "      <td>live music fridays totally blows</td>\n",
       "      <td>live music friday total blow</td>\n",
       "      <td>Neutral</td>\n",
       "      <td>Neutral</td>\n",
       "    </tr>\n",
       "  </tbody>\n",
       "</table>\n",
       "<p>116 rows × 6 columns</p>\n",
       "</div>"
      ]
     },
     "metadata": {},
     "output_type": "display_data"
    }
   ],
   "execution_count": 22
  },
  {
   "metadata": {
    "ExecuteTime": {
     "end_time": "2025-04-14T09:21:49.455117Z",
     "start_time": "2025-04-14T09:21:49.449610Z"
    }
   },
   "cell_type": "code",
   "source": [
    "# Top Bi-Grams of Neutral\n",
    "eda.top_ngrams((cleaned_df_tsv[cleaned_df_tsv[\"Sentiment\"] == \"Neutral\"][\"Autocorrected\"]), stopwords=\"food\", n=2, top_k=10)"
   ],
   "id": "26c96b0d07e1a8f4",
   "outputs": [
    {
     "data": {
      "text/plain": [
       "[(('go', 'back'), 4),\n",
       " (('little', 'slow'), 2),\n",
       " (('slow', 'service'), 2),\n",
       " (('found', 'place'), 2),\n",
       " (('as', 'well'), 2),\n",
       " (('honeslty', 'didnt'), 1),\n",
       " (('didnt', 'taste'), 1),\n",
       " (('taste', 'fresh'), 1),\n",
       " (('fresh', 'service'), 1),\n",
       " (('service', 'very'), 1)]"
      ]
     },
     "execution_count": 23,
     "metadata": {},
     "output_type": "execute_result"
    }
   ],
   "execution_count": 23
  },
  {
   "metadata": {
    "ExecuteTime": {
     "end_time": "2025-04-14T09:21:49.585567Z",
     "start_time": "2025-04-14T09:21:49.577484Z"
    }
   },
   "cell_type": "code",
   "source": [
    "# Top Bi-Grams of Negative\n",
    "eda.top_ngrams((cleaned_df_tsv[cleaned_df_tsv[\"Sentiment\"] == \"Negative\"][\"Autocorrected\"]), stopwords=\"food\", n=2, top_k=10)"
   ],
   "id": "263ee7db9546cc95",
   "outputs": [
    {
     "data": {
      "text/plain": [
       "[(('not', 'good'), 2),\n",
       " (('crust', 'isnt'), 1),\n",
       " (('isnt', 'good'), 1),\n",
       " (('good', 'not'), 1),\n",
       " (('not', 'tasty'), 1),\n",
       " (('tasty', 'texture'), 1),\n",
       " (('texture', 'just'), 1),\n",
       " (('just', 'nasty'), 1),\n",
       " (('nasty', 'now'), 1),\n",
       " (('now', 'getting'), 1)]"
      ]
     },
     "execution_count": 24,
     "metadata": {},
     "output_type": "execute_result"
    }
   ],
   "execution_count": 24
  },
  {
   "metadata": {
    "ExecuteTime": {
     "end_time": "2025-04-14T09:21:49.664621Z",
     "start_time": "2025-04-14T09:21:49.659494Z"
    }
   },
   "cell_type": "code",
   "source": [
    "# Top Tri-Grams of Neutral\n",
    "eda.top_ngrams((cleaned_df_tsv[cleaned_df_tsv[\"Sentiment\"] == \"Neutral\"][\"Autocorrected\"]), stopwords=\"food\", n=3, top_k=10)"
   ],
   "id": "c974e2b51d51b662",
   "outputs": [
    {
     "data": {
      "text/plain": [
       "[(('honeslty', 'didnt', 'taste'), 1),\n",
       " (('didnt', 'taste', 'fresh'), 1),\n",
       " (('taste', 'fresh', 'service'), 1),\n",
       " (('fresh', 'service', 'very'), 1),\n",
       " (('service', 'very', 'prompt'), 1),\n",
       " (('very', 'prompt', 'not'), 1),\n",
       " (('prompt', 'not', 'go'), 1),\n",
       " (('not', 'go', 'back'), 1),\n",
       " (('go', 'back', 'cashier'), 1),\n",
       " (('back', 'cashier', 'no'), 1)]"
      ]
     },
     "execution_count": 25,
     "metadata": {},
     "output_type": "execute_result"
    }
   ],
   "execution_count": 25
  },
  {
   "metadata": {
    "ExecuteTime": {
     "end_time": "2025-04-14T09:21:49.705522Z",
     "start_time": "2025-04-14T09:21:49.700245Z"
    }
   },
   "cell_type": "code",
   "source": [
    "# Top Tri-Grams of Negative\n",
    "eda.top_ngrams((cleaned_df_tsv[cleaned_df_tsv[\"Sentiment\"] == \"Negative\"][\"Autocorrected\"]), stopwords=\"food\", n=3, top_k=10)"
   ],
   "id": "83d5cb83db0c7ac1",
   "outputs": [
    {
     "data": {
      "text/plain": [
       "[(('crust', 'isnt', 'good'), 1),\n",
       " (('isnt', 'good', 'not'), 1),\n",
       " (('good', 'not', 'tasty'), 1),\n",
       " (('not', 'tasty', 'texture'), 1),\n",
       " (('tasty', 'texture', 'just'), 1),\n",
       " (('texture', 'just', 'nasty'), 1),\n",
       " (('just', 'nasty', 'now'), 1),\n",
       " (('nasty', 'now', 'getting'), 1),\n",
       " (('now', 'getting', 'angry'), 1),\n",
       " (('getting', 'angry', 'want'), 1)]"
      ]
     },
     "execution_count": 26,
     "metadata": {},
     "output_type": "execute_result"
    }
   ],
   "execution_count": 26
  },
  {
   "metadata": {
    "ExecuteTime": {
     "end_time": "2025-04-14T09:21:49.878905Z",
     "start_time": "2025-04-14T09:21:49.803100Z"
    }
   },
   "cell_type": "code",
   "source": [
    "cleaned_df_tsv[\"New Sentiment\"] = cleaned_df_tsv[\"Autocorrected\"].apply(\n",
    "    lambda x: transform.label_data_sentiment(x,\n",
    "    custom_positive = {\"tasty\", \"fresh\", \"interest\", \"prompt\", \"delicious\", \"full\", \"fullfilled\", \"taste\"},\n",
    "    custom_negative = {\"nasty\", \"angry\", \"no\", \"damn\", \"rubber\", \"gross\"},\n",
    "    filename = '../data/Restaurant_Lexicon.json'))\n",
    "\n",
    "display(cleaned_df_tsv)"
   ],
   "id": "e1958304e299567f",
   "outputs": [
    {
     "data": {
      "text/plain": [
       "                                                review      like  \\\n",
       "0                                 wow loved this place  Positive   \n",
       "1                                    crust isn't good   Negative   \n",
       "2             not tasty and the texture was just nasty  Negative   \n",
       "3    stopped by during the late may bank holiday of...  Positive   \n",
       "4    the selection on the menu was great and so wer...  Positive   \n",
       "..                                                 ...       ...   \n",
       "192  when my order arrived one of the gyros was mis...  Negative   \n",
       "193  i had a salad with the wings and some ice crea...  Positive   \n",
       "194  i'm not really sure how joey's was voted best ...  Negative   \n",
       "195       the best place to go for a tasty bowl of pho  Positive   \n",
       "196            the live music on fridays totally blows  Negative   \n",
       "\n",
       "                                   Review No Stopwords  \\\n",
       "0                                      wow loved place   \n",
       "1                                     crust isn't good   \n",
       "2                         not tasty texture just nasty   \n",
       "3    stopped during late may bank holiday off rick ...   \n",
       "4                          selection menu great prices   \n",
       "..                                                 ...   \n",
       "192                    order arrived one gyros missing   \n",
       "193  salad wings some ice cream dessert left feelin...   \n",
       "194  i'm not really sure joey's voted best hot dog ...   \n",
       "195                       best place go tasty bowl pho   \n",
       "196                   live music fridays totally blows   \n",
       "\n",
       "                                         Autocorrected Sentiment  \\\n",
       "0                                      wow loved place  Positive   \n",
       "1                                     crust isn't good  Negative   \n",
       "2                         not tasty texture just nasty  Negative   \n",
       "3    stopped during late may bank holiday off rick ...  Positive   \n",
       "4                              select menu great price  Positive   \n",
       "..                                                 ...       ...   \n",
       "192                        order arrived one gyro miss   Neutral   \n",
       "193  salad wing some ice cream dessert left feel qu...  Positive   \n",
       "194  i'm not real sure joey's voted best hot dog va...  Positive   \n",
       "195                       best place go tasty bowl pho  Positive   \n",
       "196                       live music friday total blow   Neutral   \n",
       "\n",
       "    Autocorrected_Sentiment New Sentiment  \n",
       "0                  Positive      Positive  \n",
       "1                  Negative      Negative  \n",
       "2                  Negative      Negative  \n",
       "3                  Positive      Positive  \n",
       "4                  Positive      Positive  \n",
       "..                      ...           ...  \n",
       "192                 Neutral       Neutral  \n",
       "193                Positive      Positive  \n",
       "194                Positive      Positive  \n",
       "195                Positive      Positive  \n",
       "196                 Neutral       Neutral  \n",
       "\n",
       "[197 rows x 7 columns]"
      ],
      "text/html": [
       "<div>\n",
       "<style scoped>\n",
       "    .dataframe tbody tr th:only-of-type {\n",
       "        vertical-align: middle;\n",
       "    }\n",
       "\n",
       "    .dataframe tbody tr th {\n",
       "        vertical-align: top;\n",
       "    }\n",
       "\n",
       "    .dataframe thead th {\n",
       "        text-align: right;\n",
       "    }\n",
       "</style>\n",
       "<table border=\"1\" class=\"dataframe\">\n",
       "  <thead>\n",
       "    <tr style=\"text-align: right;\">\n",
       "      <th></th>\n",
       "      <th>review</th>\n",
       "      <th>like</th>\n",
       "      <th>Review No Stopwords</th>\n",
       "      <th>Autocorrected</th>\n",
       "      <th>Sentiment</th>\n",
       "      <th>Autocorrected_Sentiment</th>\n",
       "      <th>New Sentiment</th>\n",
       "    </tr>\n",
       "  </thead>\n",
       "  <tbody>\n",
       "    <tr>\n",
       "      <th>0</th>\n",
       "      <td>wow loved this place</td>\n",
       "      <td>Positive</td>\n",
       "      <td>wow loved place</td>\n",
       "      <td>wow loved place</td>\n",
       "      <td>Positive</td>\n",
       "      <td>Positive</td>\n",
       "      <td>Positive</td>\n",
       "    </tr>\n",
       "    <tr>\n",
       "      <th>1</th>\n",
       "      <td>crust isn't good</td>\n",
       "      <td>Negative</td>\n",
       "      <td>crust isn't good</td>\n",
       "      <td>crust isn't good</td>\n",
       "      <td>Negative</td>\n",
       "      <td>Negative</td>\n",
       "      <td>Negative</td>\n",
       "    </tr>\n",
       "    <tr>\n",
       "      <th>2</th>\n",
       "      <td>not tasty and the texture was just nasty</td>\n",
       "      <td>Negative</td>\n",
       "      <td>not tasty texture just nasty</td>\n",
       "      <td>not tasty texture just nasty</td>\n",
       "      <td>Negative</td>\n",
       "      <td>Negative</td>\n",
       "      <td>Negative</td>\n",
       "    </tr>\n",
       "    <tr>\n",
       "      <th>3</th>\n",
       "      <td>stopped by during the late may bank holiday of...</td>\n",
       "      <td>Positive</td>\n",
       "      <td>stopped during late may bank holiday off rick ...</td>\n",
       "      <td>stopped during late may bank holiday off rick ...</td>\n",
       "      <td>Positive</td>\n",
       "      <td>Positive</td>\n",
       "      <td>Positive</td>\n",
       "    </tr>\n",
       "    <tr>\n",
       "      <th>4</th>\n",
       "      <td>the selection on the menu was great and so wer...</td>\n",
       "      <td>Positive</td>\n",
       "      <td>selection menu great prices</td>\n",
       "      <td>select menu great price</td>\n",
       "      <td>Positive</td>\n",
       "      <td>Positive</td>\n",
       "      <td>Positive</td>\n",
       "    </tr>\n",
       "    <tr>\n",
       "      <th>...</th>\n",
       "      <td>...</td>\n",
       "      <td>...</td>\n",
       "      <td>...</td>\n",
       "      <td>...</td>\n",
       "      <td>...</td>\n",
       "      <td>...</td>\n",
       "      <td>...</td>\n",
       "    </tr>\n",
       "    <tr>\n",
       "      <th>192</th>\n",
       "      <td>when my order arrived one of the gyros was mis...</td>\n",
       "      <td>Negative</td>\n",
       "      <td>order arrived one gyros missing</td>\n",
       "      <td>order arrived one gyro miss</td>\n",
       "      <td>Neutral</td>\n",
       "      <td>Neutral</td>\n",
       "      <td>Neutral</td>\n",
       "    </tr>\n",
       "    <tr>\n",
       "      <th>193</th>\n",
       "      <td>i had a salad with the wings and some ice crea...</td>\n",
       "      <td>Positive</td>\n",
       "      <td>salad wings some ice cream dessert left feelin...</td>\n",
       "      <td>salad wing some ice cream dessert left feel qu...</td>\n",
       "      <td>Positive</td>\n",
       "      <td>Positive</td>\n",
       "      <td>Positive</td>\n",
       "    </tr>\n",
       "    <tr>\n",
       "      <th>194</th>\n",
       "      <td>i'm not really sure how joey's was voted best ...</td>\n",
       "      <td>Negative</td>\n",
       "      <td>i'm not really sure joey's voted best hot dog ...</td>\n",
       "      <td>i'm not real sure joey's voted best hot dog va...</td>\n",
       "      <td>Positive</td>\n",
       "      <td>Positive</td>\n",
       "      <td>Positive</td>\n",
       "    </tr>\n",
       "    <tr>\n",
       "      <th>195</th>\n",
       "      <td>the best place to go for a tasty bowl of pho</td>\n",
       "      <td>Positive</td>\n",
       "      <td>best place go tasty bowl pho</td>\n",
       "      <td>best place go tasty bowl pho</td>\n",
       "      <td>Positive</td>\n",
       "      <td>Positive</td>\n",
       "      <td>Positive</td>\n",
       "    </tr>\n",
       "    <tr>\n",
       "      <th>196</th>\n",
       "      <td>the live music on fridays totally blows</td>\n",
       "      <td>Negative</td>\n",
       "      <td>live music fridays totally blows</td>\n",
       "      <td>live music friday total blow</td>\n",
       "      <td>Neutral</td>\n",
       "      <td>Neutral</td>\n",
       "      <td>Neutral</td>\n",
       "    </tr>\n",
       "  </tbody>\n",
       "</table>\n",
       "<p>197 rows × 7 columns</p>\n",
       "</div>"
      ]
     },
     "metadata": {},
     "output_type": "display_data"
    }
   ],
   "execution_count": 27
  },
  {
   "metadata": {
    "ExecuteTime": {
     "end_time": "2025-04-14T09:21:50.028022Z",
     "start_time": "2025-04-14T09:21:50.010923Z"
    }
   },
   "cell_type": "code",
   "source": [
    "different = cleaned_df_tsv[cleaned_df_tsv[\"like\"] != cleaned_df_tsv[\"New Sentiment\"]]\n",
    "display(different)"
   ],
   "id": "34bb7559779fd4b8",
   "outputs": [
    {
     "data": {
      "text/plain": [
       "                                                review      like  \\\n",
       "6                  honeslty it didn't taste that fresh  Negative   \n",
       "7    the potatoes were like rubber and you could te...  Negative   \n",
       "11                                   would not go back  Negative   \n",
       "13   i tried the cape cod ravoli chicken with cranb...  Positive   \n",
       "14   i was disgusted because i was pretty sure that...  Negative   \n",
       "..                                                 ...       ...   \n",
       "183                               it was probably dirt  Negative   \n",
       "185  i ordered the lemon raspberry ice cocktail whi...  Positive   \n",
       "192  when my order arrived one of the gyros was mis...  Negative   \n",
       "194  i'm not really sure how joey's was voted best ...  Negative   \n",
       "196            the live music on fridays totally blows  Negative   \n",
       "\n",
       "                                   Review No Stopwords  \\\n",
       "6                          honeslty didn't taste fresh   \n",
       "7    potatoes like rubber tell made ahead time kept...   \n",
       "11                                         not go back   \n",
       "13         tried cape cod ravoli chicken cranberrymmmm   \n",
       "14            disgusted because pretty sure human hair   \n",
       "..                                                 ...   \n",
       "183                                      probably dirt   \n",
       "185  ordered lemon raspberry ice cocktail which als...   \n",
       "192                    order arrived one gyros missing   \n",
       "194  i'm not really sure joey's voted best hot dog ...   \n",
       "196                   live music fridays totally blows   \n",
       "\n",
       "                                         Autocorrected Sentiment  \\\n",
       "6                          honeslty didn't taste fresh   Neutral   \n",
       "7    potato like rubber tell made ahead time kept warm  Positive   \n",
       "11                                         not go back   Neutral   \n",
       "13           tri cape cod ravoli chicken cranberrymmmm   Neutral   \n",
       "14              disgust because pretty sure human hair   Neutral   \n",
       "..                                                 ...       ...   \n",
       "183                                      probably dirt   Neutral   \n",
       "185  order lemon raspberry ice cocktail which also ...   Neutral   \n",
       "192                        order arrived one gyro miss   Neutral   \n",
       "194  i'm not real sure joey's voted best hot dog va...  Positive   \n",
       "196                       live music friday total blow   Neutral   \n",
       "\n",
       "    Autocorrected_Sentiment New Sentiment  \n",
       "6                   Neutral       Neutral  \n",
       "7                  Positive      Positive  \n",
       "11                  Neutral       Neutral  \n",
       "13                  Neutral       Neutral  \n",
       "14                  Neutral       Neutral  \n",
       "..                      ...           ...  \n",
       "183                 Neutral       Neutral  \n",
       "185                 Neutral       Neutral  \n",
       "192                 Neutral       Neutral  \n",
       "194                Positive      Positive  \n",
       "196                 Neutral       Neutral  \n",
       "\n",
       "[105 rows x 7 columns]"
      ],
      "text/html": [
       "<div>\n",
       "<style scoped>\n",
       "    .dataframe tbody tr th:only-of-type {\n",
       "        vertical-align: middle;\n",
       "    }\n",
       "\n",
       "    .dataframe tbody tr th {\n",
       "        vertical-align: top;\n",
       "    }\n",
       "\n",
       "    .dataframe thead th {\n",
       "        text-align: right;\n",
       "    }\n",
       "</style>\n",
       "<table border=\"1\" class=\"dataframe\">\n",
       "  <thead>\n",
       "    <tr style=\"text-align: right;\">\n",
       "      <th></th>\n",
       "      <th>review</th>\n",
       "      <th>like</th>\n",
       "      <th>Review No Stopwords</th>\n",
       "      <th>Autocorrected</th>\n",
       "      <th>Sentiment</th>\n",
       "      <th>Autocorrected_Sentiment</th>\n",
       "      <th>New Sentiment</th>\n",
       "    </tr>\n",
       "  </thead>\n",
       "  <tbody>\n",
       "    <tr>\n",
       "      <th>6</th>\n",
       "      <td>honeslty it didn't taste that fresh</td>\n",
       "      <td>Negative</td>\n",
       "      <td>honeslty didn't taste fresh</td>\n",
       "      <td>honeslty didn't taste fresh</td>\n",
       "      <td>Neutral</td>\n",
       "      <td>Neutral</td>\n",
       "      <td>Neutral</td>\n",
       "    </tr>\n",
       "    <tr>\n",
       "      <th>7</th>\n",
       "      <td>the potatoes were like rubber and you could te...</td>\n",
       "      <td>Negative</td>\n",
       "      <td>potatoes like rubber tell made ahead time kept...</td>\n",
       "      <td>potato like rubber tell made ahead time kept warm</td>\n",
       "      <td>Positive</td>\n",
       "      <td>Positive</td>\n",
       "      <td>Positive</td>\n",
       "    </tr>\n",
       "    <tr>\n",
       "      <th>11</th>\n",
       "      <td>would not go back</td>\n",
       "      <td>Negative</td>\n",
       "      <td>not go back</td>\n",
       "      <td>not go back</td>\n",
       "      <td>Neutral</td>\n",
       "      <td>Neutral</td>\n",
       "      <td>Neutral</td>\n",
       "    </tr>\n",
       "    <tr>\n",
       "      <th>13</th>\n",
       "      <td>i tried the cape cod ravoli chicken with cranb...</td>\n",
       "      <td>Positive</td>\n",
       "      <td>tried cape cod ravoli chicken cranberrymmmm</td>\n",
       "      <td>tri cape cod ravoli chicken cranberrymmmm</td>\n",
       "      <td>Neutral</td>\n",
       "      <td>Neutral</td>\n",
       "      <td>Neutral</td>\n",
       "    </tr>\n",
       "    <tr>\n",
       "      <th>14</th>\n",
       "      <td>i was disgusted because i was pretty sure that...</td>\n",
       "      <td>Negative</td>\n",
       "      <td>disgusted because pretty sure human hair</td>\n",
       "      <td>disgust because pretty sure human hair</td>\n",
       "      <td>Neutral</td>\n",
       "      <td>Neutral</td>\n",
       "      <td>Neutral</td>\n",
       "    </tr>\n",
       "    <tr>\n",
       "      <th>...</th>\n",
       "      <td>...</td>\n",
       "      <td>...</td>\n",
       "      <td>...</td>\n",
       "      <td>...</td>\n",
       "      <td>...</td>\n",
       "      <td>...</td>\n",
       "      <td>...</td>\n",
       "    </tr>\n",
       "    <tr>\n",
       "      <th>183</th>\n",
       "      <td>it was probably dirt</td>\n",
       "      <td>Negative</td>\n",
       "      <td>probably dirt</td>\n",
       "      <td>probably dirt</td>\n",
       "      <td>Neutral</td>\n",
       "      <td>Neutral</td>\n",
       "      <td>Neutral</td>\n",
       "    </tr>\n",
       "    <tr>\n",
       "      <th>185</th>\n",
       "      <td>i ordered the lemon raspberry ice cocktail whi...</td>\n",
       "      <td>Positive</td>\n",
       "      <td>ordered lemon raspberry ice cocktail which als...</td>\n",
       "      <td>order lemon raspberry ice cocktail which also ...</td>\n",
       "      <td>Neutral</td>\n",
       "      <td>Neutral</td>\n",
       "      <td>Neutral</td>\n",
       "    </tr>\n",
       "    <tr>\n",
       "      <th>192</th>\n",
       "      <td>when my order arrived one of the gyros was mis...</td>\n",
       "      <td>Negative</td>\n",
       "      <td>order arrived one gyros missing</td>\n",
       "      <td>order arrived one gyro miss</td>\n",
       "      <td>Neutral</td>\n",
       "      <td>Neutral</td>\n",
       "      <td>Neutral</td>\n",
       "    </tr>\n",
       "    <tr>\n",
       "      <th>194</th>\n",
       "      <td>i'm not really sure how joey's was voted best ...</td>\n",
       "      <td>Negative</td>\n",
       "      <td>i'm not really sure joey's voted best hot dog ...</td>\n",
       "      <td>i'm not real sure joey's voted best hot dog va...</td>\n",
       "      <td>Positive</td>\n",
       "      <td>Positive</td>\n",
       "      <td>Positive</td>\n",
       "    </tr>\n",
       "    <tr>\n",
       "      <th>196</th>\n",
       "      <td>the live music on fridays totally blows</td>\n",
       "      <td>Negative</td>\n",
       "      <td>live music fridays totally blows</td>\n",
       "      <td>live music friday total blow</td>\n",
       "      <td>Neutral</td>\n",
       "      <td>Neutral</td>\n",
       "      <td>Neutral</td>\n",
       "    </tr>\n",
       "  </tbody>\n",
       "</table>\n",
       "<p>105 rows × 7 columns</p>\n",
       "</div>"
      ]
     },
     "metadata": {},
     "output_type": "display_data"
    }
   ],
   "execution_count": 28
  },
  {
   "metadata": {
    "ExecuteTime": {
     "end_time": "2025-04-14T09:21:50.098341Z",
     "start_time": "2025-04-14T09:21:50.096033Z"
    }
   },
   "cell_type": "code",
   "source": "",
   "id": "6c054a1115ec3f96",
   "outputs": [],
   "execution_count": null
  }
 ],
 "metadata": {
  "kernelspec": {
   "name": "python3",
   "language": "python",
   "display_name": "Python 3 (ipykernel)"
  }
 },
 "nbformat": 5,
 "nbformat_minor": 9
}
