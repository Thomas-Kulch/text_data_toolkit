{
 "cells": [
  {
   "metadata": {},
   "cell_type": "markdown",
   "source": "# EDA Restaurant Reviews\n",
   "id": "60cbb17056eb40d5"
  },
  {
   "metadata": {},
   "cell_type": "markdown",
   "source": [
    "Using Python 3.13\n",
    "\n",
    "Using this for an inital look at the data and to play around with it.\n",
    "We can grab more datasets too"
   ],
   "id": "44b194ae4661e570"
  },
  {
   "metadata": {
    "ExecuteTime": {
     "end_time": "2025-04-16T02:30:58.725796Z",
     "start_time": "2025-04-16T02:30:57.797049Z"
    }
   },
   "cell_type": "code",
   "source": [
    "from text_data_toolkit import data_cleaning as clean\n",
    "from text_data_toolkit import data_transformation as transform\n",
    "from text_data_toolkit import eda\n",
    "import seaborn as sns\n",
    "import matplotlib.pyplot as plt\n",
    "import pandas as pd\n",
    "import numpy as np\n",
    "\n",
    "from sklearn.feature_extraction.text import CountVectorizer\n",
    "from sklearn.naive_bayes import MultinomialNB\n",
    "from sklearn.metrics import accuracy_score"
   ],
   "id": "aa7b4657d2c394cb",
   "outputs": [],
   "execution_count": 1
  },
  {
   "metadata": {},
   "cell_type": "markdown",
   "source": "Space for File Operations\n",
   "id": "309301e28d652689"
  },
  {
   "metadata": {},
   "cell_type": "markdown",
   "source": "# Here lies an example of the data cleaning modules\n",
   "id": "a83fe8021bb11cfc"
  },
  {
   "metadata": {
    "ExecuteTime": {
     "end_time": "2025-04-16T02:30:58.747017Z",
     "start_time": "2025-04-16T02:30:58.731146Z"
    }
   },
   "cell_type": "code",
   "source": [
    "files = ['../data/Restaurant_Reviews_Test.tsv',\n",
    "         '../data/Restaurant_Reviews.csv',\n",
    "         '../data/Restaurant_Reviews2.txt',\n",
    "         '../data/Restaurant_Reviews.tsv']\n",
    "\n",
    "\n",
    "dfs = clean.load_text_to_df(files, columns = [\"Review\", \"Like\"], line_length = 2)"
   ],
   "id": "a1faa77d5c3f18ae",
   "outputs": [],
   "execution_count": 2
  },
  {
   "metadata": {
    "ExecuteTime": {
     "end_time": "2025-04-16T02:30:58.849220Z",
     "start_time": "2025-04-16T02:30:58.842378Z"
    }
   },
   "cell_type": "code",
   "source": [
    "df_csv = dfs['Restaurant_Reviews']\n",
    "df_csv.head()"
   ],
   "id": "72542cf6235d4300",
   "outputs": [
    {
     "data": {
      "text/plain": [
       "                                              Review  Like\n",
       "0                           Wow... Loved this place.     1\n",
       "1                                 Crust is not good.     0\n",
       "2          Not tasty and the texture was just nasty.     0\n",
       "3  Stopped by during the late May bank holiday of...     1\n",
       "4  The selection on the menu was great and so wer...     1"
      ],
      "text/html": [
       "<div>\n",
       "<style scoped>\n",
       "    .dataframe tbody tr th:only-of-type {\n",
       "        vertical-align: middle;\n",
       "    }\n",
       "\n",
       "    .dataframe tbody tr th {\n",
       "        vertical-align: top;\n",
       "    }\n",
       "\n",
       "    .dataframe thead th {\n",
       "        text-align: right;\n",
       "    }\n",
       "</style>\n",
       "<table border=\"1\" class=\"dataframe\">\n",
       "  <thead>\n",
       "    <tr style=\"text-align: right;\">\n",
       "      <th></th>\n",
       "      <th>Review</th>\n",
       "      <th>Like</th>\n",
       "    </tr>\n",
       "  </thead>\n",
       "  <tbody>\n",
       "    <tr>\n",
       "      <th>0</th>\n",
       "      <td>Wow... Loved this place.</td>\n",
       "      <td>1</td>\n",
       "    </tr>\n",
       "    <tr>\n",
       "      <th>1</th>\n",
       "      <td>Crust is not good.</td>\n",
       "      <td>0</td>\n",
       "    </tr>\n",
       "    <tr>\n",
       "      <th>2</th>\n",
       "      <td>Not tasty and the texture was just nasty.</td>\n",
       "      <td>0</td>\n",
       "    </tr>\n",
       "    <tr>\n",
       "      <th>3</th>\n",
       "      <td>Stopped by during the late May bank holiday of...</td>\n",
       "      <td>1</td>\n",
       "    </tr>\n",
       "    <tr>\n",
       "      <th>4</th>\n",
       "      <td>The selection on the menu was great and so wer...</td>\n",
       "      <td>1</td>\n",
       "    </tr>\n",
       "  </tbody>\n",
       "</table>\n",
       "</div>"
      ]
     },
     "execution_count": 3,
     "metadata": {},
     "output_type": "execute_result"
    }
   ],
   "execution_count": 3
  },
  {
   "metadata": {
    "ExecuteTime": {
     "end_time": "2025-04-16T02:30:58.891621Z",
     "start_time": "2025-04-16T02:30:58.885791Z"
    }
   },
   "cell_type": "code",
   "source": [
    "df_txt = dfs['Restaurant_Reviews2']\n",
    "df_txt = df_txt.drop(0)\n",
    "df_txt.head()"
   ],
   "id": "e3cd0178c9ec1d3d",
   "outputs": [
    {
     "data": {
      "text/plain": [
       "                                              Review Like\n",
       "1                           Wow... Loved this place.    1\n",
       "2                                 Crust is not good.    0\n",
       "3          Not tasty and the texture was just nasty.    0\n",
       "4  Stopped by during the late May bank holiday of...    1\n",
       "5  The selection on the menu was great and so wer...    1"
      ],
      "text/html": [
       "<div>\n",
       "<style scoped>\n",
       "    .dataframe tbody tr th:only-of-type {\n",
       "        vertical-align: middle;\n",
       "    }\n",
       "\n",
       "    .dataframe tbody tr th {\n",
       "        vertical-align: top;\n",
       "    }\n",
       "\n",
       "    .dataframe thead th {\n",
       "        text-align: right;\n",
       "    }\n",
       "</style>\n",
       "<table border=\"1\" class=\"dataframe\">\n",
       "  <thead>\n",
       "    <tr style=\"text-align: right;\">\n",
       "      <th></th>\n",
       "      <th>Review</th>\n",
       "      <th>Like</th>\n",
       "    </tr>\n",
       "  </thead>\n",
       "  <tbody>\n",
       "    <tr>\n",
       "      <th>1</th>\n",
       "      <td>Wow... Loved this place.</td>\n",
       "      <td>1</td>\n",
       "    </tr>\n",
       "    <tr>\n",
       "      <th>2</th>\n",
       "      <td>Crust is not good.</td>\n",
       "      <td>0</td>\n",
       "    </tr>\n",
       "    <tr>\n",
       "      <th>3</th>\n",
       "      <td>Not tasty and the texture was just nasty.</td>\n",
       "      <td>0</td>\n",
       "    </tr>\n",
       "    <tr>\n",
       "      <th>4</th>\n",
       "      <td>Stopped by during the late May bank holiday of...</td>\n",
       "      <td>1</td>\n",
       "    </tr>\n",
       "    <tr>\n",
       "      <th>5</th>\n",
       "      <td>The selection on the menu was great and so wer...</td>\n",
       "      <td>1</td>\n",
       "    </tr>\n",
       "  </tbody>\n",
       "</table>\n",
       "</div>"
      ]
     },
     "execution_count": 4,
     "metadata": {},
     "output_type": "execute_result"
    }
   ],
   "execution_count": 4
  },
  {
   "metadata": {
    "ExecuteTime": {
     "end_time": "2025-04-16T02:30:58.968620Z",
     "start_time": "2025-04-16T02:30:58.965091Z"
    }
   },
   "cell_type": "code",
   "source": [
    "df_tsv = dfs['Restaurant_Reviews_Test']\n",
    "df = dfs[\"Restaurant_Reviews\"]\n",
    "df_tsv.head()"
   ],
   "id": "3fa8b69f7da6a7ce",
   "outputs": [
    {
     "data": {
      "text/plain": [
       "                                      Review  Like\n",
       "0                   Wow... Loved this place.   1.0\n",
       "1                      Crust isn't good    .   0.0\n",
       "2                   Wow... Loved this place.   1.0\n",
       "3                                          \"   NaN\n",
       "4  Not tasty and the texture was just nasty.   0.0"
      ],
      "text/html": [
       "<div>\n",
       "<style scoped>\n",
       "    .dataframe tbody tr th:only-of-type {\n",
       "        vertical-align: middle;\n",
       "    }\n",
       "\n",
       "    .dataframe tbody tr th {\n",
       "        vertical-align: top;\n",
       "    }\n",
       "\n",
       "    .dataframe thead th {\n",
       "        text-align: right;\n",
       "    }\n",
       "</style>\n",
       "<table border=\"1\" class=\"dataframe\">\n",
       "  <thead>\n",
       "    <tr style=\"text-align: right;\">\n",
       "      <th></th>\n",
       "      <th>Review</th>\n",
       "      <th>Like</th>\n",
       "    </tr>\n",
       "  </thead>\n",
       "  <tbody>\n",
       "    <tr>\n",
       "      <th>0</th>\n",
       "      <td>Wow... Loved this place.</td>\n",
       "      <td>1.0</td>\n",
       "    </tr>\n",
       "    <tr>\n",
       "      <th>1</th>\n",
       "      <td>Crust isn't good    .</td>\n",
       "      <td>0.0</td>\n",
       "    </tr>\n",
       "    <tr>\n",
       "      <th>2</th>\n",
       "      <td>Wow... Loved this place.</td>\n",
       "      <td>1.0</td>\n",
       "    </tr>\n",
       "    <tr>\n",
       "      <th>3</th>\n",
       "      <td>\"</td>\n",
       "      <td>NaN</td>\n",
       "    </tr>\n",
       "    <tr>\n",
       "      <th>4</th>\n",
       "      <td>Not tasty and the texture was just nasty.</td>\n",
       "      <td>0.0</td>\n",
       "    </tr>\n",
       "  </tbody>\n",
       "</table>\n",
       "</div>"
      ]
     },
     "execution_count": 5,
     "metadata": {},
     "output_type": "execute_result"
    }
   ],
   "execution_count": 5
  },
  {
   "metadata": {
    "ExecuteTime": {
     "end_time": "2025-04-16T02:30:59.087629Z",
     "start_time": "2025-04-16T02:30:59.084400Z"
    }
   },
   "cell_type": "code",
   "source": "df_tsv = clean.homogenize_columns(df_tsv)",
   "id": "277123ec29497c78",
   "outputs": [],
   "execution_count": 6
  },
  {
   "metadata": {
    "ExecuteTime": {
     "end_time": "2025-04-16T02:30:59.260380Z",
     "start_time": "2025-04-16T02:30:59.158948Z"
    }
   },
   "cell_type": "code",
   "source": [
    "# Remove Duplicates\n",
    "df_tsv_remove_dup = clean.remove_duplicates_fuzzy(df_tsv, \"review\", threshold = 90)\n",
    "df_tsv_remove_dup.head()"
   ],
   "id": "5adeb9fbff53f24e",
   "outputs": [
    {
     "data": {
      "text/plain": [
       "                                              review  like\n",
       "0                           Wow... Loved this place.   1.0\n",
       "1                              Crust isn't good    .   0.0\n",
       "2                                                  \"   NaN\n",
       "3          Not tasty and the texture was just nasty.   0.0\n",
       "4  Stopped by during the late May bank holiday of...   1.0"
      ],
      "text/html": [
       "<div>\n",
       "<style scoped>\n",
       "    .dataframe tbody tr th:only-of-type {\n",
       "        vertical-align: middle;\n",
       "    }\n",
       "\n",
       "    .dataframe tbody tr th {\n",
       "        vertical-align: top;\n",
       "    }\n",
       "\n",
       "    .dataframe thead th {\n",
       "        text-align: right;\n",
       "    }\n",
       "</style>\n",
       "<table border=\"1\" class=\"dataframe\">\n",
       "  <thead>\n",
       "    <tr style=\"text-align: right;\">\n",
       "      <th></th>\n",
       "      <th>review</th>\n",
       "      <th>like</th>\n",
       "    </tr>\n",
       "  </thead>\n",
       "  <tbody>\n",
       "    <tr>\n",
       "      <th>0</th>\n",
       "      <td>Wow... Loved this place.</td>\n",
       "      <td>1.0</td>\n",
       "    </tr>\n",
       "    <tr>\n",
       "      <th>1</th>\n",
       "      <td>Crust isn't good    .</td>\n",
       "      <td>0.0</td>\n",
       "    </tr>\n",
       "    <tr>\n",
       "      <th>2</th>\n",
       "      <td>\"</td>\n",
       "      <td>NaN</td>\n",
       "    </tr>\n",
       "    <tr>\n",
       "      <th>3</th>\n",
       "      <td>Not tasty and the texture was just nasty.</td>\n",
       "      <td>0.0</td>\n",
       "    </tr>\n",
       "    <tr>\n",
       "      <th>4</th>\n",
       "      <td>Stopped by during the late May bank holiday of...</td>\n",
       "      <td>1.0</td>\n",
       "    </tr>\n",
       "  </tbody>\n",
       "</table>\n",
       "</div>"
      ]
     },
     "execution_count": 7,
     "metadata": {},
     "output_type": "execute_result"
    }
   ],
   "execution_count": 7
  },
  {
   "metadata": {
    "ExecuteTime": {
     "end_time": "2025-04-16T02:30:59.286171Z",
     "start_time": "2025-04-16T02:30:59.280885Z"
    }
   },
   "cell_type": "code",
   "source": [
    "# Normalize the Text (Lowercase & Remove Punctuation, Remove Whitespaces)\n",
    "df_tsv_norm = clean.normalize_data(df_tsv_remove_dup, \"review\")\n",
    "df_tsv_norm.head()"
   ],
   "id": "6306413e4d6b5a81",
   "outputs": [
    {
     "data": {
      "text/plain": [
       "                                              review  like\n",
       "0                               wow loved this place   1.0\n",
       "1                                  crust isn't good    0.0\n",
       "2                                                      NaN\n",
       "3           not tasty and the texture was just nasty   0.0\n",
       "4  stopped by during the late may bank holiday of...   1.0"
      ],
      "text/html": [
       "<div>\n",
       "<style scoped>\n",
       "    .dataframe tbody tr th:only-of-type {\n",
       "        vertical-align: middle;\n",
       "    }\n",
       "\n",
       "    .dataframe tbody tr th {\n",
       "        vertical-align: top;\n",
       "    }\n",
       "\n",
       "    .dataframe thead th {\n",
       "        text-align: right;\n",
       "    }\n",
       "</style>\n",
       "<table border=\"1\" class=\"dataframe\">\n",
       "  <thead>\n",
       "    <tr style=\"text-align: right;\">\n",
       "      <th></th>\n",
       "      <th>review</th>\n",
       "      <th>like</th>\n",
       "    </tr>\n",
       "  </thead>\n",
       "  <tbody>\n",
       "    <tr>\n",
       "      <th>0</th>\n",
       "      <td>wow loved this place</td>\n",
       "      <td>1.0</td>\n",
       "    </tr>\n",
       "    <tr>\n",
       "      <th>1</th>\n",
       "      <td>crust isn't good</td>\n",
       "      <td>0.0</td>\n",
       "    </tr>\n",
       "    <tr>\n",
       "      <th>2</th>\n",
       "      <td></td>\n",
       "      <td>NaN</td>\n",
       "    </tr>\n",
       "    <tr>\n",
       "      <th>3</th>\n",
       "      <td>not tasty and the texture was just nasty</td>\n",
       "      <td>0.0</td>\n",
       "    </tr>\n",
       "    <tr>\n",
       "      <th>4</th>\n",
       "      <td>stopped by during the late may bank holiday of...</td>\n",
       "      <td>1.0</td>\n",
       "    </tr>\n",
       "  </tbody>\n",
       "</table>\n",
       "</div>"
      ]
     },
     "execution_count": 8,
     "metadata": {},
     "output_type": "execute_result"
    }
   ],
   "execution_count": 8
  },
  {
   "metadata": {
    "ExecuteTime": {
     "end_time": "2025-04-16T02:30:59.332075Z",
     "start_time": "2025-04-16T02:30:59.326734Z"
    }
   },
   "cell_type": "code",
   "source": [
    "# Handle Missing Values\n",
    "df_tsv_na = clean.handle_missing_values(df_tsv, \"review\")\n",
    "df_tsv_na.head()"
   ],
   "id": "2a1657b425b568",
   "outputs": [
    {
     "data": {
      "text/plain": [
       "                                              review  like\n",
       "0                               wow loved this place   1.0\n",
       "1                                  crust isn't good    0.0\n",
       "2           not tasty and the texture was just nasty   0.0\n",
       "3  stopped by during the late may bank holiday of...   1.0\n",
       "4  the selection on the menu was great and so wer...   1.0"
      ],
      "text/html": [
       "<div>\n",
       "<style scoped>\n",
       "    .dataframe tbody tr th:only-of-type {\n",
       "        vertical-align: middle;\n",
       "    }\n",
       "\n",
       "    .dataframe tbody tr th {\n",
       "        vertical-align: top;\n",
       "    }\n",
       "\n",
       "    .dataframe thead th {\n",
       "        text-align: right;\n",
       "    }\n",
       "</style>\n",
       "<table border=\"1\" class=\"dataframe\">\n",
       "  <thead>\n",
       "    <tr style=\"text-align: right;\">\n",
       "      <th></th>\n",
       "      <th>review</th>\n",
       "      <th>like</th>\n",
       "    </tr>\n",
       "  </thead>\n",
       "  <tbody>\n",
       "    <tr>\n",
       "      <th>0</th>\n",
       "      <td>wow loved this place</td>\n",
       "      <td>1.0</td>\n",
       "    </tr>\n",
       "    <tr>\n",
       "      <th>1</th>\n",
       "      <td>crust isn't good</td>\n",
       "      <td>0.0</td>\n",
       "    </tr>\n",
       "    <tr>\n",
       "      <th>2</th>\n",
       "      <td>not tasty and the texture was just nasty</td>\n",
       "      <td>0.0</td>\n",
       "    </tr>\n",
       "    <tr>\n",
       "      <th>3</th>\n",
       "      <td>stopped by during the late may bank holiday of...</td>\n",
       "      <td>1.0</td>\n",
       "    </tr>\n",
       "    <tr>\n",
       "      <th>4</th>\n",
       "      <td>the selection on the menu was great and so wer...</td>\n",
       "      <td>1.0</td>\n",
       "    </tr>\n",
       "  </tbody>\n",
       "</table>\n",
       "</div>"
      ]
     },
     "execution_count": 9,
     "metadata": {},
     "output_type": "execute_result"
    }
   ],
   "execution_count": 9
  },
  {
   "metadata": {
    "ExecuteTime": {
     "end_time": "2025-04-16T02:30:59.474168Z",
     "start_time": "2025-04-16T02:30:59.467973Z"
    }
   },
   "cell_type": "code",
   "source": [
    "# Original Text DataFrame to demonstrate Mass Cleaning Function\n",
    "df_test = clean.load_text_to_df(['../data/Restaurant_Reviews_Test.tsv'],\n",
    "                            columns =[\"Review\", \"Like\"], line_length = 0)\n",
    "df_tsv_dirty = df_test['Restaurant_Reviews_Test']\n",
    "df_tsv_dirty.head()"
   ],
   "id": "c392a3e4c9c7ad0",
   "outputs": [
    {
     "data": {
      "text/plain": [
       "                                      Review  Like\n",
       "0                   Wow... Loved this place.   1.0\n",
       "1                      Crust isn't good    .   0.0\n",
       "2                   Wow... Loved this place.   1.0\n",
       "3                                          \"   NaN\n",
       "4  Not tasty and the texture was just nasty.   0.0"
      ],
      "text/html": [
       "<div>\n",
       "<style scoped>\n",
       "    .dataframe tbody tr th:only-of-type {\n",
       "        vertical-align: middle;\n",
       "    }\n",
       "\n",
       "    .dataframe tbody tr th {\n",
       "        vertical-align: top;\n",
       "    }\n",
       "\n",
       "    .dataframe thead th {\n",
       "        text-align: right;\n",
       "    }\n",
       "</style>\n",
       "<table border=\"1\" class=\"dataframe\">\n",
       "  <thead>\n",
       "    <tr style=\"text-align: right;\">\n",
       "      <th></th>\n",
       "      <th>Review</th>\n",
       "      <th>Like</th>\n",
       "    </tr>\n",
       "  </thead>\n",
       "  <tbody>\n",
       "    <tr>\n",
       "      <th>0</th>\n",
       "      <td>Wow... Loved this place.</td>\n",
       "      <td>1.0</td>\n",
       "    </tr>\n",
       "    <tr>\n",
       "      <th>1</th>\n",
       "      <td>Crust isn't good    .</td>\n",
       "      <td>0.0</td>\n",
       "    </tr>\n",
       "    <tr>\n",
       "      <th>2</th>\n",
       "      <td>Wow... Loved this place.</td>\n",
       "      <td>1.0</td>\n",
       "    </tr>\n",
       "    <tr>\n",
       "      <th>3</th>\n",
       "      <td>\"</td>\n",
       "      <td>NaN</td>\n",
       "    </tr>\n",
       "    <tr>\n",
       "      <th>4</th>\n",
       "      <td>Not tasty and the texture was just nasty.</td>\n",
       "      <td>0.0</td>\n",
       "    </tr>\n",
       "  </tbody>\n",
       "</table>\n",
       "</div>"
      ]
     },
     "execution_count": 10,
     "metadata": {},
     "output_type": "execute_result"
    }
   ],
   "execution_count": 10
  },
  {
   "metadata": {
    "ExecuteTime": {
     "end_time": "2025-04-16T02:30:59.685223Z",
     "start_time": "2025-04-16T02:30:59.587218Z"
    }
   },
   "cell_type": "code",
   "source": [
    "# Mass Cleaning Function (Remove Duplicates, Normalize, Handle Missing Values)\n",
    "cleaned_df_tsv = clean.clean_dataframe(df_tsv_dirty, \"review\")\n",
    "cleaned_df_tsv.head()"
   ],
   "id": "555e4378697a62e5",
   "outputs": [
    {
     "data": {
      "text/plain": [
       "                                              review  like\n",
       "0                               wow loved this place   1.0\n",
       "1                                  crust isn't good    0.0\n",
       "2           not tasty and the texture was just nasty   0.0\n",
       "3  stopped by during the late may bank holiday of...   1.0\n",
       "4  the selection on the menu was great and so wer...   1.0"
      ],
      "text/html": [
       "<div>\n",
       "<style scoped>\n",
       "    .dataframe tbody tr th:only-of-type {\n",
       "        vertical-align: middle;\n",
       "    }\n",
       "\n",
       "    .dataframe tbody tr th {\n",
       "        vertical-align: top;\n",
       "    }\n",
       "\n",
       "    .dataframe thead th {\n",
       "        text-align: right;\n",
       "    }\n",
       "</style>\n",
       "<table border=\"1\" class=\"dataframe\">\n",
       "  <thead>\n",
       "    <tr style=\"text-align: right;\">\n",
       "      <th></th>\n",
       "      <th>review</th>\n",
       "      <th>like</th>\n",
       "    </tr>\n",
       "  </thead>\n",
       "  <tbody>\n",
       "    <tr>\n",
       "      <th>0</th>\n",
       "      <td>wow loved this place</td>\n",
       "      <td>1.0</td>\n",
       "    </tr>\n",
       "    <tr>\n",
       "      <th>1</th>\n",
       "      <td>crust isn't good</td>\n",
       "      <td>0.0</td>\n",
       "    </tr>\n",
       "    <tr>\n",
       "      <th>2</th>\n",
       "      <td>not tasty and the texture was just nasty</td>\n",
       "      <td>0.0</td>\n",
       "    </tr>\n",
       "    <tr>\n",
       "      <th>3</th>\n",
       "      <td>stopped by during the late may bank holiday of...</td>\n",
       "      <td>1.0</td>\n",
       "    </tr>\n",
       "    <tr>\n",
       "      <th>4</th>\n",
       "      <td>the selection on the menu was great and so wer...</td>\n",
       "      <td>1.0</td>\n",
       "    </tr>\n",
       "  </tbody>\n",
       "</table>\n",
       "</div>"
      ]
     },
     "execution_count": 11,
     "metadata": {},
     "output_type": "execute_result"
    }
   ],
   "execution_count": 11
  },
  {
   "metadata": {},
   "cell_type": "markdown",
   "source": "# Here lies examples of the data transformation modules\n",
   "id": "d42284fe0756bffa"
  },
  {
   "metadata": {
    "ExecuteTime": {
     "end_time": "2025-04-16T02:30:59.742247Z",
     "start_time": "2025-04-16T02:30:59.736031Z"
    }
   },
   "cell_type": "code",
   "source": [
    "# Tokenize Dataframe Example\n",
    "cleaned_df_tsv_tokenized = transform.tokenize_dataframe(cleaned_df_tsv, \"review\")\n",
    "cleaned_df_tsv_tokenized.head()"
   ],
   "id": "2b3ce03705469e5c",
   "outputs": [
    {
     "data": {
      "text/plain": [
       "                                              review  like  \\\n",
       "0                               wow loved this place   1.0   \n",
       "1                                  crust isn't good    0.0   \n",
       "2           not tasty and the texture was just nasty   0.0   \n",
       "3  stopped by during the late may bank holiday of...   1.0   \n",
       "4  the selection on the menu was great and so wer...   1.0   \n",
       "\n",
       "                                      Tokenized Text  \n",
       "0                            wow, loved, this, place  \n",
       "1                                 crust, isn't, good  \n",
       "2    not, tasty, and, the, texture, was, just, nasty  \n",
       "3  stopped, by, during, the, late, may, bank, hol...  \n",
       "4  the, selection, on, the, menu, was, great, and...  "
      ],
      "text/html": [
       "<div>\n",
       "<style scoped>\n",
       "    .dataframe tbody tr th:only-of-type {\n",
       "        vertical-align: middle;\n",
       "    }\n",
       "\n",
       "    .dataframe tbody tr th {\n",
       "        vertical-align: top;\n",
       "    }\n",
       "\n",
       "    .dataframe thead th {\n",
       "        text-align: right;\n",
       "    }\n",
       "</style>\n",
       "<table border=\"1\" class=\"dataframe\">\n",
       "  <thead>\n",
       "    <tr style=\"text-align: right;\">\n",
       "      <th></th>\n",
       "      <th>review</th>\n",
       "      <th>like</th>\n",
       "      <th>Tokenized Text</th>\n",
       "    </tr>\n",
       "  </thead>\n",
       "  <tbody>\n",
       "    <tr>\n",
       "      <th>0</th>\n",
       "      <td>wow loved this place</td>\n",
       "      <td>1.0</td>\n",
       "      <td>wow, loved, this, place</td>\n",
       "    </tr>\n",
       "    <tr>\n",
       "      <th>1</th>\n",
       "      <td>crust isn't good</td>\n",
       "      <td>0.0</td>\n",
       "      <td>crust, isn't, good</td>\n",
       "    </tr>\n",
       "    <tr>\n",
       "      <th>2</th>\n",
       "      <td>not tasty and the texture was just nasty</td>\n",
       "      <td>0.0</td>\n",
       "      <td>not, tasty, and, the, texture, was, just, nasty</td>\n",
       "    </tr>\n",
       "    <tr>\n",
       "      <th>3</th>\n",
       "      <td>stopped by during the late may bank holiday of...</td>\n",
       "      <td>1.0</td>\n",
       "      <td>stopped, by, during, the, late, may, bank, hol...</td>\n",
       "    </tr>\n",
       "    <tr>\n",
       "      <th>4</th>\n",
       "      <td>the selection on the menu was great and so wer...</td>\n",
       "      <td>1.0</td>\n",
       "      <td>the, selection, on, the, menu, was, great, and...</td>\n",
       "    </tr>\n",
       "  </tbody>\n",
       "</table>\n",
       "</div>"
      ]
     },
     "execution_count": 12,
     "metadata": {},
     "output_type": "execute_result"
    }
   ],
   "execution_count": 12
  },
  {
   "metadata": {
    "ExecuteTime": {
     "end_time": "2025-04-16T02:30:59.807174Z",
     "start_time": "2025-04-16T02:30:59.801291Z"
    }
   },
   "cell_type": "code",
   "source": [
    "# Remove Stopwords Example\n",
    "cleaned_df_tsv = transform.remove_stopwords(cleaned_df_tsv_tokenized, \"review\", custom_stopword = None, new_column = \"Review No Stopwords\")\n",
    "\n",
    "cleaned_df_tsv.head()"
   ],
   "id": "533df24f40fbfb02",
   "outputs": [
    {
     "data": {
      "text/plain": [
       "                                              review  like  \\\n",
       "0                               wow loved this place   1.0   \n",
       "1                                  crust isn't good    0.0   \n",
       "2           not tasty and the texture was just nasty   0.0   \n",
       "3  stopped by during the late may bank holiday of...   1.0   \n",
       "4  the selection on the menu was great and so wer...   1.0   \n",
       "\n",
       "                                      Tokenized Text  \\\n",
       "0                            wow, loved, this, place   \n",
       "1                                 crust, isn't, good   \n",
       "2    not, tasty, and, the, texture, was, just, nasty   \n",
       "3  stopped, by, during, the, late, may, bank, hol...   \n",
       "4  the, selection, on, the, menu, was, great, and...   \n",
       "\n",
       "                                 Review No Stopwords  \n",
       "0                                    wow loved place  \n",
       "1                                   crust isn't good  \n",
       "2                       not tasty texture just nasty  \n",
       "3  stopped during late may bank holiday off rick ...  \n",
       "4                        selection menu great prices  "
      ],
      "text/html": [
       "<div>\n",
       "<style scoped>\n",
       "    .dataframe tbody tr th:only-of-type {\n",
       "        vertical-align: middle;\n",
       "    }\n",
       "\n",
       "    .dataframe tbody tr th {\n",
       "        vertical-align: top;\n",
       "    }\n",
       "\n",
       "    .dataframe thead th {\n",
       "        text-align: right;\n",
       "    }\n",
       "</style>\n",
       "<table border=\"1\" class=\"dataframe\">\n",
       "  <thead>\n",
       "    <tr style=\"text-align: right;\">\n",
       "      <th></th>\n",
       "      <th>review</th>\n",
       "      <th>like</th>\n",
       "      <th>Tokenized Text</th>\n",
       "      <th>Review No Stopwords</th>\n",
       "    </tr>\n",
       "  </thead>\n",
       "  <tbody>\n",
       "    <tr>\n",
       "      <th>0</th>\n",
       "      <td>wow loved this place</td>\n",
       "      <td>1.0</td>\n",
       "      <td>wow, loved, this, place</td>\n",
       "      <td>wow loved place</td>\n",
       "    </tr>\n",
       "    <tr>\n",
       "      <th>1</th>\n",
       "      <td>crust isn't good</td>\n",
       "      <td>0.0</td>\n",
       "      <td>crust, isn't, good</td>\n",
       "      <td>crust isn't good</td>\n",
       "    </tr>\n",
       "    <tr>\n",
       "      <th>2</th>\n",
       "      <td>not tasty and the texture was just nasty</td>\n",
       "      <td>0.0</td>\n",
       "      <td>not, tasty, and, the, texture, was, just, nasty</td>\n",
       "      <td>not tasty texture just nasty</td>\n",
       "    </tr>\n",
       "    <tr>\n",
       "      <th>3</th>\n",
       "      <td>stopped by during the late may bank holiday of...</td>\n",
       "      <td>1.0</td>\n",
       "      <td>stopped, by, during, the, late, may, bank, hol...</td>\n",
       "      <td>stopped during late may bank holiday off rick ...</td>\n",
       "    </tr>\n",
       "    <tr>\n",
       "      <th>4</th>\n",
       "      <td>the selection on the menu was great and so wer...</td>\n",
       "      <td>1.0</td>\n",
       "      <td>the, selection, on, the, menu, was, great, and...</td>\n",
       "      <td>selection menu great prices</td>\n",
       "    </tr>\n",
       "  </tbody>\n",
       "</table>\n",
       "</div>"
      ]
     },
     "execution_count": 13,
     "metadata": {},
     "output_type": "execute_result"
    }
   ],
   "execution_count": 13
  },
  {
   "metadata": {
    "ExecuteTime": {
     "end_time": "2025-04-16T02:30:59.912622Z",
     "start_time": "2025-04-16T02:30:59.909868Z"
    }
   },
   "cell_type": "code",
   "source": [
    "\"\"\"# Stem Words Example\n",
    "cleaned_df_tsv[\"Stemmed\"] = cleaned_df_tsv[\"Review No Stopwords\"].apply(transform.basic_stem_words)\n",
    "\n",
    "cleaned_df_tsv.head()\n",
    "\"\"\"\n",
    "# Not Working Properly"
   ],
   "id": "8d738d25a2660bbd",
   "outputs": [
    {
     "data": {
      "text/plain": [
       "'# Stem Words Example\\ncleaned_df_tsv[\"Stemmed\"] = cleaned_df_tsv[\"Review No Stopwords\"].apply(transform.basic_stem_words)\\n\\ncleaned_df_tsv.head()\\n'"
      ]
     },
     "execution_count": 14,
     "metadata": {},
     "output_type": "execute_result"
    }
   ],
   "execution_count": 14
  },
  {
   "metadata": {
    "ExecuteTime": {
     "end_time": "2025-04-16T02:30:59.974699Z",
     "start_time": "2025-04-16T02:30:59.972466Z"
    }
   },
   "cell_type": "code",
   "source": [
    "\"\"\"# Autocorrect Words\n",
    "cleaned_df_tsv[\"Autocorrected\"] = cleaned_df_tsv[\"Review No Stopwords\"].apply(transform.autocorrect_text)\n",
    "cleaned_df_tsv[\"Autocorrected\"].head(10)\"\"\"\n",
    "\n",
    "# Not Working Properly"
   ],
   "id": "dab10705f62d07c",
   "outputs": [
    {
     "data": {
      "text/plain": [
       "'# Autocorrect Words\\ncleaned_df_tsv[\"Autocorrected\"] = cleaned_df_tsv[\"Review No Stopwords\"].apply(transform.autocorrect_text)\\ncleaned_df_tsv[\"Autocorrected\"].head(10)'"
      ]
     },
     "execution_count": 15,
     "metadata": {},
     "output_type": "execute_result"
    }
   ],
   "execution_count": 15
  },
  {
   "metadata": {
    "ExecuteTime": {
     "end_time": "2025-04-16T02:31:00.113484Z",
     "start_time": "2025-04-16T02:31:00.099832Z"
    }
   },
   "cell_type": "code",
   "source": [
    "# Label Data Sentiment Example\n",
    "cleaned_df_tsv[\"Sentiment\"] = cleaned_df_tsv[\"Review No Stopwords\"].apply(lambda x: transform.label_data_sentiment(x))\n",
    "\n",
    "cleaned_df_tsv.head()"
   ],
   "id": "5c58ec5da82a44a0",
   "outputs": [
    {
     "data": {
      "text/plain": [
       "                                              review  like  \\\n",
       "0                               wow loved this place   1.0   \n",
       "1                                  crust isn't good    0.0   \n",
       "2           not tasty and the texture was just nasty   0.0   \n",
       "3  stopped by during the late may bank holiday of...   1.0   \n",
       "4  the selection on the menu was great and so wer...   1.0   \n",
       "\n",
       "                                      Tokenized Text  \\\n",
       "0                            wow, loved, this, place   \n",
       "1                                 crust, isn't, good   \n",
       "2    not, tasty, and, the, texture, was, just, nasty   \n",
       "3  stopped, by, during, the, late, may, bank, hol...   \n",
       "4  the, selection, on, the, menu, was, great, and...   \n",
       "\n",
       "                                 Review No Stopwords Sentiment  \n",
       "0                                    wow loved place  Positive  \n",
       "1                                   crust isn't good  Negative  \n",
       "2                       not tasty texture just nasty  Negative  \n",
       "3  stopped during late may bank holiday off rick ...  Positive  \n",
       "4                        selection menu great prices  Positive  "
      ],
      "text/html": [
       "<div>\n",
       "<style scoped>\n",
       "    .dataframe tbody tr th:only-of-type {\n",
       "        vertical-align: middle;\n",
       "    }\n",
       "\n",
       "    .dataframe tbody tr th {\n",
       "        vertical-align: top;\n",
       "    }\n",
       "\n",
       "    .dataframe thead th {\n",
       "        text-align: right;\n",
       "    }\n",
       "</style>\n",
       "<table border=\"1\" class=\"dataframe\">\n",
       "  <thead>\n",
       "    <tr style=\"text-align: right;\">\n",
       "      <th></th>\n",
       "      <th>review</th>\n",
       "      <th>like</th>\n",
       "      <th>Tokenized Text</th>\n",
       "      <th>Review No Stopwords</th>\n",
       "      <th>Sentiment</th>\n",
       "    </tr>\n",
       "  </thead>\n",
       "  <tbody>\n",
       "    <tr>\n",
       "      <th>0</th>\n",
       "      <td>wow loved this place</td>\n",
       "      <td>1.0</td>\n",
       "      <td>wow, loved, this, place</td>\n",
       "      <td>wow loved place</td>\n",
       "      <td>Positive</td>\n",
       "    </tr>\n",
       "    <tr>\n",
       "      <th>1</th>\n",
       "      <td>crust isn't good</td>\n",
       "      <td>0.0</td>\n",
       "      <td>crust, isn't, good</td>\n",
       "      <td>crust isn't good</td>\n",
       "      <td>Negative</td>\n",
       "    </tr>\n",
       "    <tr>\n",
       "      <th>2</th>\n",
       "      <td>not tasty and the texture was just nasty</td>\n",
       "      <td>0.0</td>\n",
       "      <td>not, tasty, and, the, texture, was, just, nasty</td>\n",
       "      <td>not tasty texture just nasty</td>\n",
       "      <td>Negative</td>\n",
       "    </tr>\n",
       "    <tr>\n",
       "      <th>3</th>\n",
       "      <td>stopped by during the late may bank holiday of...</td>\n",
       "      <td>1.0</td>\n",
       "      <td>stopped, by, during, the, late, may, bank, hol...</td>\n",
       "      <td>stopped during late may bank holiday off rick ...</td>\n",
       "      <td>Positive</td>\n",
       "    </tr>\n",
       "    <tr>\n",
       "      <th>4</th>\n",
       "      <td>the selection on the menu was great and so wer...</td>\n",
       "      <td>1.0</td>\n",
       "      <td>the, selection, on, the, menu, was, great, and...</td>\n",
       "      <td>selection menu great prices</td>\n",
       "      <td>Positive</td>\n",
       "    </tr>\n",
       "  </tbody>\n",
       "</table>\n",
       "</div>"
      ]
     },
     "execution_count": 16,
     "metadata": {},
     "output_type": "execute_result"
    }
   ],
   "execution_count": 16
  },
  {
   "metadata": {},
   "cell_type": "markdown",
   "source": [
    "# EDA of our Restaurant Review Dataset\n",
    "\n"
   ],
   "id": "fa0a7f78e2af6b67"
  },
  {
   "metadata": {},
   "cell_type": "markdown",
   "source": "Let us first quickly clean the dataset using our toolkit. We will quickly clean our data and investigate the sentiment for the reviews of the restaurant.",
   "id": "5e073ecd7c4923fb"
  },
  {
   "metadata": {
    "ExecuteTime": {
     "end_time": "2025-04-16T02:31:02.797991Z",
     "start_time": "2025-04-16T02:31:00.193043Z"
    }
   },
   "cell_type": "code",
   "source": [
    "# Let us now take a look at our actual dataset\n",
    "df = clean.clean_dataframe(df, \"review\")\n",
    "transform.tokenize_dataframe(df, \"review\")\n",
    "df = transform.remove_stopwords(df, \"review\", new_column = \"Cleaned\")\n",
    "df[\"Cleaned_Sentiment\"] = df[\"Cleaned\"].apply(lambda x: transform.label_data_sentiment(x))\n",
    "df = clean.homogenize_columns(df)\n"
   ],
   "id": "b8abc639c232d5f4",
   "outputs": [],
   "execution_count": 17
  },
  {
   "metadata": {
    "ExecuteTime": {
     "end_time": "2025-04-16T02:31:02.842201Z",
     "start_time": "2025-04-16T02:31:02.839192Z"
    }
   },
   "cell_type": "code",
   "source": [
    "df.head()\n",
    "print(df.shape)"
   ],
   "id": "9aeaf59ffba35186",
   "outputs": [
    {
     "name": "stdout",
     "output_type": "stream",
     "text": [
      "(995, 5)\n"
     ]
    }
   ],
   "execution_count": 18
  },
  {
   "metadata": {
    "ExecuteTime": {
     "end_time": "2025-04-16T02:31:03.220461Z",
     "start_time": "2025-04-16T02:31:02.902910Z"
    }
   },
   "cell_type": "code",
   "source": [
    "# Generate Wordcloud of Autocorrect Series\n",
    "eda.generate_wordcloud(df[\"cleaned\"], custom_stopwords=[\"will\", \"some\", \"came\"])"
   ],
   "id": "1b54a75de53ae51e",
   "outputs": [
    {
     "data": {
      "text/plain": [
       "<Figure size 1000x500 with 1 Axes>"
      ],
      "image/png": "[encoded data removed]"
     },
     "metadata": {},
     "output_type": "display_data"
    },
    {
     "data": {
      "text/plain": [
       "<wordcloud.wordcloud.WordCloud at 0x12ac9b140>"
      ]
     },
     "execution_count": 19,
     "metadata": {},
     "output_type": "execute_result"
    }
   ],
   "execution_count": 19
  },
  {
   "metadata": {
    "ExecuteTime": {
     "end_time": "2025-04-16T02:31:03.241906Z",
     "start_time": "2025-04-16T02:31:03.231392Z"
    }
   },
   "cell_type": "code",
   "source": [
    "# Summary Statistics of our Text Data\n",
    "eda.text_summary_stats(df, \"cleaned\")"
   ],
   "id": "6f09dfbd9e417be8",
   "outputs": [
    {
     "data": {
      "text/plain": [
       "{'document_stats': {'total_docs': 995, 'empty_docs': 0, 'unique_docs': 992},\n",
       " 'length_stats': {'min_length': 5,\n",
       "  'max_length': 120,\n",
       "  'total_length': 40514,\n",
       "  'char_count_mean': 40.71758793969849,\n",
       "  'char_count_median': 36},\n",
       " 'word_stats': {'avg_words_per_doc': 6.519597989949749,\n",
       "  'total_words': 6487,\n",
       "  'unique_words': 2025,\n",
       "  'avg_word_length': 5.398797595190381},\n",
       " 'frequent_words': {'food': 123,\n",
       "  'not': 114,\n",
       "  'place': 104,\n",
       "  'good': 95,\n",
       "  'service': 83,\n",
       "  'very': 75,\n",
       "  'great': 70,\n",
       "  'back': 59,\n",
       "  'here': 56,\n",
       "  'like': 46}}"
      ]
     },
     "execution_count": 20,
     "metadata": {},
     "output_type": "execute_result"
    }
   ],
   "execution_count": 20
  },
  {
   "metadata": {},
   "cell_type": "markdown",
   "source": "The summary statistics of our text data provides some useful information of our text data. All of the frequent words make sense in the context of a person writing a restaurant review.",
   "id": "392d925a5c45d042"
  },
  {
   "metadata": {
    "ExecuteTime": {
     "end_time": "2025-04-16T02:31:03.357631Z",
     "start_time": "2025-04-16T02:31:03.266962Z"
    }
   },
   "cell_type": "code",
   "source": [
    "# Sentiment Distribution Graph\n",
    "eda.plot_sentiment_distribution(df = df, text_column=\"cleaned\")"
   ],
   "id": "cd1e506cde6f74d2",
   "outputs": [
    {
     "data": {
      "text/plain": [
       "<Figure size 1050x700 with 1 Axes>"
      ],
      "image/png": "[encoded data removed]"
     },
     "metadata": {},
     "output_type": "display_data"
    }
   ],
   "execution_count": 21
  },
  {
   "metadata": {},
   "cell_type": "markdown",
   "source": "Now let us take a quick peek at the distribution of our lexicon based sentiment analysis. Our dataset had around 995 rows and our sentiment analysis approximately labeled 320 as Positive, 100 as Negative and 580 as Neutral. Luckily, we are working with a already labeled dataset so we can see the accuracy our sentiment analysis.",
   "id": "c0455a21907beeaa"
  },
  {
   "metadata": {
    "ExecuteTime": {
     "end_time": "2025-04-16T02:31:03.416986Z",
     "start_time": "2025-04-16T02:31:03.378194Z"
    }
   },
   "cell_type": "code",
   "source": [
    "# Actual Sentiment\n",
    "df[\"like\"] = df[\"like\"].astype(float)\n",
    "df[\"like\"] = df[\"like\"].map({0.0: \"Negative\", 1.0: \"Positive\"})\n",
    "\n",
    "sns.countplot(data=df, x=\"like\")\n",
    "plt.title(\"Sentiment Distribution\")\n",
    "plt.xlabel(\"Sentiment\")\n",
    "plt.ylabel(\"Count\")\n",
    "plt.show()\n"
   ],
   "id": "b34e2f585480ee0e",
   "outputs": [
    {
     "data": {
      "text/plain": [
       "<Figure size 640x480 with 1 Axes>"
      ],
      "image/png": "[encoded data removed]"
     },
     "metadata": {},
     "output_type": "display_data"
    }
   ],
   "execution_count": 22
  },
  {
   "metadata": {},
   "cell_type": "markdown",
   "source": "Well unfortunately we were quite off. The actual dataset is basically a 50/50 split of positive and negative sentiment. Our sentiment analysis seemed to have mislabeled more than half of the dataset as neutral. This inaccuracy is expected using a lexicon based logic, but let us take a closer look into what went wrong.",
   "id": "5ffedce39aa5d84c"
  },
  {
   "metadata": {
    "ExecuteTime": {
     "end_time": "2025-04-16T02:31:03.428814Z",
     "start_time": "2025-04-16T02:31:03.423713Z"
    }
   },
   "cell_type": "code",
   "source": [
    "different = df[df[\"like\"] != df[\"cleaned_sentiment\"]]\n",
    "display(different)"
   ],
   "id": "8d1dc02be05cc71a",
   "outputs": [
    {
     "data": {
      "text/plain": [
       "                                                review      like  \\\n",
       "6                  honeslty it didn't taste that fresh  Negative   \n",
       "7    the potatoes were like rubber and you could te...  Negative   \n",
       "10                             service was very prompt  Positive   \n",
       "11                                   would not go back  Negative   \n",
       "12   the cashier had no care what so ever on what i...  Negative   \n",
       "..                                                 ...       ...   \n",
       "990  i think food should have flavor and texture an...  Negative   \n",
       "991                            appetite instantly gone  Negative   \n",
       "992  overall i was not impressed and would not go back  Negative   \n",
       "993  the whole experience was underwhelming and i t...  Negative   \n",
       "994  then as if i hadn't wasted enough of my life t...  Negative   \n",
       "\n",
       "                                        tokenized_text  \\\n",
       "6             honeslty, it, didn't, taste, that, fresh   \n",
       "7    the, potatoes, were, like, rubber, and, you, c...   \n",
       "10                          service, was, very, prompt   \n",
       "11                                would, not, go, back   \n",
       "12   the, cashier, had, no, care, what, so, ever, o...   \n",
       "..                                                 ...   \n",
       "990  i, think, food, should, have, flavor, and, tex...   \n",
       "991                          appetite, instantly, gone   \n",
       "992  overall, i, was, not, impressed, and, would, n...   \n",
       "993  the, whole, experience, was, underwhelming, an...   \n",
       "994  then, as, if, i, hadn't, wasted, enough, of, m...   \n",
       "\n",
       "                                               cleaned cleaned_sentiment  \n",
       "6                          honeslty didn't taste fresh           Neutral  \n",
       "7    potatoes like rubber tell made ahead time kept...          Positive  \n",
       "10                                 service very prompt           Neutral  \n",
       "11                                         not go back           Neutral  \n",
       "12   cashier no care ever say still ended wayyy ove...           Neutral  \n",
       "..                                                 ...               ...  \n",
       "990             think food flavor texture both lacking           Neutral  \n",
       "991                            appetite instantly gone           Neutral  \n",
       "992                  overall not impressed not go back           Neutral  \n",
       "993  whole experience underwhelming think we'll jus...           Neutral  \n",
       "994  then as if hadn't wasted enough life there pou...           Neutral  \n",
       "\n",
       "[623 rows x 5 columns]"
      ],
      "text/html": [
       "<div>\n",
       "<style scoped>\n",
       "    .dataframe tbody tr th:only-of-type {\n",
       "        vertical-align: middle;\n",
       "    }\n",
       "\n",
       "    .dataframe tbody tr th {\n",
       "        vertical-align: top;\n",
       "    }\n",
       "\n",
       "    .dataframe thead th {\n",
       "        text-align: right;\n",
       "    }\n",
       "</style>\n",
       "<table border=\"1\" class=\"dataframe\">\n",
       "  <thead>\n",
       "    <tr style=\"text-align: right;\">\n",
       "      <th></th>\n",
       "      <th>review</th>\n",
       "      <th>like</th>\n",
       "      <th>tokenized_text</th>\n",
       "      <th>cleaned</th>\n",
       "      <th>cleaned_sentiment</th>\n",
       "    </tr>\n",
       "  </thead>\n",
       "  <tbody>\n",
       "    <tr>\n",
       "      <th>6</th>\n",
       "      <td>honeslty it didn't taste that fresh</td>\n",
       "      <td>Negative</td>\n",
       "      <td>honeslty, it, didn't, taste, that, fresh</td>\n",
       "      <td>honeslty didn't taste fresh</td>\n",
       "      <td>Neutral</td>\n",
       "    </tr>\n",
       "    <tr>\n",
       "      <th>7</th>\n",
       "      <td>the potatoes were like rubber and you could te...</td>\n",
       "      <td>Negative</td>\n",
       "      <td>the, potatoes, were, like, rubber, and, you, c...</td>\n",
       "      <td>potatoes like rubber tell made ahead time kept...</td>\n",
       "      <td>Positive</td>\n",
       "    </tr>\n",
       "    <tr>\n",
       "      <th>10</th>\n",
       "      <td>service was very prompt</td>\n",
       "      <td>Positive</td>\n",
       "      <td>service, was, very, prompt</td>\n",
       "      <td>service very prompt</td>\n",
       "      <td>Neutral</td>\n",
       "    </tr>\n",
       "    <tr>\n",
       "      <th>11</th>\n",
       "      <td>would not go back</td>\n",
       "      <td>Negative</td>\n",
       "      <td>would, not, go, back</td>\n",
       "      <td>not go back</td>\n",
       "      <td>Neutral</td>\n",
       "    </tr>\n",
       "    <tr>\n",
       "      <th>12</th>\n",
       "      <td>the cashier had no care what so ever on what i...</td>\n",
       "      <td>Negative</td>\n",
       "      <td>the, cashier, had, no, care, what, so, ever, o...</td>\n",
       "      <td>cashier no care ever say still ended wayyy ove...</td>\n",
       "      <td>Neutral</td>\n",
       "    </tr>\n",
       "    <tr>\n",
       "      <th>...</th>\n",
       "      <td>...</td>\n",
       "      <td>...</td>\n",
       "      <td>...</td>\n",
       "      <td>...</td>\n",
       "      <td>...</td>\n",
       "    </tr>\n",
       "    <tr>\n",
       "      <th>990</th>\n",
       "      <td>i think food should have flavor and texture an...</td>\n",
       "      <td>Negative</td>\n",
       "      <td>i, think, food, should, have, flavor, and, tex...</td>\n",
       "      <td>think food flavor texture both lacking</td>\n",
       "      <td>Neutral</td>\n",
       "    </tr>\n",
       "    <tr>\n",
       "      <th>991</th>\n",
       "      <td>appetite instantly gone</td>\n",
       "      <td>Negative</td>\n",
       "      <td>appetite, instantly, gone</td>\n",
       "      <td>appetite instantly gone</td>\n",
       "      <td>Neutral</td>\n",
       "    </tr>\n",
       "    <tr>\n",
       "      <th>992</th>\n",
       "      <td>overall i was not impressed and would not go back</td>\n",
       "      <td>Negative</td>\n",
       "      <td>overall, i, was, not, impressed, and, would, n...</td>\n",
       "      <td>overall not impressed not go back</td>\n",
       "      <td>Neutral</td>\n",
       "    </tr>\n",
       "    <tr>\n",
       "      <th>993</th>\n",
       "      <td>the whole experience was underwhelming and i t...</td>\n",
       "      <td>Negative</td>\n",
       "      <td>the, whole, experience, was, underwhelming, an...</td>\n",
       "      <td>whole experience underwhelming think we'll jus...</td>\n",
       "      <td>Neutral</td>\n",
       "    </tr>\n",
       "    <tr>\n",
       "      <th>994</th>\n",
       "      <td>then as if i hadn't wasted enough of my life t...</td>\n",
       "      <td>Negative</td>\n",
       "      <td>then, as, if, i, hadn't, wasted, enough, of, m...</td>\n",
       "      <td>then as if hadn't wasted enough life there pou...</td>\n",
       "      <td>Neutral</td>\n",
       "    </tr>\n",
       "  </tbody>\n",
       "</table>\n",
       "<p>623 rows × 5 columns</p>\n",
       "</div>"
      ]
     },
     "metadata": {},
     "output_type": "display_data"
    }
   ],
   "execution_count": 23
  },
  {
   "metadata": {},
   "cell_type": "markdown",
   "source": "Here we can kind of get an idea of what wrong and we can see that our general lexicons are probably also missing a lot of words related to food sentiment. Let us take a closer look of the most used words in the reviews mislabeled \"Neutral\".",
   "id": "6bdbf145a5dcbcb9"
  },
  {
   "metadata": {
    "ExecuteTime": {
     "end_time": "2025-04-16T02:31:03.452190Z",
     "start_time": "2025-04-16T02:31:03.446164Z"
    }
   },
   "cell_type": "code",
   "source": [
    "# Top Bi-Grams of Neutral\n",
    "eda.top_ngrams((df[df[\"cleaned_sentiment\"] == \"Neutral\"][\"cleaned\"]), stopwords=\"food\", n=2, top_k=15)"
   ],
   "id": "efebb6f8501d2749",
   "outputs": [
    {
     "data": {
      "text/plain": [
       "[(('go', 'back'), 15),\n",
       " (('here', 'again'), 7),\n",
       " (('will', 'never'), 7),\n",
       " (('going', 'back'), 7),\n",
       " (('back', 'here'), 6),\n",
       " (('will', 'not'), 6),\n",
       " (('more', 'than'), 5),\n",
       " (('dont', 'think'), 5),\n",
       " (('5', 'stars'), 5),\n",
       " (('anytime', 'soon'), 5),\n",
       " (('as', 'well'), 4),\n",
       " (('never', 'ever'), 4),\n",
       " (('will', 'go'), 4),\n",
       " (('very', 'disappointed'), 4),\n",
       " (('not', 'impressed'), 4)]"
      ]
     },
     "execution_count": 24,
     "metadata": {},
     "output_type": "execute_result"
    }
   ],
   "execution_count": 24
  },
  {
   "metadata": {
    "ExecuteTime": {
     "end_time": "2025-04-16T02:31:03.491794Z",
     "start_time": "2025-04-16T02:31:03.486414Z"
    }
   },
   "cell_type": "code",
   "source": [
    "# Top Bi-Grams of Neutral\n",
    "eda.top_ngrams((df[df[\"cleaned_sentiment\"] == \"Neutral\"][\"cleaned\"]), stopwords={\"food\", \"not\", \"place\", \"service\", \"back\", \"go\"}, n=2, top_k=15)"
   ],
   "id": "a1e9e9bebec1db1a",
   "outputs": [
    {
     "data": {
      "text/plain": [
       "[(('here', 'again'), 7),\n",
       " (('will', 'never'), 7),\n",
       " (('more', 'than'), 5),\n",
       " (('dont', 'think'), 5),\n",
       " (('5', 'stars'), 5),\n",
       " (('anytime', 'soon'), 5),\n",
       " (('as', 'well'), 4),\n",
       " (('never', 'ever'), 4),\n",
       " (('very', 'disappointed'), 4),\n",
       " (('very', 'friendly'), 4),\n",
       " (('zero', 'stars'), 4),\n",
       " (('wont', 'going'), 4),\n",
       " (('came', 'out'), 4),\n",
       " (('eat', 'here'), 4),\n",
       " (('every', 'time'), 3)]"
      ]
     },
     "execution_count": 25,
     "metadata": {},
     "output_type": "execute_result"
    }
   ],
   "execution_count": 25
  },
  {
   "metadata": {
    "ExecuteTime": {
     "end_time": "2025-04-16T02:31:03.545463Z",
     "start_time": "2025-04-16T02:31:03.540214Z"
    }
   },
   "cell_type": "code",
   "source": [
    "# Top Tri-Grams of Neutral\n",
    "eda.top_ngrams((df[df[\"cleaned_sentiment\"] == \"Neutral\"][\"cleaned\"]), stopwords=\"food\", n=3, top_k=15)"
   ],
   "id": "c974e2b51d51b662",
   "outputs": [
    {
     "data": {
      "text/plain": [
       "[(('will', 'never', 'ever'), 4),\n",
       " (('will', 'go', 'back'), 4),\n",
       " (('wont', 'going', 'back'), 4),\n",
       " (('back', 'here', 'again'), 3),\n",
       " (('going', 'back', 'anytime'), 3),\n",
       " (('back', 'anytime', 'soon'), 3),\n",
       " (('not', 'go', 'back'), 2),\n",
       " (('just', 'dont', 'know'), 2),\n",
       " (('time', 'im', 'vegas'), 2),\n",
       " (('service', 'extremely', 'slow'), 2),\n",
       " (('go', 'back', 'service'), 2),\n",
       " (('give', 'zero', 'stars'), 2),\n",
       " (('going', 'back', 'there'), 2),\n",
       " (('will', 'not', 'getting'), 2),\n",
       " (('never', 'ever', 'go'), 2)]"
      ]
     },
     "execution_count": 26,
     "metadata": {},
     "output_type": "execute_result"
    }
   ],
   "execution_count": 26
  },
  {
   "metadata": {},
   "cell_type": "markdown",
   "source": "Here we can see that a lot of our mislabeled sentiment may be because of reviews discussing whether they would or would not go back to this restaurant. Let us try to improve our lexicon a bit specifically for restaurant reviews.",
   "id": "460349e0742d9be6"
  },
  {
   "metadata": {
    "ExecuteTime": {
     "end_time": "2025-04-16T02:31:03.698113Z",
     "start_time": "2025-04-16T02:31:03.576050Z"
    }
   },
   "cell_type": "code",
   "source": [
    "df[\"new_sentiment\"] = df[\"cleaned\"].apply(\n",
    "    lambda x: transform.label_data_sentiment(x,\n",
    "    custom_positive = {\"tasty\", \"taste\", \"prompt\", \"delicious\",  \"fullfilled\", \"go\", \"friendly\", \"5\", \"five\", \"4\", \"four\", \"3\", \"three\"},\n",
    "    custom_negative = {\"nasty\", \"angry\", \"no\", \"damn\", \"rubber\", \"gross\", \"never\", \"disappointed\", \"2\", \"two\", \"1\", \"one\", \"0\", \"zero\", \"underwhelming\"},\n",
    "    filename = '../data/Restaurant_Lexicon.json'))\n",
    "\n",
    "different = df[df[\"like\"] != df[\"new_sentiment\"]]\n",
    "display(different)\n"
   ],
   "id": "e1958304e299567f",
   "outputs": [
    {
     "data": {
      "text/plain": [
       "                                                review      like  \\\n",
       "6                  honeslty it didn't taste that fresh  Negative   \n",
       "7    the potatoes were like rubber and you could te...  Negative   \n",
       "13   i tried the cape cod ravoli chicken with cranb...  Positive   \n",
       "14   i was disgusted because i was pretty sure that...  Negative   \n",
       "16                                  highly recommended  Positive   \n",
       "..                                                 ...       ...   \n",
       "987  a lady at the table next to us found a live gr...  Negative   \n",
       "990  i think food should have flavor and texture an...  Negative   \n",
       "991                            appetite instantly gone  Negative   \n",
       "993  the whole experience was underwhelming and i t...  Negative   \n",
       "994  then as if i hadn't wasted enough of my life t...  Negative   \n",
       "\n",
       "                                        tokenized_text  \\\n",
       "6             honeslty, it, didn't, taste, that, fresh   \n",
       "7    the, potatoes, were, like, rubber, and, you, c...   \n",
       "13   i, tried, the, cape, cod, ravoli, chicken, wit...   \n",
       "14   i, was, disgusted, because, i, was, pretty, su...   \n",
       "16                                 highly, recommended   \n",
       "..                                                 ...   \n",
       "987  a, lady, at, the, table, next, to, us, found, ...   \n",
       "990  i, think, food, should, have, flavor, and, tex...   \n",
       "991                          appetite, instantly, gone   \n",
       "993  the, whole, experience, was, underwhelming, an...   \n",
       "994  then, as, if, i, hadn't, wasted, enough, of, m...   \n",
       "\n",
       "                                               cleaned cleaned_sentiment  \\\n",
       "6                          honeslty didn't taste fresh           Neutral   \n",
       "7    potatoes like rubber tell made ahead time kept...          Positive   \n",
       "13         tried cape cod ravoli chicken cranberrymmmm           Neutral   \n",
       "14            disgusted because pretty sure human hair           Neutral   \n",
       "16                                  highly recommended           Neutral   \n",
       "..                                                 ...               ...   \n",
       "987  lady table next us found live green caterpilla...           Neutral   \n",
       "990             think food flavor texture both lacking           Neutral   \n",
       "991                            appetite instantly gone           Neutral   \n",
       "993  whole experience underwhelming think we'll jus...           Neutral   \n",
       "994  then as if hadn't wasted enough life there pou...           Neutral   \n",
       "\n",
       "    new_sentiment  \n",
       "6         Neutral  \n",
       "7        Positive  \n",
       "13        Neutral  \n",
       "14        Neutral  \n",
       "16        Neutral  \n",
       "..            ...  \n",
       "987       Neutral  \n",
       "990       Neutral  \n",
       "991       Neutral  \n",
       "993       Neutral  \n",
       "994       Neutral  \n",
       "\n",
       "[501 rows x 6 columns]"
      ],
      "text/html": [
       "<div>\n",
       "<style scoped>\n",
       "    .dataframe tbody tr th:only-of-type {\n",
       "        vertical-align: middle;\n",
       "    }\n",
       "\n",
       "    .dataframe tbody tr th {\n",
       "        vertical-align: top;\n",
       "    }\n",
       "\n",
       "    .dataframe thead th {\n",
       "        text-align: right;\n",
       "    }\n",
       "</style>\n",
       "<table border=\"1\" class=\"dataframe\">\n",
       "  <thead>\n",
       "    <tr style=\"text-align: right;\">\n",
       "      <th></th>\n",
       "      <th>review</th>\n",
       "      <th>like</th>\n",
       "      <th>tokenized_text</th>\n",
       "      <th>cleaned</th>\n",
       "      <th>cleaned_sentiment</th>\n",
       "      <th>new_sentiment</th>\n",
       "    </tr>\n",
       "  </thead>\n",
       "  <tbody>\n",
       "    <tr>\n",
       "      <th>6</th>\n",
       "      <td>honeslty it didn't taste that fresh</td>\n",
       "      <td>Negative</td>\n",
       "      <td>honeslty, it, didn't, taste, that, fresh</td>\n",
       "      <td>honeslty didn't taste fresh</td>\n",
       "      <td>Neutral</td>\n",
       "      <td>Neutral</td>\n",
       "    </tr>\n",
       "    <tr>\n",
       "      <th>7</th>\n",
       "      <td>the potatoes were like rubber and you could te...</td>\n",
       "      <td>Negative</td>\n",
       "      <td>the, potatoes, were, like, rubber, and, you, c...</td>\n",
       "      <td>potatoes like rubber tell made ahead time kept...</td>\n",
       "      <td>Positive</td>\n",
       "      <td>Positive</td>\n",
       "    </tr>\n",
       "    <tr>\n",
       "      <th>13</th>\n",
       "      <td>i tried the cape cod ravoli chicken with cranb...</td>\n",
       "      <td>Positive</td>\n",
       "      <td>i, tried, the, cape, cod, ravoli, chicken, wit...</td>\n",
       "      <td>tried cape cod ravoli chicken cranberrymmmm</td>\n",
       "      <td>Neutral</td>\n",
       "      <td>Neutral</td>\n",
       "    </tr>\n",
       "    <tr>\n",
       "      <th>14</th>\n",
       "      <td>i was disgusted because i was pretty sure that...</td>\n",
       "      <td>Negative</td>\n",
       "      <td>i, was, disgusted, because, i, was, pretty, su...</td>\n",
       "      <td>disgusted because pretty sure human hair</td>\n",
       "      <td>Neutral</td>\n",
       "      <td>Neutral</td>\n",
       "    </tr>\n",
       "    <tr>\n",
       "      <th>16</th>\n",
       "      <td>highly recommended</td>\n",
       "      <td>Positive</td>\n",
       "      <td>highly, recommended</td>\n",
       "      <td>highly recommended</td>\n",
       "      <td>Neutral</td>\n",
       "      <td>Neutral</td>\n",
       "    </tr>\n",
       "    <tr>\n",
       "      <th>...</th>\n",
       "      <td>...</td>\n",
       "      <td>...</td>\n",
       "      <td>...</td>\n",
       "      <td>...</td>\n",
       "      <td>...</td>\n",
       "      <td>...</td>\n",
       "    </tr>\n",
       "    <tr>\n",
       "      <th>987</th>\n",
       "      <td>a lady at the table next to us found a live gr...</td>\n",
       "      <td>Negative</td>\n",
       "      <td>a, lady, at, the, table, next, to, us, found, ...</td>\n",
       "      <td>lady table next us found live green caterpilla...</td>\n",
       "      <td>Neutral</td>\n",
       "      <td>Neutral</td>\n",
       "    </tr>\n",
       "    <tr>\n",
       "      <th>990</th>\n",
       "      <td>i think food should have flavor and texture an...</td>\n",
       "      <td>Negative</td>\n",
       "      <td>i, think, food, should, have, flavor, and, tex...</td>\n",
       "      <td>think food flavor texture both lacking</td>\n",
       "      <td>Neutral</td>\n",
       "      <td>Neutral</td>\n",
       "    </tr>\n",
       "    <tr>\n",
       "      <th>991</th>\n",
       "      <td>appetite instantly gone</td>\n",
       "      <td>Negative</td>\n",
       "      <td>appetite, instantly, gone</td>\n",
       "      <td>appetite instantly gone</td>\n",
       "      <td>Neutral</td>\n",
       "      <td>Neutral</td>\n",
       "    </tr>\n",
       "    <tr>\n",
       "      <th>993</th>\n",
       "      <td>the whole experience was underwhelming and i t...</td>\n",
       "      <td>Negative</td>\n",
       "      <td>the, whole, experience, was, underwhelming, an...</td>\n",
       "      <td>whole experience underwhelming think we'll jus...</td>\n",
       "      <td>Neutral</td>\n",
       "      <td>Neutral</td>\n",
       "    </tr>\n",
       "    <tr>\n",
       "      <th>994</th>\n",
       "      <td>then as if i hadn't wasted enough of my life t...</td>\n",
       "      <td>Negative</td>\n",
       "      <td>then, as, if, i, hadn't, wasted, enough, of, m...</td>\n",
       "      <td>then as if hadn't wasted enough life there pou...</td>\n",
       "      <td>Neutral</td>\n",
       "      <td>Neutral</td>\n",
       "    </tr>\n",
       "  </tbody>\n",
       "</table>\n",
       "<p>501 rows × 6 columns</p>\n",
       "</div>"
      ]
     },
     "metadata": {},
     "output_type": "display_data"
    }
   ],
   "execution_count": 27
  },
  {
   "metadata": {
    "ExecuteTime": {
     "end_time": "2025-04-16T02:31:03.714537Z",
     "start_time": "2025-04-16T02:31:03.710568Z"
    }
   },
   "cell_type": "code",
   "source": [
    "different1 = df[df[\"like\"] != df[\"cleaned_sentiment\"]]\n",
    "different2 = df[df[\"like\"] != df[\"new_sentiment\"]]\n",
    "print(len(different1) - len(different2))"
   ],
   "id": "a2f7ab3d1ae69902",
   "outputs": [
    {
     "name": "stdout",
     "output_type": "stream",
     "text": [
      "122\n"
     ]
    }
   ],
   "execution_count": 28
  },
  {
   "metadata": {},
   "cell_type": "markdown",
   "source": "Not bad, with just a small addition of words we reduced the number of mismatches by approximately 20%. We can take a look at our restaurant lexicon file to see that our default lexicons have been updated with more words associated to a restaurant",
   "id": "fac2585c4c6d7dc8"
  },
  {
   "metadata": {},
   "cell_type": "markdown",
   "source": "# Machine Learning EDA into our text data",
   "id": "1b91b50c0bc48015"
  },
  {
   "metadata": {},
   "cell_type": "markdown",
   "source": "Now let us vectorize our text and take a look at the accuracy of a Multinomial Naive Bayes classifier and the accuracy of our lexicon based sentiment approach. We selected Multinomial because it is generally the best choice due to its efficiency, and effectiveness. We will limit the vocabulary to the top 300 most frequent tokens. Here X is our matrix of df['cleaned'] and vectorizer is our fitted count vectorizer.",
   "id": "b3ca958c1724590d"
  },
  {
   "metadata": {
    "ExecuteTime": {
     "end_time": "2025-04-16T02:31:03.772158Z",
     "start_time": "2025-04-16T02:31:03.757523Z"
    }
   },
   "cell_type": "code",
   "source": [
    "X, vectorizer = transform.vectorize_text(df['cleaned'], method = \"count\", max_features = 300)\n",
    "model = MultinomialNB()\n",
    "model.fit(X, df['like'])\n",
    "df['ml_prediction'] = model.predict(X)\n",
    "\n",
    "print(\"ML Accuracy:\", accuracy_score(df['like'], df['ml_prediction']))\n",
    "print(\"Lexicon Accuracy:\", accuracy_score(df['like'], df['new_sentiment']))\n"
   ],
   "id": "a28558223757d14e",
   "outputs": [
    {
     "name": "stdout",
     "output_type": "stream",
     "text": [
      "ML Accuracy: 0.8592964824120602\n",
      "Lexicon Accuracy: 0.4964824120603015\n"
     ]
    }
   ],
   "execution_count": 29
  },
  {
   "metadata": {},
   "cell_type": "markdown",
   "source": "Well we can see an actual ML model is much more accurate than our simple lexicons, but let us see if we can improve the model with our sentiment function. Since, we are using a small max_features (300) there may be a chance. Now let us split our data into roughly 70% training, 15% validation, and 15% testing sets.",
   "id": "64007853d97636b"
  },
  {
   "metadata": {
    "ExecuteTime": {
     "end_time": "2025-04-16T02:31:03.835008Z",
     "start_time": "2025-04-16T02:31:03.815001Z"
    }
   },
   "cell_type": "code",
   "source": [
    "df_train, df_val, df_test = transform.split_data(df, target_column = \"like\", train_size = 0.7, test_size = 0.15, random_state = 42)\n",
    "\n",
    "print(\"Train Samples:\",len(df_train), \", Validation Samples:\",len(df_val),\", Testing Samples:\", len(df_test))"
   ],
   "id": "7d18e8a754b52600",
   "outputs": [
    {
     "name": "stdout",
     "output_type": "stream",
     "text": [
      "Train Samples: 695 , Validation Samples: 150 , Testing Samples: 150\n"
     ]
    }
   ],
   "execution_count": 30
  },
  {
   "metadata": {},
   "cell_type": "markdown",
   "source": "Perfect. The data is split roughly 70, 15, 15 and now we can fit the vectorizer on our training set. Using bag of words (bow) an NLP technique that represents text by counting frequency, we can transform our validation and testing sets into the same vector.",
   "id": "5fce7bd3a1dc5106"
  },
  {
   "metadata": {
    "ExecuteTime": {
     "end_time": "2025-04-16T02:31:03.878318Z",
     "start_time": "2025-04-16T02:31:03.869583Z"
    }
   },
   "cell_type": "code",
   "source": [
    "X_train_bow, vectorizer = transform.vectorize_text(\n",
    "    df_train[\"cleaned\"],\n",
    "    method=\"count\",       # or \"tfidf\"\n",
    "    max_features=300\n",
    ")\n",
    "\n",
    "# Transform validation and test sets with the same vectorizer\n",
    "X_val_bow = vectorizer.transform(df_val[\"cleaned\"])\n",
    "X_test_bow = vectorizer.transform(df_test[\"cleaned\"])"
   ],
   "id": "4ae6cb72f8d949f3",
   "outputs": [],
   "execution_count": 31
  },
  {
   "metadata": {},
   "cell_type": "markdown",
   "source": "Now let us use our sentiment function to count the number of positive words, negative words, and sentiment score for our three sets.",
   "id": "c3b7a89bc04ace07"
  },
  {
   "metadata": {
    "ExecuteTime": {
     "end_time": "2025-04-16T02:31:04.060561Z",
     "start_time": "2025-04-16T02:31:03.910117Z"
    }
   },
   "cell_type": "code",
   "source": [
    "df_train[['pos_count', 'neg_count', 'sentiment_score']] = df_train['cleaned'].apply(\n",
    "    lambda x: pd.Series(transform.sentiment_features(\n",
    "        x, filename='../data/Restaurant_Lexicon.json')))\n",
    "\n",
    "df_val[['pos_count', 'neg_count', 'sentiment_score']] = df_val['cleaned'].apply(\n",
    "    lambda x: pd.Series(transform.sentiment_features(\n",
    "        x, filename='../data/Restaurant_Lexicon.json')))\n",
    "\n",
    "df_test[['pos_count', 'neg_count', 'sentiment_score']] = df_test['cleaned'].apply(\n",
    "    lambda x: pd.Series(transform.sentiment_features(\n",
    "        x, filename='../data/Restaurant_Lexicon.json')))\n"
   ],
   "id": "e7dd2f8ab49c9cea",
   "outputs": [],
   "execution_count": 32
  },
  {
   "metadata": {},
   "cell_type": "markdown",
   "source": "Since we are using a multinomial model which does not accept negative values, we will shift our scores to be non-negative.",
   "id": "da37a5f5b9d57c50"
  },
  {
   "metadata": {
    "ExecuteTime": {
     "end_time": "2025-04-16T02:31:04.065330Z",
     "start_time": "2025-04-16T02:31:04.063176Z"
    }
   },
   "cell_type": "code",
   "source": [
    "# Remove Negative Sentiment Scores\n",
    "min_score = min(df_train['sentiment_score'].min(),\n",
    "                df_val['sentiment_score'].min(),\n",
    "                df_test['sentiment_score'].min())\n",
    "\n",
    "if min_score < 0:\n",
    "    df_train['sentiment_score'] += abs(min_score)\n",
    "    df_val['sentiment_score'] += abs(min_score)\n",
    "    df_test['sentiment_score'] += abs(min_score)"
   ],
   "id": "f31fbfaf73ee9d60",
   "outputs": [],
   "execution_count": 33
  },
  {
   "metadata": {},
   "cell_type": "markdown",
   "source": [
    "Here we will convert our training, validation, and testing matrices to a numpy array. Then, we cancreate numpy arrays for the positive count, negative count, and sentiment score of our three sets and combine them with our BOW. The format would look something like [BOW, pos_count, neg_count, sentiment_score]\n",
    "The target arrays of all three sets are defined from the \"like\" column of our dataframes."
   ],
   "id": "793e6b605f068498"
  },
  {
   "metadata": {
    "ExecuteTime": {
     "end_time": "2025-04-16T02:31:04.090202Z",
     "start_time": "2025-04-16T02:31:04.085846Z"
    }
   },
   "cell_type": "code",
   "source": [
    "X_train_bow = X_train_bow.toarray()\n",
    "X_val_bow   = X_val_bow.toarray()\n",
    "X_test_bow  = X_test_bow.toarray()\n",
    "\n",
    "X_train_lex = df_train[[\"pos_count\", \"neg_count\", \"sentiment_score\"]].values\n",
    "X_val_lex   = df_val[[\"pos_count\", \"neg_count\", \"sentiment_score\"]].values\n",
    "X_test_lex  = df_test[[\"pos_count\", \"neg_count\", \"sentiment_score\"]].values\n",
    "\n",
    "X_train_combined = np.hstack((X_train_bow, X_train_lex))\n",
    "X_val_combined   = np.hstack((X_val_bow,   X_val_lex))\n",
    "X_test_combined  = np.hstack((X_test_bow,  X_test_lex))\n",
    "\n",
    "y_train = df_train[\"like\"]\n",
    "y_val   = df_val[\"like\"]\n",
    "y_test  = df_test[\"like\"]"
   ],
   "id": "f1eb96287fdec833",
   "outputs": [],
   "execution_count": 34
  },
  {
   "metadata": {},
   "cell_type": "markdown",
   "source": "Now we will again use a Naive Bayes Multinomial model to train the model with our lexicon features.",
   "id": "9fadc4b131af5b4b"
  },
  {
   "metadata": {
    "ExecuteTime": {
     "end_time": "2025-04-16T02:31:04.141309Z",
     "start_time": "2025-04-16T02:31:04.133160Z"
    }
   },
   "cell_type": "code",
   "source": [
    "model = MultinomialNB()\n",
    "model.fit(X_train_combined, y_train)\n",
    "\n",
    "y_val_pred = model.predict(X_val_combined)\n",
    "val_accuracy = accuracy_score(y_val, y_val_pred)\n",
    "print(\"Validation Accuracy (with Lexicon features):\", val_accuracy)\n",
    "\n",
    "# 3) Finally, check the test set\n",
    "y_test_pred = model.predict(X_test_combined)\n",
    "test_accuracy = accuracy_score(y_test, y_test_pred)\n",
    "print(\"Test Accuracy (with Lexicon features):\", test_accuracy)"
   ],
   "id": "aa5520373b90a0a6",
   "outputs": [
    {
     "name": "stdout",
     "output_type": "stream",
     "text": [
      "Validation Accuracy (with Lexicon features): 0.84\n",
      "Test Accuracy (with Lexicon features): 0.7733333333333333\n"
     ]
    }
   ],
   "execution_count": 35
  },
  {
   "metadata": {
    "ExecuteTime": {
     "end_time": "2025-04-16T02:31:04.154261Z",
     "start_time": "2025-04-16T02:31:04.153035Z"
    }
   },
   "cell_type": "code",
   "source": "",
   "id": "b3a3e65f0664a2f1",
   "outputs": [],
   "execution_count": null
  }
 ],
 "metadata": {
  "kernelspec": {
   "name": "python3",
   "language": "python",
   "display_name": "Python 3 (ipykernel)"
  }
 },
 "nbformat": 5,
 "nbformat_minor": 9
}
